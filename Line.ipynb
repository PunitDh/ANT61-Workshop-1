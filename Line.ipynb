{
 "cells": [
  {
   "cell_type": "code",
   "execution_count": 1,
   "id": "db16de64",
   "metadata": {},
   "outputs": [],
   "source": [
    "import numpy as np\n",
    "from matplotlib import pyplot as plt \n",
    "\n",
    "def floor(num):\n",
    "    return int(num)\n",
    "# end floor\n",
    "\n",
    "def ceil(num):\n",
    "    return int(num)+1\n",
    "# end ceil\n",
    "\n",
    "def matrix_draw_line(w, h, start, end, aa=False):\n",
    "    if (w <= 0 or h <= 0):\n",
    "        return None\n",
    "    else:\n",
    "        matrix = np.zeros((w,h), dtype='float32')\n",
    "        steps = []\n",
    "        nums = max(abs(end[0]-start[0])+1, abs(end[1]-start[1])+1)\n",
    "        xstep = np.linspace(start[0],end[0],num=nums,endpoint=True)\n",
    "        ystep = np.linspace(start[1],end[1],num=nums,endpoint=True)\n",
    "\n",
    "        for i, item in enumerate(xstep):\n",
    "            steps.append((item, ystep[i]))\n",
    "        # end for\n",
    "        \n",
    "        print(steps)\n",
    "\n",
    "        for coord in steps:\n",
    "            if not aa:\n",
    "                matrix[round(coord[0]), round(coord[1])] = 1\n",
    "            else:\n",
    "                coord_check = (coord[0]==int(coord[0])) and (coord[1]==int(coord[1]))\n",
    "                if coord_check:\n",
    "                    matrix[round(coord[0]), round(coord[1])] = 1\n",
    "                else:\n",
    "                    transparency = coord[0] + coord[1] - int(coord[0]) - int(coord[1])\n",
    "                    matrix[floor(coord[0]), floor(coord[1])] = 1 - transparency\n",
    "                    matrix[ceil(coord[0]), ceil(coord[1])] = transparency\n",
    "                # end if\n",
    "            # end if\n",
    "        # end for\n",
    "        return matrix\n",
    "    # end if\n",
    "# end matrix_draw_line\n",
    "\n",
    "\n",
    "\n",
    "# def matrix_draw_line_antialiasing(w,h, start, end, aa=False):\n",
    "#     if (w <= 0 or h <= 0):\n",
    "#         return None\n",
    "#     else:\n",
    "#         matrix = np.zeros((w,h), dtype='float32')\n",
    "#         steps = []\n",
    "#         nums = max(abs(end[0]-start[0])+1, abs(end[1]-start[1])+1)\n",
    "#         xstep = np.linspace(start[0],end[0],num=nums,endpoint=True)\n",
    "#         ystep = np.linspace(start[1],end[1],num=nums,endpoint=True)\n",
    "        \n",
    "#         for i, item in enumerate(xstep):\n",
    "#             steps.append((item, ystep[i]))\n",
    "        \n",
    "#         for coord in steps:\n",
    "#             coord_check = (coord[0]==int(coord[0])) and (coord[1]==int(coord[1]))\n",
    "#             if coord_check:\n",
    "#                 matrix[int(coord[0]), int(coord[1])] = 1\n",
    "#             else:\n",
    "#                 transparency = coord[0] + coord[1] - int(coord[0]) - int(coord[1])\n",
    "#                 matrix[int(coord[0]), int(coord[1])] = 1 - transparency\n",
    "#                 matrix[int(coord[0])+1, int(coord[1])+1] = transparency\n",
    "#             # end if\n",
    "#         # end for\n",
    "        \n",
    "#         return matrix\n",
    "# # end matrix_draw_line_antialiasing\n",
    "\n",
    "\n",
    "\n",
    "# def interpolation(d, x):\n",
    "#     output = d[0][1] + (x - d[0][0]) * ((d[1][1] - d[0][1])/(d[1][0] - d[0][0]))\n",
    "#     return output\n",
    "# # end interpolation"
   ]
  },
  {
   "cell_type": "code",
   "execution_count": 2,
   "id": "9fb83394",
   "metadata": {},
   "outputs": [
    {
     "name": "stdout",
     "output_type": "stream",
     "text": [
      "[(0.0, 1.0), (1.0, 1.6666666666666665), (2.0, 2.333333333333333), (3.0, 3.0), (4.0, 3.6666666666666665), (5.0, 4.333333333333333), (6.0, 5.0), (7.0, 5.666666666666666), (8.0, 6.333333333333333), (9.0, 7.0)]\n",
      "[[0. 1. 0. 0. 0. 0. 0. 0. 0. 0.]\n",
      " [0. 0. 1. 0. 0. 0. 0. 0. 0. 0.]\n",
      " [0. 0. 1. 0. 0. 0. 0. 0. 0. 0.]\n",
      " [0. 0. 0. 1. 0. 0. 0. 0. 0. 0.]\n",
      " [0. 0. 0. 0. 1. 0. 0. 0. 0. 0.]\n",
      " [0. 0. 0. 0. 1. 0. 0. 0. 0. 0.]\n",
      " [0. 0. 0. 0. 0. 1. 0. 0. 0. 0.]\n",
      " [0. 0. 0. 0. 0. 0. 1. 0. 0. 0.]\n",
      " [0. 0. 0. 0. 0. 0. 1. 0. 0. 0.]\n",
      " [0. 0. 0. 0. 0. 0. 0. 1. 0. 0.]]\n"
     ]
    },
    {
     "data": {
      "text/plain": [
       "<matplotlib.image.AxesImage at 0x7f49fa01e4f0>"
      ]
     },
     "execution_count": 2,
     "metadata": {},
     "output_type": "execute_result"
    },
    {
     "data": {
      "image/png": "[encoded data removed]",
      "text/plain": [
       "<Figure size 288x288 with 1 Axes>"
      ]
     },
     "metadata": {
      "needs_background": "light"
     },
     "output_type": "display_data"
    }
   ],
   "source": [
    "w = 10\n",
    "h = 10\n",
    "start = (0,1)\n",
    "end = (9,7)\n",
    "\n",
    "line_matrix = matrix_draw_line(w,h,start,end)\n",
    "print(line_matrix)\n",
    "plt.matshow(line_matrix)"
   ]
  },
  {
   "cell_type": "code",
   "execution_count": 3,
   "id": "a7f218c0",
   "metadata": {},
   "outputs": [
    {
     "name": "stdout",
     "output_type": "stream",
     "text": [
      "[(0.0, 1.0), (1.0, 1.6666666666666665), (2.0, 2.333333333333333), (3.0, 3.0), (4.0, 3.6666666666666665), (5.0, 4.333333333333333), (6.0, 5.0), (7.0, 5.666666666666666), (8.0, 6.333333333333333), (9.0, 7.0)]\n",
      "[[0.         1.         0.         0.         0.         0.\n",
      "  0.         0.         0.         0.        ]\n",
      " [0.         0.33333334 0.         0.         0.         0.\n",
      "  0.         0.         0.         0.        ]\n",
      " [0.         0.         0.6666667  0.         0.         0.\n",
      "  0.         0.         0.         0.        ]\n",
      " [0.         0.         0.         1.         0.         0.\n",
      "  0.         0.         0.         0.        ]\n",
      " [0.         0.         0.         0.33333334 0.         0.\n",
      "  0.         0.         0.         0.        ]\n",
      " [0.         0.         0.         0.         0.6666667  0.\n",
      "  0.         0.         0.         0.        ]\n",
      " [0.         0.         0.         0.         0.         1.\n",
      "  0.         0.         0.         0.        ]\n",
      " [0.         0.         0.         0.         0.         0.33333334\n",
      "  0.         0.         0.         0.        ]\n",
      " [0.         0.         0.         0.         0.         0.\n",
      "  0.6666667  0.         0.         0.        ]\n",
      " [0.         0.         0.         0.         0.         0.\n",
      "  0.         1.         0.         0.        ]]\n"
     ]
    },
    {
     "data": {
      "text/plain": [
       "<matplotlib.image.AxesImage at 0x7f49f9778e80>"
      ]
     },
     "execution_count": 3,
     "metadata": {},
     "output_type": "execute_result"
    },
    {
     "data": {
      "image/png": "[encoded data removed]",
      "text/plain": [
       "<Figure size 288x288 with 1 Axes>"
      ]
     },
     "metadata": {
      "needs_background": "light"
     },
     "output_type": "display_data"
    }
   ],
   "source": [
    "line_matrix_antialiasing = matrix_draw_line(w,h,start,end,aa=True)\n",
    "print(line_matrix_antialiasing)\n",
    "plt.matshow(line_matrix_antialiasing)"
   ]
  }
 ],
 "metadata": {
  "kernelspec": {
   "display_name": "Python 3 (ipykernel)",
   "language": "python",
   "name": "python3"
  },
  "language_info": {
   "codemirror_mode": {
    "name": "ipython",
    "version": 3
   },
   "file_extension": ".py",
   "mimetype": "text/x-python",
   "name": "python",
   "nbconvert_exporter": "python",
   "pygments_lexer": "ipython3",
   "version": "3.8.11"
  }
 },
 "nbformat": 4,
 "nbformat_minor": 5
}
