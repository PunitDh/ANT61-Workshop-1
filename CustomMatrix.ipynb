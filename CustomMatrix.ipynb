{
 "cells": [
  {
   "cell_type": "code",
   "execution_count": 1,
   "id": "d4b1afb3",
   "metadata": {},
   "outputs": [],
   "source": [
    "from Stack import Stack\n",
    "\n",
    "class Matrix:\n",
    "    def __init__(self, matrix=[]):\n",
    "        self.matrix = matrix\n",
    "        self.cols = len(matrix[0])\n",
    "        self.rows = len(matrix)\n",
    "        self.dimensions = (self.rows, self.cols)\n",
    "    # end __init__\n",
    "    \n",
    "    def check_valid(self):\n",
    "        row_lengths = Stack(list=[])\n",
    "        for row in self.matrix:\n",
    "            row_lengths.push(len(row))\n",
    "        # end for\n",
    "        return (len(row_lengths.uniq())==1)\n",
    "    # end check_valid\n",
    "    \n",
    "    def transpose(self):\n",
    "        new_matrix = []\n",
    "        \n",
    "        for i in range(0,self.cols):\n",
    "            new_row = []\n",
    "            for j in range(0,self.rows):\n",
    "                new_row.append(self.matrix[j][i])\n",
    "            # end for\n",
    "            new_matrix.append(new_row)\n",
    "        # end for\n",
    "        return new_matrix\n",
    "    # end transpose\n",
    "    \n",
    "    def row(self,num):\n",
    "        if num >= self.rows:\n",
    "            return None\n",
    "        else:\n",
    "            return self.matrix[num]\n",
    "        # end if\n",
    "    # end row\n",
    "    \n",
    "    def col(self,num):\n",
    "        ncol = []\n",
    "        if num >= self.cols:\n",
    "            return None\n",
    "        else:\n",
    "            for row in self.matrix:\n",
    "                ncol.append(row[num])\n",
    "            # end for\n",
    "        # end if\n",
    "        return ncol\n",
    "    # end col\n",
    "    \n",
    "    def flatten(self):\n",
    "        flattened_matrix = []\n",
    "        \n",
    "        for row in self.matrix:\n",
    "            for col in row:\n",
    "                flattened_matrix.append(col)\n",
    "            # end for\n",
    "        # end for\n",
    "        return flattened_matrix\n",
    "    # end flatten\n",
    "    \n",
    "    def find_coords(self,item):\n",
    "        coords = []\n",
    "        for i,row in enumerate(self.matrix):\n",
    "            for j,col in enumerate(row):\n",
    "                if item == col:\n",
    "                    coords.append((i,j))\n",
    "                # end if\n",
    "            # end for\n",
    "        # end for\n",
    "        return coords\n",
    "    # end find_coords\n",
    "    \n",
    "    def find_matrix(self,matrix):\n",
    "        coords = []\n",
    "    # end find_matrix\n",
    "    \n",
    "# end Matrix"
   ]
  },
  {
   "cell_type": "code",
   "execution_count": 2,
   "id": "28ae84b9",
   "metadata": {},
   "outputs": [],
   "source": [
    "valid_matrix = Matrix(matrix=[\n",
    "    [1,9,3],\n",
    "    [4,2,6],\n",
    "    [6,4,3]])\n",
    "\n",
    "invalid_matrix = Matrix(matrix=[\n",
    "    [1,2,3],\n",
    "    [2,6,-4,5],\n",
    "    [7,8,9]])\n",
    "\n",
    "token_matrix = Matrix(matrix=[[2,6],[4,3]])"
   ]
  },
  {
   "cell_type": "code",
   "execution_count": 3,
   "id": "7692fece",
   "metadata": {
    "scrolled": true
   },
   "outputs": [
    {
     "name": "stdout",
     "output_type": "stream",
     "text": [
      "True\n",
      "False\n"
     ]
    }
   ],
   "source": [
    "print(valid_matrix.check_valid())\n",
    "print(invalid_matrix.check_valid())"
   ]
  },
  {
   "cell_type": "code",
   "execution_count": 4,
   "id": "062e38f7",
   "metadata": {},
   "outputs": [
    {
     "name": "stdout",
     "output_type": "stream",
     "text": [
      "3\n",
      "3\n",
      "(3, 3)\n"
     ]
    }
   ],
   "source": [
    "print(valid_matrix.rows)\n",
    "print(valid_matrix.cols)\n",
    "print(valid_matrix.dimensions)"
   ]
  },
  {
   "cell_type": "code",
   "execution_count": 5,
   "id": "f78398c5",
   "metadata": {
    "scrolled": true
   },
   "outputs": [
    {
     "name": "stdout",
     "output_type": "stream",
     "text": [
      "[(0, 2), (2, 2)]\n",
      "[]\n"
     ]
    }
   ],
   "source": [
    "print(valid_matrix.find_coords(3))\n",
    "print(valid_matrix.find_coords(12))"
   ]
  },
  {
   "cell_type": "code",
   "execution_count": 6,
   "id": "bfbc65ba",
   "metadata": {},
   "outputs": [
    {
     "name": "stdout",
     "output_type": "stream",
     "text": [
      "[1, 9, 3, 4, 2, 6, 6, 4, 3]\n"
     ]
    }
   ],
   "source": [
    "print(valid_matrix.flatten())"
   ]
  },
  {
   "cell_type": "code",
   "execution_count": 7,
   "id": "2e219682",
   "metadata": {},
   "outputs": [
    {
     "name": "stdout",
     "output_type": "stream",
     "text": [
      "[[1, 4, 6], [9, 2, 4], [3, 6, 3]]\n"
     ]
    }
   ],
   "source": [
    "print(valid_matrix.transpose())"
   ]
  },
  {
   "cell_type": "code",
   "execution_count": 8,
   "id": "78fa8941",
   "metadata": {},
   "outputs": [
    {
     "name": "stdout",
     "output_type": "stream",
     "text": [
      "[1, 9, 3]\n",
      "None\n",
      "[1, 4, 6]\n",
      "None\n"
     ]
    }
   ],
   "source": [
    "print(valid_matrix.row(0))\n",
    "print(valid_matrix.row(3))\n",
    "print(valid_matrix.col(0))\n",
    "print(valid_matrix.col(3))"
   ]
  },
  {
   "cell_type": "code",
   "execution_count": null,
   "id": "c0f58596",
   "metadata": {},
   "outputs": [],
   "source": []
  },
  {
   "cell_type": "code",
   "execution_count": null,
   "id": "3f334556",
   "metadata": {},
   "outputs": [],
   "source": []
  }
 ],
 "metadata": {
  "interpreter": {
   "hash": "916dbcbb3f70747c44a77c7bcd40155683ae19c65e1c03b4aa3499c5328201f1"
  },
  "kernelspec": {
   "display_name": "Python 3 (ipykernel)",
   "language": "python",
   "name": "python3"
  },
  "language_info": {
   "codemirror_mode": {
    "name": "ipython",
    "version": 3
   },
   "file_extension": ".py",
   "mimetype": "text/x-python",
   "name": "python",
   "nbconvert_exporter": "python",
   "pygments_lexer": "ipython3",
   "version": "3.8.11"
  }
 },
 "nbformat": 4,
 "nbformat_minor": 5
}
