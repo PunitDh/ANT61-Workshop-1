{
 "cells": [
  {
   "cell_type": "code",
   "execution_count": 1,
   "id": "c3518e97",
   "metadata": {},
   "outputs": [],
   "source": [
    "import numpy as np\n",
    "\n",
    "class Matrix:\n",
    "    def __init__(self, matrix):\n",
    "        self.matrix = np.array(matrix)\n",
    "        self.dimensions = self.matrix.shape\n",
    "        self.size = self.matrix.size\n",
    "        self.rows, self.cols = self.dimensions\n",
    "    # end __init__\n",
    "    \n",
    "    def find_first_index_in(self,matrix):\n",
    "        if self.dimensions >= matrix.dimensions:\n",
    "            return None\n",
    "        else:\n",
    "            for i in range(0,matrix.rows-self.rows+1):\n",
    "                for j in range(0,matrix.cols-self.cols+1):\n",
    "                    original_matrix_part = matrix.matrix[i:(i+self.rows), j:(j+self.cols)]\n",
    "                    if np.array_equal(self.matrix, original_matrix_part):\n",
    "                        return (i,j)\n",
    "                    # end if\n",
    "                # end for\n",
    "            # end for\n",
    "            return None\n",
    "        # end if\n",
    "    # end find_first_index_in\n",
    "    \n",
    "    def find_all_indices_in(self,matrix):\n",
    "        coords = []\n",
    "        if self.dimensions >= matrix.dimensions:\n",
    "            return None\n",
    "        else:\n",
    "            for i in range(0,matrix.rows-self.rows+1):\n",
    "                for j in range(0,matrix.cols-self.cols+1):\n",
    "                    original_matrix_part = matrix.matrix[i:(i+self.rows), j:(j+self.cols)]\n",
    "                    if np.array_equal(self.matrix, original_matrix_part):\n",
    "                        coords.append((i,j))\n",
    "                    # end if\n",
    "                # end for\n",
    "            # end for\n",
    "            return coords if len(coords) > 0 else None\n",
    "        # end if\n",
    "    # end find_all_in\n",
    "    \n",
    "    def rotate_by_radians_in(self,matrix,rotation):\n",
    "        rotated_matrix = self.matrix.copy()\n",
    "        rotated_matrix = np.rot90(rotated_matrix, k=rotation*2)\n",
    "        original_matrix = matrix.matrix.copy()\n",
    "        indices = self.find_all_indices_in(matrix)\n",
    "        if indices == None:\n",
    "            return None\n",
    "        else:\n",
    "            for coords in indices:\n",
    "                original_matrix[coords[0]:coords[0]+self.rows , coords[1]:coords[1]+self.cols] = rotated_matrix\n",
    "            # end for\n",
    "            return original_matrix\n",
    "        # end if\n",
    "    # end rotate_by_in\n",
    "# end Matrix"
   ]
  },
  {
   "cell_type": "code",
   "execution_count": 2,
   "id": "9cc88721",
   "metadata": {},
   "outputs": [
    {
     "name": "stdout",
     "output_type": "stream",
     "text": [
      "(5, 5)\n"
     ]
    }
   ],
   "source": [
    "matrix = Matrix([\n",
    "    [1,2,3,9,9],\n",
    "    [4,5,6,1,2],\n",
    "    [7,8,9,4,5],\n",
    "    [7,9,9,6,5],\n",
    "    [4,1,2,7,8]\n",
    "])\n",
    "\n",
    "print(matrix.dimensions)"
   ]
  },
  {
   "cell_type": "code",
   "execution_count": 3,
   "id": "8738d84a",
   "metadata": {},
   "outputs": [
    {
     "name": "stdout",
     "output_type": "stream",
     "text": [
      "(0, 3)\n"
     ]
    }
   ],
   "source": [
    "# Matrix find first index of 2x2\n",
    "\n",
    "matA = Matrix([\n",
    "    [9,9],\n",
    "    [1,2]\n",
    "])\n",
    "\n",
    "print(matA.find_first_index_in(matrix))"
   ]
  },
  {
   "cell_type": "code",
   "execution_count": 4,
   "id": "88438f3f",
   "metadata": {},
   "outputs": [
    {
     "name": "stdout",
     "output_type": "stream",
     "text": [
      "[(0, 3), (3, 1)]\n"
     ]
    }
   ],
   "source": [
    "# Matrix find all indices of 2x2\n",
    "\n",
    "print(matA.find_all_indices_in(matrix))"
   ]
  },
  {
   "cell_type": "code",
   "execution_count": 5,
   "id": "14b87989",
   "metadata": {},
   "outputs": [
    {
     "name": "stdout",
     "output_type": "stream",
     "text": [
      "(2, 1)\n"
     ]
    }
   ],
   "source": [
    "# Matrix find first index for 3x2\n",
    "\n",
    "matB = Matrix([\n",
    "    [8,9,4],\n",
    "    [9,9,6]\n",
    "])\n",
    "\n",
    "print(matB.find_first_index_in(matrix))"
   ]
  },
  {
   "cell_type": "code",
   "execution_count": 7,
   "id": "1d7878fd",
   "metadata": {},
   "outputs": [
    {
     "name": "stdout",
     "output_type": "stream",
     "text": [
      "[[2 5 3 9 9]\n",
      " [1 4 6 2 5]\n",
      " [7 8 9 1 4]\n",
      " [7 9 9 6 5]\n",
      " [4 1 2 7 8]]\n"
     ]
    }
   ],
   "source": [
    "# Matrix Rotation\n",
    "\n",
    "matC = Matrix([\n",
    "    [1,2],\n",
    "    [4,5]\n",
    "])\n",
    "\n",
    "rotation = 0.5\n",
    "print(matC.rotate_by_radians_in(matrix,rotation))"
   ]
  },
  {
   "cell_type": "code",
   "execution_count": null,
   "id": "e2d4fcb9",
   "metadata": {},
   "outputs": [],
   "source": []
  }
 ],
 "metadata": {
  "kernelspec": {
   "display_name": "Python 3 (ipykernel)",
   "language": "python",
   "name": "python3"
  },
  "language_info": {
   "codemirror_mode": {
    "name": "ipython",
    "version": 3
   },
   "file_extension": ".py",
   "mimetype": "text/x-python",
   "name": "python",
   "nbconvert_exporter": "python",
   "pygments_lexer": "ipython3",
   "version": "3.8.11"
  }
 },
 "nbformat": 4,
 "nbformat_minor": 5
}
