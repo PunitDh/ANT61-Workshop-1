{
 "cells": [
  {
   "cell_type": "code",
   "execution_count": 1,
   "source": [
    "class Stack():\n",
    "    \n",
    "    def __init__(self, list=[]):\n",
    "        self.list = list\n",
    "    # end __init__\n",
    "    \n",
    "    def pop(self):\n",
    "        if len(self.list) == 0:\n",
    "            return None\n",
    "        else:\n",
    "            last_item = self.list[-1]\n",
    "            self.list = self.list[0:len(self.list)-1]\n",
    "            return last_item\n",
    "        # end if\n",
    "    # end pop\n",
    "    \n",
    "    def push(self, item):\n",
    "        self.list.extend(item)\n",
    "    # end push\n",
    "    \n",
    "    def max(self):\n",
    "        if len(self.list) == 0:\n",
    "            return None\n",
    "        else:\n",
    "            current_max = self.list[0]\n",
    "            for element in self.list:\n",
    "                if element > current_max:\n",
    "                    current_max = element\n",
    "                # end if\n",
    "            # end for\n",
    "            return current_max\n",
    "        # end if\n",
    "    # end max\n",
    "    \n",
    "    def isEmpty(self):\n",
    "        return (len(self.list) == 0)\n",
    "    # end isEmpty\n",
    "\n",
    "    def last(self):\n",
    "        if len(self.list) > 0:\n",
    "            return self.list[-1]\n",
    "        else:\n",
    "            return None\n",
    "        # end if\n",
    "    # end last\n",
    "\n",
    "    def first(self):\n",
    "        if len(self.list) > 0:\n",
    "            return self.list[0]\n",
    "        else:\n",
    "            return None\n",
    "        # end if\n",
    "    # end first\n",
    "\n",
    "    def length(self):\n",
    "        return len(self.list)\n",
    "    # end length\n",
    "    \n",
    "# end Stack"
   ],
   "outputs": [],
   "metadata": {}
  },
  {
   "cell_type": "code",
   "execution_count": 2,
   "source": [
    "# Declare an instance of a stack\n",
    "stack = Stack(list=['a','b','c','d','e'])"
   ],
   "outputs": [],
   "metadata": {}
  },
  {
   "cell_type": "code",
   "execution_count": 3,
   "source": [
    "# Pop the last element from the array\n",
    "print(stack.pop())"
   ],
   "outputs": [
    {
     "output_type": "stream",
     "name": "stdout",
     "text": [
      "e\n"
     ]
    }
   ],
   "metadata": {}
  },
  {
   "cell_type": "code",
   "execution_count": 4,
   "source": [
    "# Check if the pop worked correctly\n",
    "print(stack.list)"
   ],
   "outputs": [
    {
     "output_type": "stream",
     "name": "stdout",
     "text": [
      "['a', 'b', 'c', 'd']\n"
     ]
    }
   ],
   "metadata": {}
  },
  {
   "cell_type": "code",
   "execution_count": 5,
   "source": [
    "# Add a new element to the array\n",
    "stack.push('f')\n",
    "print(stack.list)"
   ],
   "outputs": [
    {
     "output_type": "stream",
     "name": "stdout",
     "text": [
      "['a', 'b', 'c', 'd', 'f']\n"
     ]
    }
   ],
   "metadata": {}
  },
  {
   "cell_type": "code",
   "execution_count": 6,
   "source": [
    "# Define a new list full of numbers\n",
    "number_stack = Stack(list=[31,78,111,345,577,23,67,23,543,234])\n",
    "\n",
    "# Print out the max number\n",
    "print(number_stack.max())"
   ],
   "outputs": [
    {
     "output_type": "stream",
     "name": "stdout",
     "text": [
      "577\n"
     ]
    }
   ],
   "metadata": {}
  },
  {
   "cell_type": "code",
   "execution_count": 7,
   "source": [
    "empty_list = Stack(list=[])\n",
    "\n",
    "print(empty_list.isEmpty())"
   ],
   "outputs": [
    {
     "output_type": "stream",
     "name": "stdout",
     "text": [
      "True\n"
     ]
    }
   ],
   "metadata": {}
  }
 ],
 "metadata": {
  "interpreter": {
   "hash": "24e23733849d75d10a972f75329203b06b1df2bea262b6790375b836aacedb16"
  },
  "kernelspec": {
   "name": "python3",
   "display_name": "Python 3.8.11 64-bit ('base': conda)"
  },
  "language_info": {
   "codemirror_mode": {
    "name": "ipython",
    "version": 3
   },
   "file_extension": ".py",
   "mimetype": "text/x-python",
   "name": "python",
   "nbconvert_exporter": "python",
   "pygments_lexer": "ipython3",
   "version": "3.8.11"
  }
 },
 "nbformat": 4,
 "nbformat_minor": 5
}