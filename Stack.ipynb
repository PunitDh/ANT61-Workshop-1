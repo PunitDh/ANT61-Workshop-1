{
 "cells": [
  {
   "cell_type": "code",
   "execution_count": 86,
   "id": "a328ae7c",
   "metadata": {},
   "outputs": [],
   "source": [
    "from MaxStack import MaxStack\n",
    "\n",
    "class Stack():\n",
    "    \n",
    "    def __init__(self, list=[]):\n",
    "        self.list = list\n",
    "        self.length = lambda: len(self.list)\n",
    "        self.isEmpty = lambda: len(self.list)==0\n",
    "        self.first = lambda: self.list[0] if not self.isEmpty() else None\n",
    "        self.last = lambda: self.list[-1] if not self.isEmpty() else None\n",
    "    # end __init__\n",
    "    \n",
    "    def pop(self):\n",
    "        if len(self.list) == 0:\n",
    "            return None\n",
    "        else:\n",
    "            last_item = self.list[-1]\n",
    "            self.list = self.list[0:len(self.list)-1]\n",
    "        # end if\n",
    "        return last_item\n",
    "    # end pop\n",
    "    \n",
    "    def push(self, item):\n",
    "        self.list.append(item)\n",
    "    # end push\n",
    "    \n",
    "    def max(self):\n",
    "        if len(self.list) == 0:\n",
    "            return None\n",
    "        else:\n",
    "            current_max = self.list[0]\n",
    "            for element in self.list:\n",
    "                if element > current_max:\n",
    "                    current_max = element\n",
    "                # end if\n",
    "            # end for\n",
    "        # end if\n",
    "        return current_max\n",
    "    # end max\n",
    "    \n",
    "    def uniq(self):\n",
    "        uniq_list = []\n",
    "        for item in self.list:\n",
    "            if not item in uniq_list:\n",
    "                uniq_list.append(item)\n",
    "            # end if\n",
    "        # end for\n",
    "        return uniq_list\n",
    "    # end uniq\n",
    "    \n",
    "# end Stack"
   ]
  },
  {
   "cell_type": "code",
   "execution_count": 87,
   "id": "858aec9a",
   "metadata": {},
   "outputs": [],
   "source": [
    "# Declare an instance of a stack\n",
    "stack = Stack(list=['a','b','c','d','e'])"
   ]
  },
  {
   "cell_type": "code",
   "execution_count": 88,
   "id": "f6706394",
   "metadata": {},
   "outputs": [
    {
     "name": "stdout",
     "output_type": "stream",
     "text": [
      "e\n"
     ]
    }
   ],
   "source": [
    "# Pop the last element from the array\n",
    "print(stack.pop())"
   ]
  },
  {
   "cell_type": "code",
   "execution_count": 89,
   "id": "6688afdd",
   "metadata": {},
   "outputs": [
    {
     "name": "stdout",
     "output_type": "stream",
     "text": [
      "['a', 'b', 'c', 'd']\n"
     ]
    }
   ],
   "source": [
    "# Check if the pop worked correctly\n",
    "print(stack.list)"
   ]
  },
  {
   "cell_type": "code",
   "execution_count": 90,
   "id": "7e325052",
   "metadata": {},
   "outputs": [
    {
     "name": "stdout",
     "output_type": "stream",
     "text": [
      "['a', 'b', 'c', 'd', 'f']\n"
     ]
    }
   ],
   "source": [
    "# Add a new element to the array\n",
    "stack.push('f')\n",
    "print(stack.list)"
   ]
  },
  {
   "cell_type": "code",
   "execution_count": 91,
   "id": "91bbce2f",
   "metadata": {},
   "outputs": [
    {
     "name": "stdout",
     "output_type": "stream",
     "text": [
      "577\n"
     ]
    }
   ],
   "source": [
    "# Define a new list full of numbers\n",
    "number_stack = Stack(list=[31,78,111,345,577,23,67,23,543,234])\n",
    "\n",
    "# Print out the max number\n",
    "print(number_stack.max())"
   ]
  },
  {
   "cell_type": "code",
   "execution_count": 92,
   "id": "39b23c3e",
   "metadata": {},
   "outputs": [
    {
     "name": "stdout",
     "output_type": "stream",
     "text": [
      "True\n"
     ]
    }
   ],
   "source": [
    "empty_list = Stack(list=[])\n",
    "\n",
    "print(empty_list.isEmpty())"
   ]
  },
  {
   "cell_type": "code",
   "execution_count": 93,
   "id": "620801e1",
   "metadata": {},
   "outputs": [
    {
     "name": "stdout",
     "output_type": "stream",
     "text": [
      "[1, 2, 3, 4, 5, 6]\n"
     ]
    }
   ],
   "source": [
    "uniq_list = Stack(list=[1,2,3,4,4,5,5,5,3,3,3,6,6,6])\n",
    "print(uniq_list.uniq())"
   ]
  },
  {
   "cell_type": "code",
   "execution_count": 94,
   "id": "5a13a144",
   "metadata": {},
   "outputs": [
    {
     "name": "stdout",
     "output_type": "stream",
     "text": [
      "1\n",
      "6\n"
     ]
    }
   ],
   "source": [
    "print(uniq_list.first())\n",
    "print(uniq_list.last())"
   ]
  },
  {
   "cell_type": "code",
   "execution_count": null,
   "id": "8e50e7cb",
   "metadata": {},
   "outputs": [],
   "source": []
  },
  {
   "cell_type": "code",
   "execution_count": null,
   "id": "4adbb658",
   "metadata": {},
   "outputs": [],
   "source": []
  }
 ],
 "metadata": {
  "interpreter": {
   "hash": "24e23733849d75d10a972f75329203b06b1df2bea262b6790375b836aacedb16"
  },
  "kernelspec": {
   "display_name": "Python 3 (ipykernel)",
   "language": "python",
   "name": "python3"
  },
  "language_info": {
   "codemirror_mode": {
    "name": "ipython",
    "version": 3
   },
   "file_extension": ".py",
   "mimetype": "text/x-python",
   "name": "python",
   "nbconvert_exporter": "python",
   "pygments_lexer": "ipython3",
   "version": "3.8.11"
  }
 },
 "nbformat": 4,
 "nbformat_minor": 5
}
