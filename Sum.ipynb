{
 "cells": [
  {
   "cell_type": "code",
   "execution_count": 14,
   "source": [
    "# Implement a program such that:\n",
    "# a1,a2,..., an are part of N (natural numbers)\n",
    "# S is the sum\n",
    "# Implement a program that would find l and r\n",
    "# Such that:\n",
    "# l >= 1\n",
    "# r is greater than l but less than the number of elements\n",
    "# Sum of all 'a' elements between l-th element all the way up to the r-th elements are equal to S\n",
    "from Queue import Queue"
   ],
   "outputs": [],
   "metadata": {}
  },
  {
   "cell_type": "code",
   "execution_count": 15,
   "source": [
    "n_list = [34,56,23,57,9,9,1,93,12,62]\n",
    "\n",
    "expected_sum = 112"
   ],
   "outputs": [],
   "metadata": {}
  },
  {
   "cell_type": "code",
   "execution_count": 16,
   "source": [
    "def range_in_sum(nlist, esum):\n",
    "    current_sum = 0\n",
    "    l = 0\n",
    "    r = 0\n",
    "    list_length = len(nlist)\n",
    "    queue = Queue(list=[])\n",
    "\n",
    "    for i in range(0,list_length):\n",
    "        current_sum = 0\n",
    "        l = i\n",
    "        r = l\n",
    "        queue.push(nlist[l])\n",
    "        while current_sum < esum:\n",
    "            r += 1\n",
    "            queue.push(nlist[r])\n",
    "            current_sum = queue.calc_sum()\n",
    "            if (current_sum == esum):\n",
    "                return (l,r)\n",
    "            elif (current_sum > esum):\n",
    "                queue = Queue(list=[])\n",
    "    \n",
    "    return None\n",
    "# end range_in_sum\n",
    "\n",
    "print(range_in_sum(n_list, expected_sum))"
   ],
   "outputs": [
    {
     "output_type": "stream",
     "name": "stdout",
     "text": [
      "(4, 7)\n"
     ]
    }
   ],
   "metadata": {}
  },
  {
   "cell_type": "code",
   "execution_count": 17,
   "source": [
    "z_list = [-3,-4,-6,2,8,4,6,-3,6,8]"
   ],
   "outputs": [],
   "metadata": {}
  },
  {
   "cell_type": "code",
   "execution_count": 18,
   "source": [
    "def max_possible_sum(nlist):\n",
    "    sum_matrix = []\n",
    "    indices = []\n",
    "    sums = []\n",
    "    current_sum = 0\n",
    "    list_length = len(nlist)\n",
    "    l = 0\n",
    "    r = 0\n",
    "\n",
    "    for i in range(0,list_length):\n",
    "        for j in range(i,list_length):\n",
    "            indices.append((i,j))\n",
    "            sums.append(sum(nlist[i:j+1]))\n",
    "    sum_matrix.append(indices)\n",
    "    sum_matrix.append(sums)\n",
    "    \n",
    "#     print(sum_matrix)\n",
    "    print(max(sums))\n",
    "    max_sum_range = sum_matrix[0][sum_matrix[1].index(max(sums))]\n",
    "        \n",
    "    return max_sum_range\n",
    "# end max_possible_sum"
   ],
   "outputs": [],
   "metadata": {}
  },
  {
   "cell_type": "code",
   "execution_count": 19,
   "source": [
    "max_possible_sum(z_list)"
   ],
   "outputs": [
    {
     "output_type": "stream",
     "name": "stdout",
     "text": [
      "31\n",
      "(3, 9)\n"
     ]
    }
   ],
   "metadata": {}
  },
  {
   "cell_type": "code",
   "execution_count": null,
   "source": [],
   "outputs": [],
   "metadata": {}
  }
 ],
 "metadata": {
  "kernelspec": {
   "name": "python3",
   "display_name": "Python 3.8.10 64-bit"
  },
  "language_info": {
   "codemirror_mode": {
    "name": "ipython",
    "version": 3
   },
   "file_extension": ".py",
   "mimetype": "text/x-python",
   "name": "python",
   "nbconvert_exporter": "python",
   "pygments_lexer": "ipython3",
   "version": "3.8.10"
  },
  "interpreter": {
   "hash": "916dbcbb3f70747c44a77c7bcd40155683ae19c65e1c03b4aa3499c5328201f1"
  }
 },
 "nbformat": 4,
 "nbformat_minor": 5
}