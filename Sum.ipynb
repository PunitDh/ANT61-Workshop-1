{
 "cells": [
  {
   "cell_type": "code",
   "execution_count": 11,
   "id": "6a509f1b",
   "metadata": {},
   "outputs": [],
   "source": [
    "# Implement a program such that:\n",
    "# a1,a2,..., an are part of N (natural numbers)\n",
    "# S is the sum\n",
    "# Implement a program that would find l and r\n",
    "# Such that:\n",
    "# l >= 1\n",
    "# r is greater than l but less than the number of elements\n",
    "# Sum of all 'a' elements between l-th element all the way up to the r-th elements are equal to S\n",
    "from Queue import Queue"
   ]
  },
  {
   "cell_type": "code",
   "execution_count": 12,
   "id": "46b983c8",
   "metadata": {},
   "outputs": [],
   "source": [
    "n_list = [34,56,23,57,9,9,1,93,12,62]\n",
    "\n",
    "expected_sum = 112"
   ]
  },
  {
   "cell_type": "code",
   "execution_count": 13,
   "id": "c83728f3",
   "metadata": {},
   "outputs": [
    {
     "name": "stdout",
     "output_type": "stream",
     "text": [
      "[34] = 34\n",
      "[34, 56] = 90\n",
      "[34, 56, 23] = 113\n",
      "[56, 23] = 79\n",
      "[56, 23, 57] = 136\n",
      "[23, 57] = 80\n",
      "[23, 57, 9] = 89\n",
      "[23, 57, 9, 9] = 98\n",
      "[23, 57, 9, 9, 1] = 99\n",
      "[23, 57, 9, 9, 1, 93] = 192\n",
      "[57, 9, 9, 1, 93] = 169\n",
      "[9, 9, 1, 93] = 112\n",
      "(4, 7)\n"
     ]
    }
   ],
   "source": [
    "def range_in_sum(nlist, esum):\n",
    "    \n",
    "    l = 0\n",
    "    r = 0\n",
    "    current_sum = 0\n",
    "    list_length = len(nlist)\n",
    "    queue = Queue(list=[])\n",
    "    \n",
    "    while current_sum < esum and l < list_length and r < list_length:\n",
    "        queue.push(nlist[r])\n",
    "        current_sum = queue.calc_sum()\n",
    "        print(str(queue.list) + \" = \" + str(current_sum))\n",
    "        \n",
    "        while current_sum > esum:\n",
    "            queue.pop()\n",
    "            l += 1\n",
    "            current_sum = queue.calc_sum()\n",
    "            print(str(queue.list) + \" = \" + str(current_sum))\n",
    "            \n",
    "            if current_sum == esum:\n",
    "                return (l,r)\n",
    "            # end if\n",
    "        # end while\n",
    "        r += 1\n",
    "    # end while\n",
    "    \n",
    "    return None\n",
    "# end range_in_sum\n",
    "\n",
    "print(range_in_sum(n_list, expected_sum))"
   ]
  },
  {
   "cell_type": "code",
   "execution_count": 14,
   "id": "ec7ae1f8",
   "metadata": {},
   "outputs": [],
   "source": [
    "# z_list = [3,-4,19,-6,2,8,4,6,-3,6,8,-30]\n",
    "# # z_list = [-30,8,6,-3,6,4,4,6,-3,6,8,-30]\n",
    "# z_list = [-5,-4,-3,-2,-1,0,1,2,3,4,5,-16,6,5,4,3,2,1,0,-1,-2,-3,-4,-5]\n",
    "# z_list = [30,20,15,-4,-4,-4,-4,-98,-98,-4,-4,-4,-4,15,20,30]\n",
    "# z_list=[-30,8,6,-3,6,4,4,6,-3,6,8,-30]\n",
    "# z_list=[-30,-118,6,-3,6,-4,-4,6,-3,6,-118,-30]\n",
    "z_list = [13, -61, 62, 44, -94, 74, 9, -62, -79, -27, 10, -96, 71, 56, 1, -30, 52, -62, -73, 86, 40, -21, -38, -63, 55, -63, 54, -95, -34, 93, 27, -6, -86, 81, -98, 2, 100, -97, -2, 33, -72, -91, 80, -33, 40, -24, -86, -19, -5, -74]\n",
    "# z_list = [-13, -61, -62, -44, -94, -74, -9, -62, -79, -27, -10, -96, -71, -56, -1, -30, -52, -62, -73, -86, -40, -21, -38, -63, -55, -63, -54, -95, -34, -93, -27, -6, -86, -81, -98, -2, -100, -97, -2, -33, -72, -91, -80, -33, -40, -24, -86, -19, -5, -74]"
   ]
  },
  {
   "cell_type": "code",
   "execution_count": 15,
   "id": "da696c8d",
   "metadata": {},
   "outputs": [],
   "source": [
    "def max_possible_sum_old(nlist):\n",
    "    sum_matrix = []\n",
    "    indices = []\n",
    "    sums = []\n",
    "    current_sum = 0\n",
    "    list_length = len(nlist)\n",
    "    l = 0\n",
    "    r = 0\n",
    "\n",
    "    for i in range(0,list_length):\n",
    "        for j in range(i,list_length):\n",
    "            indices.append((i,j))\n",
    "            sums.append(sum(nlist[i:j+1]))\n",
    "    sum_matrix.append(indices)\n",
    "    sum_matrix.append(sums)\n",
    "    \n",
    "#     print(sum_matrix)\n",
    "    print(max(sums))\n",
    "    max_sum_range = sum_matrix[0][sum_matrix[1].index(max(sums))]\n",
    "        \n",
    "    return max_sum_range\n",
    "# end max_possible_sum"
   ]
  },
  {
   "cell_type": "code",
   "execution_count": 16,
   "id": "435e9b23",
   "metadata": {},
   "outputs": [
    {
     "name": "stdout",
     "output_type": "stream",
     "text": [
      "150\n"
     ]
    },
    {
     "data": {
      "text/plain": [
       "(12, 16)"
      ]
     },
     "execution_count": 16,
     "metadata": {},
     "output_type": "execute_result"
    }
   ],
   "source": [
    "max_possible_sum_old(z_list)"
   ]
  },
  {
   "cell_type": "code",
   "execution_count": 17,
   "id": "20407cbc",
   "metadata": {},
   "outputs": [],
   "source": [
    "def max_possible_sum(nlist):\n",
    "    l = 0\n",
    "    r = len(nlist)-1\n",
    "    length = len(nlist)\n",
    "    sums = [[],[]]\n",
    "    current_max_sum = 0\n",
    "    \n",
    "\n",
    "    while r-l > 0:\n",
    "        sums[0].append(sum(nlist[l:r+1]))\n",
    "        sums[1].append((l,r))\n",
    "        if nlist[l] < nlist[r]:\n",
    "            l += 1\n",
    "        elif nlist[l] > nlist[r]:\n",
    "            r -= 1\n",
    "        else:\n",
    "            l += 1\n",
    "            r -= 1\n",
    "        print(\"l=\"+str(l)+\", r=\"+str(r) + \", sum=\"+str(sum(nlist[l:r+1])))\n",
    "    if l == 0 or nlist[l-1] < nlist[l]:\n",
    "        print(\"l=\"+str(l)+\", r=\"+str(r) + \", sum=\"+str(sum(nlist[l:r+1])))\n",
    "        while r < length:\n",
    "            sums[0].append(sum(nlist[l:r+1]))\n",
    "            sums[1].append((l,r))\n",
    "            r += 1\n",
    "    elif r == length-1 or nlist[r+1] < nlist[r]:\n",
    "        print(\"l=\"+str(l)+\", r=\"+str(r) + \", sum=\"+str(sum(nlist[l:r+1])))\n",
    "        while l >= 0:\n",
    "            sums[0].append(sum(nlist[l:r+1]))\n",
    "            sums[1].append((l,r))\n",
    "            l -= 1\n",
    "    else:\n",
    "        print(max(sums[0]))\n",
    "        return sums[1][sums[0].index(max(sums[0]))]\n",
    "    \n",
    "    print(max(sums[0]))\n",
    "    return sums[1][sums[0].index(max(sums[0]))]\n",
    "    \n",
    "    \n",
    "# end max_possible_sum"
   ]
  },
  {
   "cell_type": "code",
   "execution_count": 18,
   "id": "7d1a8707",
   "metadata": {},
   "outputs": [
    {
     "name": "stdout",
     "output_type": "stream",
     "text": [
      "l=0, r=48, sum=-434\n",
      "l=0, r=47, sum=-429\n",
      "l=0, r=46, sum=-410\n",
      "l=0, r=45, sum=-324\n",
      "l=0, r=44, sum=-300\n",
      "l=1, r=44, sum=-313\n",
      "l=2, r=44, sum=-252\n",
      "l=2, r=43, sum=-292\n",
      "l=2, r=42, sum=-259\n",
      "l=3, r=42, sum=-321\n",
      "l=4, r=42, sum=-365\n",
      "l=5, r=42, sum=-271\n",
      "l=6, r=42, sum=-345\n",
      "l=7, r=42, sum=-354\n",
      "l=8, r=42, sum=-292\n",
      "l=9, r=42, sum=-213\n",
      "l=10, r=42, sum=-186\n",
      "l=11, r=42, sum=-196\n",
      "l=12, r=42, sum=-100\n",
      "l=13, r=42, sum=-171\n",
      "l=14, r=42, sum=-227\n",
      "l=15, r=42, sum=-228\n",
      "l=16, r=42, sum=-198\n",
      "l=17, r=42, sum=-250\n",
      "l=18, r=42, sum=-188\n",
      "l=19, r=42, sum=-115\n",
      "l=19, r=41, sum=-195\n",
      "l=19, r=40, sum=-104\n",
      "l=19, r=39, sum=-32\n",
      "l=19, r=38, sum=-65\n",
      "l=19, r=37, sum=-63\n",
      "l=19, r=36, sum=34\n",
      "l=20, r=36, sum=-52\n",
      "l=21, r=36, sum=-92\n",
      "l=22, r=36, sum=-71\n",
      "l=23, r=36, sum=-33\n",
      "l=24, r=36, sum=30\n",
      "l=25, r=36, sum=-25\n",
      "l=26, r=36, sum=38\n",
      "l=27, r=36, sum=-16\n",
      "l=28, r=36, sum=79\n",
      "l=29, r=36, sum=113\n",
      "l=30, r=36, sum=20\n",
      "l=31, r=36, sum=-7\n",
      "l=32, r=36, sum=-1\n",
      "l=33, r=36, sum=85\n",
      "l=34, r=36, sum=4\n",
      "l=35, r=36, sum=102\n",
      "l=36, r=36, sum=100\n",
      "l=36, r=36, sum=100\n",
      "113\n"
     ]
    },
    {
     "data": {
      "text/plain": [
       "(29, 36)"
      ]
     },
     "execution_count": 18,
     "metadata": {},
     "output_type": "execute_result"
    }
   ],
   "source": [
    "max_possible_sum(z_list)"
   ]
  },
  {
   "cell_type": "code",
   "execution_count": 19,
   "id": "a4faa3e0",
   "metadata": {},
   "outputs": [],
   "source": [
    "def max_possible_sum_o_n(nlist):\n",
    "    l = 0\n",
    "    r = 0\n",
    "    s = 0\n",
    "    current_max_sum = -99999999999999999999999999999999999999999999999\n",
    "    max_end = 0\n",
    "    length = len(nlist)\n",
    "    \n",
    "    for i in range(0,length):\n",
    "        max_end += nlist[i]\n",
    "        \n",
    "        if current_max_sum < max_end:\n",
    "            current_max_sum = max_end\n",
    "            l = s\n",
    "            r = i\n",
    "        \n",
    "        if max_end < 0:\n",
    "            max_end = 0\n",
    "            s = i + 1\n",
    "            \n",
    "    return (l,r)\n",
    "# end max_possible_sum"
   ]
  },
  {
   "cell_type": "code",
   "execution_count": 20,
   "id": "72e1d63b",
   "metadata": {},
   "outputs": [
    {
     "data": {
      "text/plain": [
       "(12, 16)"
      ]
     },
     "execution_count": 20,
     "metadata": {},
     "output_type": "execute_result"
    }
   ],
   "source": [
    "max_possible_sum_o_n(z_list)"
   ]
  },
  {
   "cell_type": "code",
   "execution_count": null,
   "id": "d3924a90",
   "metadata": {},
   "outputs": [],
   "source": []
  }
 ],
 "metadata": {
  "interpreter": {
   "hash": "916dbcbb3f70747c44a77c7bcd40155683ae19c65e1c03b4aa3499c5328201f1"
  },
  "kernelspec": {
   "display_name": "Python 3 (ipykernel)",
   "language": "python",
   "name": "python3"
  },
  "language_info": {
   "codemirror_mode": {
    "name": "ipython",
    "version": 3
   },
   "file_extension": ".py",
   "mimetype": "text/x-python",
   "name": "python",
   "nbconvert_exporter": "python",
   "pygments_lexer": "ipython3",
   "version": "3.8.11"
  }
 },
 "nbformat": 4,
 "nbformat_minor": 5
}
