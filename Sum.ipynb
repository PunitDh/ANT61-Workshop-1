{
 "cells": [
  {
   "cell_type": "code",
   "execution_count": 1,
   "id": "6a509f1b",
   "metadata": {},
   "outputs": [],
   "source": [
    "# Implement a program such that:\n",
    "# a1,a2,..., an are part of N (natural numbers)\n",
    "# S is the sum\n",
    "# Implement a program that would find l and r\n",
    "# Such that:\n",
    "# l >= 1\n",
    "# r is greater than l but less than the number of elements\n",
    "# Sum of all 'a' elements between l-th element all the way up to the r-th elements are equal to S\n",
    "from Queue import Queue"
   ]
  },
  {
   "cell_type": "code",
   "execution_count": 2,
   "id": "46b983c8",
   "metadata": {},
   "outputs": [],
   "source": [
    "n_list = [34,56,23,57,9,9,1,93,12,62]\n",
    "\n",
    "expected_sum = 112"
   ]
  },
  {
   "cell_type": "code",
   "execution_count": 3,
   "id": "c83728f3",
   "metadata": {},
   "outputs": [
    {
     "name": "stdout",
     "output_type": "stream",
     "text": [
      "(4, 7)\n"
     ]
    }
   ],
   "source": [
    "def range_in_sum(nlist, esum):\n",
    "    \n",
    "    l = 0\n",
    "    r = 0\n",
    "    current_sum = 0\n",
    "    list_length = len(nlist)\n",
    "    queue = Queue(list=[])\n",
    "    \n",
    "    while current_sum < esum and l < list_length and r < list_length:\n",
    "        queue.push(nlist[r])\n",
    "        current_sum = queue.calc_sum()\n",
    "        print(str(queue.list) + \" = \" + str(current_sum))\n",
    "        \n",
    "        while current_sum > esum:\n",
    "            queue.pop()\n",
    "            l += 1\n",
    "            current_sum = queue.calc_sum()\n",
    "            print(str(queue.list) + \" = \" + str(current_sum))\n",
    "            \n",
    "            if current_sum == esum:\n",
    "                return (l,r)\n",
    "            # end if\n",
    "        # end while\n",
    "        r += 1\n",
    "    # end while\n",
    "    \n",
    "    return None\n",
    "# end range_in_sum\n",
    "\n",
    "print(range_in_sum(n_list, expected_sum))"
   ]
  },
  {
   "cell_type": "code",
   "execution_count": 4,
   "id": "ec7ae1f8",
   "metadata": {},
   "outputs": [],
   "source": [
    "z_list = [3,-4,19,-6,2,8,4,6,-3,6,8,-30]\n",
    "# z_list = [-30,8,6,-3,6,4,4,6,-3,6,8,-30]\n",
    "z_list = [-5,-4,-3,-2,-1,0,1,2,3,4,5,-16,6,5,4,3,2,1,0,-1,-2,-3,-4,-5]"
   ]
  },
  {
   "cell_type": "code",
   "execution_count": 5,
   "id": "da696c8d",
   "metadata": {},
   "outputs": [],
   "source": [
    "def max_possible_sum_old(nlist):\n",
    "    sum_matrix = []\n",
    "    indices = []\n",
    "    sums = []\n",
    "    current_sum = 0\n",
    "    list_length = len(nlist)\n",
    "    l = 0\n",
    "    r = 0\n",
    "\n",
    "    for i in range(0,list_length):\n",
    "        for j in range(i,list_length):\n",
    "            indices.append((i,j))\n",
    "            sums.append(sum(nlist[i:j+1]))\n",
    "    sum_matrix.append(indices)\n",
    "    sum_matrix.append(sums)\n",
    "    \n",
    "#     print(sum_matrix)\n",
    "    print(max(sums))\n",
    "    max_sum_range = sum_matrix[0][sum_matrix[1].index(max(sums))]\n",
    "        \n",
    "    return max_sum_range\n",
    "# end max_possible_sum"
   ]
  },
  {
   "cell_type": "code",
   "execution_count": 6,
   "id": "435e9b23",
   "metadata": {},
   "outputs": [
    {
     "name": "stdout",
     "output_type": "stream",
     "text": [
      "21\n"
     ]
    },
    {
     "data": {
      "text/plain": [
       "(12, 17)"
      ]
     },
     "execution_count": 6,
     "metadata": {},
     "output_type": "execute_result"
    }
   ],
   "source": [
    "max_possible_sum_old(z_list)"
   ]
  },
  {
   "cell_type": "code",
   "execution_count": 7,
   "id": "20407cbc",
   "metadata": {},
   "outputs": [],
   "source": [
    "def max_possible_sum(nlist):\n",
    "    l = 0\n",
    "    r = len(nlist)-1\n",
    "    length = len(nlist)\n",
    "    sums = [[],[]]\n",
    "    current_max_sum = 0\n",
    "    \n",
    "\n",
    "    while r-l > 0:\n",
    "        sums[0].append(sum(nlist[l:r+1]))\n",
    "        sums[1].append((l,r))\n",
    "        if nlist[l] < nlist[r]:\n",
    "            l += 1\n",
    "        elif nlist[l] > nlist[r]:\n",
    "            r -= 1\n",
    "        else:\n",
    "            l += 1\n",
    "            r -= 1\n",
    "    if l == 0 or nlist[l-1] < nlist[l]:\n",
    "        while r < length:\n",
    "            sums[0].append(sum(nlist[l:r+1]))\n",
    "            sums[1].append((l,r))\n",
    "            r += 1\n",
    "    elif r == length-1 or nlist[r+1] < nlist[r]:\n",
    "        while l >= 0:\n",
    "            sums[0].append(sum(nlist[l:r+1]))\n",
    "            sums[1].append((l,r))\n",
    "            l -= 1\n",
    "            \n",
    "    \n",
    "    print(max(sums[0]))\n",
    "    return sums[1][sums[0].index(max(sums[0]))]\n",
    "    \n",
    "    \n",
    "# end max_possible_sum"
   ]
  },
  {
   "cell_type": "code",
   "execution_count": 8,
   "id": "7d1a8707",
   "metadata": {},
   "outputs": [
    {
     "name": "stdout",
     "output_type": "stream",
     "text": [
      "21\n"
     ]
    },
    {
     "data": {
      "text/plain": [
       "(12, 17)"
      ]
     },
     "execution_count": 8,
     "metadata": {},
     "output_type": "execute_result"
    }
   ],
   "source": [
    "max_possible_sum(z_list)"
   ]
  },
  {
   "cell_type": "code",
   "execution_count": null,
   "id": "3d244a7c",
   "metadata": {},
   "outputs": [],
   "source": []
  },
  {
   "cell_type": "code",
   "execution_count": null,
   "id": "7906f9cb",
   "metadata": {},
   "outputs": [],
   "source": []
  },
  {
   "cell_type": "code",
   "execution_count": null,
   "id": "d487ee1e",
   "metadata": {},
   "outputs": [],
   "source": []
  }
 ],
 "metadata": {
  "interpreter": {
   "hash": "916dbcbb3f70747c44a77c7bcd40155683ae19c65e1c03b4aa3499c5328201f1"
  },
  "kernelspec": {
   "display_name": "Python 3 (ipykernel)",
   "language": "python",
   "name": "python3"
  },
  "language_info": {
   "codemirror_mode": {
    "name": "ipython",
    "version": 3
   },
   "file_extension": ".py",
   "mimetype": "text/x-python",
   "name": "python",
   "nbconvert_exporter": "python",
   "pygments_lexer": "ipython3",
   "version": "3.8.11"
  }
 },
 "nbformat": 4,
 "nbformat_minor": 5
}
