{
 "cells": [
  {
   "cell_type": "code",
   "execution_count": 1,
   "id": "ac3a2a5a",
   "metadata": {},
   "outputs": [],
   "source": [
    "# Implement a program such that:\n",
    "# a1,a2,..., an are part of N (natural numbers)\n",
    "# S is the sum\n",
    "# Implement a program that would find l and r\n",
    "# Such that:\n",
    "# l >= 1\n",
    "# r is greater than l but less than the number of elements\n",
    "# Sum of all 'a' elements between l-th element all the way up to the r-th elements are equal to S\n",
    "from Queue import Queue"
   ]
  },
  {
   "cell_type": "code",
   "execution_count": 19,
   "id": "4f2fc920",
   "metadata": {},
   "outputs": [],
   "source": [
    "n_list = [34,56,23,57,9,9,1,93,12,62]\n",
    "\n",
    "expected_sum = 112"
   ]
  },
  {
   "cell_type": "code",
   "execution_count": 20,
   "id": "caa56745",
   "metadata": {},
   "outputs": [
    {
     "name": "stdout",
     "output_type": "stream",
     "text": [
      "[34, 56, 23, 57, 9, 9, 1, 93, 12, 62]\n"
     ]
    }
   ],
   "source": [
    "print(n_list)"
   ]
  },
  {
   "cell_type": "code",
   "execution_count": 32,
   "id": "930e435a",
   "metadata": {},
   "outputs": [
    {
     "name": "stdout",
     "output_type": "stream",
     "text": [
      "(4, 7)\n"
     ]
    }
   ],
   "source": [
    "def range_in_sum(nlist, esum):\n",
    "    current_sum = 0\n",
    "    l = 0\n",
    "    r = 0\n",
    "    list_length = len(nlist)\n",
    "    queue = Queue(list=[])\n",
    "\n",
    "    for i in range(0,list_length):\n",
    "        current_sum = 0\n",
    "        l = i\n",
    "        r = l\n",
    "        queue.push(nlist[l])\n",
    "        while current_sum < esum:\n",
    "            r += 1\n",
    "            queue.push(nlist[r])\n",
    "            current_sum = queue.calc_sum()\n",
    "            if (current_sum == esum):\n",
    "                return (l,r)\n",
    "            elif (current_sum > esum):\n",
    "                queue = Queue(list=[])\n",
    "    \n",
    "    return None\n",
    "# end range_in_sum\n",
    "\n",
    "print(range_in_sum(n_list, expected_sum))"
   ]
  },
  {
   "cell_type": "code",
   "execution_count": 33,
   "id": "f100bf4d",
   "metadata": {},
   "outputs": [],
   "source": [
    "z_list = [-3,-4,-6,2,8,4,6,-3,6,8]"
   ]
  },
  {
   "cell_type": "code",
   "execution_count": 73,
   "id": "25596134",
   "metadata": {},
   "outputs": [],
   "source": [
    "def max_possible_sum(nlist):\n",
    "    sum_matrix = []\n",
    "    indices = []\n",
    "    sums = []\n",
    "    current_sum = 0\n",
    "    list_length = len(nlist)\n",
    "    l = 0\n",
    "    r = 0\n",
    "\n",
    "    for i in range(0,list_length):\n",
    "        for j in range(i,list_length):\n",
    "            indices.append((i,j))\n",
    "            sums.append(sum(nlist[i:j+1]))\n",
    "    sum_matrix.append(indices)\n",
    "    sum_matrix.append(sums)\n",
    "    \n",
    "#     print(sum_matrix)\n",
    "    print(max(sums))\n",
    "    print(sum_matrix[0][sum_matrix[1].index(max(sums))])\n",
    "        \n",
    "    return None\n",
    "# end max_possible_sum"
   ]
  },
  {
   "cell_type": "code",
   "execution_count": 74,
   "id": "b881f7ea",
   "metadata": {},
   "outputs": [
    {
     "name": "stdout",
     "output_type": "stream",
     "text": [
      "31\n",
      "(3, 9)\n"
     ]
    }
   ],
   "source": [
    "max_possible_sum(z_list)"
   ]
  },
  {
   "cell_type": "code",
   "execution_count": null,
   "id": "614e631f",
   "metadata": {},
   "outputs": [],
   "source": []
  }
 ],
 "metadata": {
  "kernelspec": {
   "display_name": "Python 3 (ipykernel)",
   "language": "python",
   "name": "python3"
  },
  "language_info": {
   "codemirror_mode": {
    "name": "ipython",
    "version": 3
   },
   "file_extension": ".py",
   "mimetype": "text/x-python",
   "name": "python",
   "nbconvert_exporter": "python",
   "pygments_lexer": "ipython3",
   "version": "3.8.11"
  }
 },
 "nbformat": 4,
 "nbformat_minor": 5
}
