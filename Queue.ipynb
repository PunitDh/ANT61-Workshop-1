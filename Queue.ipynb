{
 "cells": [
  {
   "cell_type": "code",
   "execution_count": 2,
   "id": "c3f530b6",
   "metadata": {},
   "outputs": [],
   "source": [
    "from MaxStack import MaxStack\n",
    "\n",
    "class Queue:\n",
    "    \n",
    "    def __init__(self, list=[]):\n",
    "        self.list = list\n",
    "        self.length = lambda: len(list)\n",
    "        self.max_stack = MaxStack(list)\n",
    "    # end __init__\n",
    "    \n",
    "    def pop(self):\n",
    "        if len(self.list) == 0:\n",
    "            return None\n",
    "        else:\n",
    "            first_element = self.list[0]\n",
    "            del(self.list[0])\n",
    "            self.max_stack.pop()\n",
    "            return first_element\n",
    "        # end if\n",
    "    # end pop\n",
    "    \n",
    "    def push(self,item):\n",
    "        self.list.append(item)\n",
    "        self.max_stack.push(item)\n",
    "    # end push\n",
    "    \n",
    "    def calc_sum(self):\n",
    "        current_sum = 0\n",
    "        for element in self.list:\n",
    "            current_sum += element\n",
    "        # end for\n",
    "        return current_sum\n",
    "    # end sum\n",
    "    \n",
    "    def max(self):\n",
    "        return self.max_stack.max()\n",
    "    # end max\n",
    "    \n",
    "# end Queue"
   ]
  },
  {
   "cell_type": "code",
   "execution_count": 12,
   "id": "c8d99e90",
   "metadata": {},
   "outputs": [],
   "source": [
    "# Declare an instance of a queue\n",
    "queue = Queue(['a','b','c','d','e'])"
   ]
  },
  {
   "cell_type": "code",
   "execution_count": 13,
   "id": "0bd34ba7",
   "metadata": {},
   "outputs": [
    {
     "name": "stdout",
     "output_type": "stream",
     "text": [
      "a\n"
     ]
    }
   ],
   "source": [
    "# Pop the first element in the queue\n",
    "print(queue.pop())"
   ]
  },
  {
   "cell_type": "code",
   "execution_count": 14,
   "id": "6c7d71f0",
   "metadata": {},
   "outputs": [
    {
     "name": "stdout",
     "output_type": "stream",
     "text": [
      "['b', 'c', 'd', 'e']\n"
     ]
    }
   ],
   "source": [
    "# Check if the pop worked correctly\n",
    "print(queue.list)"
   ]
  },
  {
   "cell_type": "code",
   "execution_count": 15,
   "id": "3f72a59b",
   "metadata": {},
   "outputs": [
    {
     "name": "stdout",
     "output_type": "stream",
     "text": [
      "['b', 'c', 'd', 'e', 'f']\n"
     ]
    }
   ],
   "source": [
    "# Push a new element to the back of the queue\n",
    "queue.push('f')\n",
    "print(queue.list)"
   ]
  },
  {
   "cell_type": "code",
   "execution_count": 16,
   "id": "7d6ac583",
   "metadata": {},
   "outputs": [
    {
     "name": "stdout",
     "output_type": "stream",
     "text": [
      "754\n"
     ]
    }
   ],
   "source": [
    "# Declare a queue of numbers\n",
    "number_queue = Queue(list=[324,278,323,567,234,754,673])\n",
    "\n",
    "# Print the largest number\n",
    "print(number_queue.max())"
   ]
  },
  {
   "cell_type": "code",
   "execution_count": 17,
   "id": "9f7e38bf",
   "metadata": {},
   "outputs": [
    {
     "name": "stdout",
     "output_type": "stream",
     "text": [
      "7822\n"
     ]
    }
   ],
   "source": [
    "# Define a new list full of numbers\n",
    "number_queue = Queue([312,7822,111,345,577,2312,67,23,543,234])\n",
    "\n",
    "# Print out the max number\n",
    "print(number_queue.max())"
   ]
  },
  {
   "cell_type": "code",
   "execution_count": null,
   "id": "86e8e6a4",
   "metadata": {},
   "outputs": [],
   "source": []
  }
 ],
 "metadata": {
  "interpreter": {
   "hash": "24e23733849d75d10a972f75329203b06b1df2bea262b6790375b836aacedb16"
  },
  "kernelspec": {
   "display_name": "Python 3 (ipykernel)",
   "language": "python",
   "name": "python3"
  },
  "language_info": {
   "codemirror_mode": {
    "name": "ipython",
    "version": 3
   },
   "file_extension": ".py",
   "mimetype": "text/x-python",
   "name": "python",
   "nbconvert_exporter": "python",
   "pygments_lexer": "ipython3",
   "version": "3.8.11"
  }
 },
 "nbformat": 4,
 "nbformat_minor": 5
}
