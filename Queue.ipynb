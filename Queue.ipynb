{
 "cells": [
  {
   "cell_type": "code",
   "execution_count": 1,
   "source": [
    "class Queue:\n",
    "    \n",
    "    def __init__(self, list=[]):\n",
    "        self.list = list\n",
    "    # end __init__\n",
    "    \n",
    "    def pop(self):\n",
    "        first_element = self.list[0]\n",
    "        self.list = self.list[1:len(self.list)]\n",
    "        return first_element\n",
    "    # end pop\n",
    "    \n",
    "    def push(self,item):\n",
    "        self.list.extend(item)\n",
    "    # end push\n",
    "    \n",
    "    def max(self):\n",
    "        current_max = self.list[0]\n",
    "        for element in self.list:\n",
    "            if element > current_max:\n",
    "                current_max = element\n",
    "            # end if\n",
    "        # end for\n",
    "        return current_max\n",
    "    # end max\n",
    "    \n",
    "# end Queue"
   ],
   "outputs": [],
   "metadata": {}
  },
  {
   "cell_type": "code",
   "execution_count": 2,
   "source": [
    "# Declare an instance of a queue\n",
    "queue = Queue(list=['a','b','c','d','e'])"
   ],
   "outputs": [],
   "metadata": {}
  },
  {
   "cell_type": "code",
   "execution_count": 3,
   "source": [
    "# Pop the first element in the queue\n",
    "print(queue.pop())"
   ],
   "outputs": [
    {
     "output_type": "stream",
     "name": "stdout",
     "text": [
      "a\n"
     ]
    }
   ],
   "metadata": {}
  },
  {
   "cell_type": "code",
   "execution_count": 4,
   "source": [
    "# Check if the pop worked correctly\n",
    "print(queue.list)"
   ],
   "outputs": [
    {
     "output_type": "stream",
     "name": "stdout",
     "text": [
      "['b', 'c', 'd', 'e']\n"
     ]
    }
   ],
   "metadata": {}
  },
  {
   "cell_type": "code",
   "execution_count": 5,
   "source": [
    "# Push a new element to the back of the queue\n",
    "queue.push('f')\n",
    "print(queue.list)"
   ],
   "outputs": [
    {
     "output_type": "stream",
     "name": "stdout",
     "text": [
      "['b', 'c', 'd', 'e', 'f']\n"
     ]
    }
   ],
   "metadata": {}
  },
  {
   "cell_type": "code",
   "execution_count": 6,
   "source": [
    "# Declare a queue of numbers\n",
    "number_queue = Queue(list=[324,278,323,567,234,754,673])\n",
    "\n",
    "# Print the largest number\n",
    "print(number_queue.max())"
   ],
   "outputs": [
    {
     "output_type": "stream",
     "name": "stdout",
     "text": [
      "754\n"
     ]
    }
   ],
   "metadata": {}
  }
 ],
 "metadata": {
  "kernelspec": {
   "name": "python3",
   "display_name": "Python 3.8.11 64-bit ('base': conda)"
  },
  "language_info": {
   "codemirror_mode": {
    "name": "ipython",
    "version": 3
   },
   "file_extension": ".py",
   "mimetype": "text/x-python",
   "name": "python",
   "nbconvert_exporter": "python",
   "pygments_lexer": "ipython3",
   "version": "3.8.11"
  },
  "interpreter": {
   "hash": "24e23733849d75d10a972f75329203b06b1df2bea262b6790375b836aacedb16"
  }
 },
 "nbformat": 4,
 "nbformat_minor": 5
}