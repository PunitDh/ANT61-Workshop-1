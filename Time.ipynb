{
 "cells": [
  {
   "cell_type": "code",
   "execution_count": 1,
   "id": "58da1789",
   "metadata": {},
   "outputs": [],
   "source": [
    "import time\n",
    "import random\n",
    "import gc\n",
    "from Stack import Stack\n",
    "from Queue import Queue\n",
    "from Bracket import *\n",
    "from Sum import *\n",
    "import numpy as np\n",
    "import matplotlib.pyplot as plt\n",
    "\n",
    "gc.disable()"
   ]
  },
  {
   "cell_type": "code",
   "execution_count": 2,
   "id": "4ff955f8",
   "metadata": {},
   "outputs": [],
   "source": [
    "def measure_time(callback, *arguments):\n",
    "    stack_times = []\n",
    "    sample_sizes = [1000,2000,3000,4000,5000,6000,7000,8000,9000,10000]\n",
    "    number_lists = []\n",
    "    function_times = []\n",
    "    for size in sample_sizes:\n",
    "        number_lists.append(Stack(list=list(np.random.randint(low=0,high=100,size=size))))\n",
    "    # end for\n",
    "    for number_list in number_lists:\n",
    "        start_time = time.time()\n",
    "        callback(*arguments)\n",
    "        time_taken = time.time() - start_time\n",
    "        function_times.append(time_taken)\n",
    "    # end for\n",
    "    plt.scatter(sample_sizes, function_times)\n",
    "    plt.show()\n",
    "# end measure_time"
   ]
  },
  {
   "cell_type": "code",
   "execution_count": 3,
   "id": "0122a45a",
   "metadata": {},
   "outputs": [],
   "source": [
    "sample_sizes = [50,100,150,200,250,300,350,400,450,500,550,600,650,700,750,800,850,900,950,1000]"
   ]
  },
  {
   "cell_type": "code",
   "execution_count": 4,
   "id": "2cd44027",
   "metadata": {},
   "outputs": [
    {
     "data": {
      "image/png": "[encoded data removed]",
      "text/plain": [
       "<Figure size 432x288 with 1 Axes>"
      ]
     },
     "metadata": {
      "needs_background": "light"
     },
     "output_type": "display_data"
    }
   ],
   "source": [
    "# Stack.push\n",
    "\n",
    "stack_times = []\n",
    "number_lists = []\n",
    "function_times = []\n",
    "for size in sample_sizes:\n",
    "    number_lists.append(Stack(list=list(np.random.randint(low=0,high=100,size=size))))\n",
    "# end for\n",
    "for number_list in number_lists:\n",
    "    start_time = time.time()\n",
    "    number_list.push(1)\n",
    "    time_taken = time.time() - start_time\n",
    "    function_times.append(time_taken)\n",
    "# end for\n",
    "plt.scatter(sample_sizes, function_times)\n",
    "plt.show()"
   ]
  },
  {
   "cell_type": "code",
   "execution_count": 5,
   "id": "103f8d43",
   "metadata": {},
   "outputs": [
    {
     "data": {
      "image/png": "[encoded data removed]",
      "text/plain": [
       "<Figure size 432x288 with 1 Axes>"
      ]
     },
     "metadata": {
      "needs_background": "light"
     },
     "output_type": "display_data"
    }
   ],
   "source": [
    "# Stack.pop\n",
    "\n",
    "stack_times = []\n",
    "number_lists = []\n",
    "function_times = []\n",
    "for size in sample_sizes:\n",
    "    number_lists.append(Stack(list=list(np.random.randint(low=0,high=100,size=size))))\n",
    "# end for\n",
    "for number_list in number_lists:\n",
    "    start_time = time.time()\n",
    "    number_list.pop()\n",
    "    time_taken = time.time() - start_time\n",
    "    function_times.append(time_taken)\n",
    "# end for\n",
    "plt.scatter(sample_sizes, function_times)\n",
    "plt.show()"
   ]
  },
  {
   "cell_type": "code",
   "execution_count": 6,
   "id": "866dd217",
   "metadata": {},
   "outputs": [
    {
     "data": {
      "image/png": "[encoded data removed]",
      "text/plain": [
       "<Figure size 432x288 with 1 Axes>"
      ]
     },
     "metadata": {
      "needs_background": "light"
     },
     "output_type": "display_data"
    }
   ],
   "source": [
    "# Stack.max\n",
    "\n",
    "stack_times = []\n",
    "number_lists = []\n",
    "function_times = []\n",
    "for size in sample_sizes:\n",
    "    number_lists.append(Stack(list=list(np.random.randint(low=0,high=100,size=size))))\n",
    "# end for\n",
    "for number_list in number_lists:\n",
    "    start_time = time.time()\n",
    "    number_list.max()\n",
    "    time_taken = time.time() - start_time\n",
    "    function_times.append(time_taken)\n",
    "# end for\n",
    "plt.scatter(sample_sizes, function_times)\n",
    "plt.show()"
   ]
  },
  {
   "cell_type": "code",
   "execution_count": 7,
   "id": "cb6773ee",
   "metadata": {},
   "outputs": [
    {
     "data": {
      "image/png": "[encoded data removed]",
      "text/plain": [
       "<Figure size 432x288 with 1 Axes>"
      ]
     },
     "metadata": {
      "needs_background": "light"
     },
     "output_type": "display_data"
    }
   ],
   "source": [
    "# Queue.push\n",
    "\n",
    "stack_times = []\n",
    "number_lists = []\n",
    "function_times = []\n",
    "for size in sample_sizes:\n",
    "    number_lists.append(Queue(list=list(np.random.randint(low=0,high=100,size=size))))\n",
    "# end for\n",
    "for number_list in number_lists:\n",
    "    start_time = time.time()\n",
    "    number_list.push(1)\n",
    "    time_taken = time.time() - start_time\n",
    "    function_times.append(time_taken)\n",
    "# end for\n",
    "plt.scatter(sample_sizes, function_times)\n",
    "plt.show()"
   ]
  },
  {
   "cell_type": "code",
   "execution_count": 8,
   "id": "6438275b",
   "metadata": {},
   "outputs": [
    {
     "data": {
      "image/png": "[encoded data removed]",
      "text/plain": [
       "<Figure size 432x288 with 1 Axes>"
      ]
     },
     "metadata": {
      "needs_background": "light"
     },
     "output_type": "display_data"
    }
   ],
   "source": [
    "# Queue.pop\n",
    "\n",
    "stack_times = []\n",
    "number_lists = []\n",
    "function_times = []\n",
    "for size in sample_sizes:\n",
    "    number_lists.append(Queue(list=list(np.random.randint(low=0,high=100,size=size))))\n",
    "# end for\n",
    "for number_list in number_lists:\n",
    "    start_time = time.time()\n",
    "    number_list.pop()\n",
    "    time_taken = time.time() - start_time\n",
    "    function_times.append(time_taken)\n",
    "# end for\n",
    "plt.scatter(sample_sizes, function_times)\n",
    "plt.show()"
   ]
  },
  {
   "cell_type": "code",
   "execution_count": 9,
   "id": "a5b59646",
   "metadata": {},
   "outputs": [
    {
     "data": {
      "image/png": "[encoded data removed]",
      "text/plain": [
       "<Figure size 432x288 with 1 Axes>"
      ]
     },
     "metadata": {
      "needs_background": "light"
     },
     "output_type": "display_data"
    }
   ],
   "source": [
    "# Queue.max\n",
    "\n",
    "stack_times = []\n",
    "number_lists = []\n",
    "function_times = []\n",
    "for size in sample_sizes:\n",
    "    number_lists.append(Queue(list=list(np.random.randint(low=0,high=100,size=size))))\n",
    "# end for\n",
    "for number_list in number_lists:\n",
    "    start_time = time.time()\n",
    "    number_list.max()\n",
    "    time_taken = time.time() - start_time\n",
    "    function_times.append(time_taken)\n",
    "# end for\n",
    "plt.scatter(sample_sizes, function_times)\n",
    "plt.show()"
   ]
  },
  {
   "cell_type": "code",
   "execution_count": 10,
   "id": "2ed159a7",
   "metadata": {},
   "outputs": [
    {
     "data": {
      "image/png": "[encoded data removed]",
      "text/plain": [
       "<Figure size 432x288 with 1 Axes>"
      ]
     },
     "metadata": {
      "needs_background": "light"
     },
     "output_type": "display_data"
    }
   ],
   "source": [
    "characters = \"abcdefghijklmnopqrstuvwxyzABCDEFGHIJKLMNOPQRSTUVWXYZ{}[](){}[](){}[](){}[]()1234567890\"\n",
    "\n",
    "stack_times = []\n",
    "string_lists = []\n",
    "function_times = []\n",
    "\n",
    "for size in sample_sizes:\n",
    "    string = \"\"\n",
    "    for i in range(0,size):\n",
    "        string += random.choice(characters)\n",
    "    string_lists.append(String(string))\n",
    "# end for\n",
    "\n",
    "for string_list in string_lists:\n",
    "    start_time = time.time()\n",
    "    string_list.is_correct()\n",
    "    time_taken = time.time() - start_time\n",
    "    function_times.append(time_taken)\n",
    "# end for\n",
    "plt.scatter(sample_sizes, function_times)\n",
    "plt.show()"
   ]
  },
  {
   "cell_type": "code",
   "execution_count": 11,
   "id": "920c86f4",
   "metadata": {},
   "outputs": [
    {
     "data": {
      "image/png": "[encoded data removed]",
      "text/plain": [
       "<Figure size 432x288 with 1 Axes>"
      ]
     },
     "metadata": {
      "needs_background": "light"
     },
     "output_type": "display_data"
    }
   ],
   "source": [
    "# Sums\n",
    "\n",
    "stack_times = []\n",
    "number_lists = [[],[]]\n",
    "function_times = []\n",
    "for size in sample_sizes:\n",
    "    n = []\n",
    "    for i in range(0,size):\n",
    "        n.append(random.randint(1, 100))\n",
    "    number_lists[0].append(n)\n",
    "    l = random.randint(0,size)\n",
    "    rsum = sum(n[l:l+4])\n",
    "    number_lists[1].append(rsum)\n",
    "# end for\n",
    "\n",
    "for idx,number_list in enumerate(number_lists[0]):\n",
    "    start_time = time.time()\n",
    "    range_in_sum(number_list, number_lists[1][idx])\n",
    "    time_taken = time.time() - start_time\n",
    "    function_times.append(time_taken)\n",
    "# end for\n",
    "plt.scatter(sample_sizes, function_times)\n",
    "plt.show()"
   ]
  },
  {
   "cell_type": "code",
   "execution_count": 12,
   "id": "c3476c77",
   "metadata": {},
   "outputs": [
    {
     "data": {
      "image/png": "[encoded data removed]",
      "text/plain": [
       "<Figure size 432x288 with 1 Axes>"
      ]
     },
     "metadata": {
      "needs_background": "light"
     },
     "output_type": "display_data"
    }
   ],
   "source": [
    "# The old max sum function\n",
    "\n",
    "stack_times = []\n",
    "number_lists = []\n",
    "function_times = []\n",
    "for size in sample_sizes:\n",
    "    n = []\n",
    "    for i in range(0,size):\n",
    "        n.append(random.randint(-100, 100))\n",
    "    number_lists.append(n)\n",
    "    \n",
    "# end for\n",
    "\n",
    "\n",
    "for number_list in number_lists:\n",
    "    start_time = time.time()\n",
    "    max_possible_sum_old(number_list)\n",
    "    time_taken = time.time() - start_time\n",
    "    function_times.append(time_taken)\n",
    "# end for\n",
    "plt.scatter(sample_sizes, function_times)\n",
    "plt.show()"
   ]
  },
  {
   "cell_type": "code",
   "execution_count": 13,
   "id": "9a66e0e1",
   "metadata": {},
   "outputs": [
    {
     "data": {
      "image/png": "[encoded data removed]",
      "text/plain": [
       "<Figure size 432x288 with 1 Axes>"
      ]
     },
     "metadata": {
      "needs_background": "light"
     },
     "output_type": "display_data"
    }
   ],
   "source": [
    "# The new max sum function\n",
    "function_times = []\n",
    "\n",
    "for number_list in number_lists:\n",
    "    start_time = time.time()\n",
    "    max_possible_sum(number_list)\n",
    "    time_taken = time.time() - start_time\n",
    "    function_times.append(time_taken)\n",
    "# end for\n",
    "plt.scatter(sample_sizes, function_times)\n",
    "plt.show()"
   ]
  },
  {
   "cell_type": "code",
   "execution_count": null,
   "id": "c6dc5e9c",
   "metadata": {},
   "outputs": [],
   "source": []
  }
 ],
 "metadata": {
  "kernelspec": {
   "display_name": "Python 3 (ipykernel)",
   "language": "python",
   "name": "python3"
  },
  "language_info": {
   "codemirror_mode": {
    "name": "ipython",
    "version": 3
   },
   "file_extension": ".py",
   "mimetype": "text/x-python",
   "name": "python",
   "nbconvert_exporter": "python",
   "pygments_lexer": "ipython3",
   "version": "3.8.11"
  }
 },
 "nbformat": 4,
 "nbformat_minor": 5
}
