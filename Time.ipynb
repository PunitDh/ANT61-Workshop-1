{
 "cells": [
  {
   "cell_type": "code",
   "execution_count": 2,
   "id": "58da1789",
   "metadata": {},
   "outputs": [],
   "source": [
    "import time\n",
    "import random\n",
    "import gc\n",
    "from Stack import Stack\n",
    "from Queue import Queue\n",
    "from Bracket import *\n",
    "from Sum import *\n",
    "import numpy as np\n",
    "import matplotlib.pyplot as plt\n",
    "\n",
    "gc.disable()"
   ]
  },
  {
   "cell_type": "code",
   "execution_count": 3,
   "id": "4ff955f8",
   "metadata": {},
   "outputs": [],
   "source": [
    "def measure_time(callback, *arguments):\n",
    "    stack_times = []\n",
    "    sample_sizes = [1000,2000,3000,4000,5000,6000,7000,8000,9000,10000]\n",
    "    number_lists = []\n",
    "    function_times = []\n",
    "    for size in sample_sizes:\n",
    "        number_lists.append(Stack(list=list(np.random.randint(low=0,high=100,size=size))))\n",
    "    # end for\n",
    "    for number_list in number_lists:\n",
    "        start_time = time.time()\n",
    "        callback(*arguments)\n",
    "        time_taken = time.time() - start_time\n",
    "        function_times.append(time_taken)\n",
    "    # end for\n",
    "    plt.scatter(sample_sizes, function_times)\n",
    "    plt.show()\n",
    "# end measure_time"
   ]
  },
  {
   "cell_type": "code",
   "execution_count": 4,
   "id": "0122a45a",
   "metadata": {},
   "outputs": [
    {
     "name": "stdout",
     "output_type": "stream",
     "text": [
      "[50, 75, 100, 125, 150, 175, 200, 225, 250, 275, 300, 325, 350, 375, 400, 425, 450, 475, 500, 525, 550, 575, 600, 625, 650, 675, 700, 725, 750, 775, 800, 825, 850, 875, 900, 925, 950, 975, 1000]\n"
     ]
    }
   ],
   "source": [
    "sample_sizes = []\n",
    "\n",
    "min_value = 50\n",
    "max_value = 1000\n",
    "step_size = 25\n",
    "\n",
    "for i in range(min_value, max_value+step_size, step_size):\n",
    "    sample_sizes.append(i)\n",
    "print(sample_sizes)\n"
   ]
  },
  {
   "cell_type": "code",
   "execution_count": 5,
   "id": "2cd44027",
   "metadata": {},
   "outputs": [
    {
     "data": {
      "image/png": "[encoded data removed]",
      "text/plain": [
       "<Figure size 432x288 with 1 Axes>"
      ]
     },
     "metadata": {
      "needs_background": "light"
     },
     "output_type": "display_data"
    }
   ],
   "source": [
    "# Stack.push\n",
    "\n",
    "stack_times = []\n",
    "number_lists = []\n",
    "function_times = []\n",
    "for size in sample_sizes:\n",
    "    number_lists.append(Stack(list=list(np.random.randint(low=0,high=100,size=size))))\n",
    "# end for\n",
    "for number_list in number_lists:\n",
    "    start_time = time.time()\n",
    "    number_list.push(1)\n",
    "    time_taken = time.time() - start_time\n",
    "    function_times.append(time_taken)\n",
    "# end for\n",
    "plt.scatter(sample_sizes, function_times)\n",
    "plt.show()"
   ]
  },
  {
   "cell_type": "code",
   "execution_count": 6,
   "id": "103f8d43",
   "metadata": {},
   "outputs": [
    {
     "data": {
      "image/png": "[encoded data removed]",
      "text/plain": [
       "<Figure size 432x288 with 1 Axes>"
      ]
     },
     "metadata": {
      "needs_background": "light"
     },
     "output_type": "display_data"
    }
   ],
   "source": [
    "# Stack.pop\n",
    "\n",
    "stack_times = []\n",
    "number_lists = []\n",
    "function_times = []\n",
    "for size in sample_sizes:\n",
    "    number_lists.append(Stack(list=list(np.random.randint(low=0,high=100,size=size))))\n",
    "# end for\n",
    "for number_list in number_lists:\n",
    "    start_time = time.time()\n",
    "    number_list.pop()\n",
    "    time_taken = time.time() - start_time\n",
    "    function_times.append(time_taken)\n",
    "# end for\n",
    "plt.scatter(sample_sizes, function_times)\n",
    "plt.show()"
   ]
  },
  {
   "cell_type": "code",
   "execution_count": 7,
   "id": "866dd217",
   "metadata": {},
   "outputs": [
    {
     "data": {
      "image/png": "[encoded data removed]",
      "text/plain": [
       "<Figure size 432x288 with 1 Axes>"
      ]
     },
     "metadata": {
      "needs_background": "light"
     },
     "output_type": "display_data"
    }
   ],
   "source": [
    "# Stack.max\n",
    "\n",
    "stack_times = []\n",
    "number_lists = []\n",
    "function_times = []\n",
    "for size in sample_sizes:\n",
    "    number_lists.append(Stack(list=list(np.random.randint(low=0,high=100,size=size))))\n",
    "# end for\n",
    "for number_list in number_lists:\n",
    "    start_time = time.time()\n",
    "    number_list.max()\n",
    "    time_taken = time.time() - start_time\n",
    "    function_times.append(time_taken)\n",
    "# end for\n",
    "plt.scatter(sample_sizes, function_times)\n",
    "plt.show()"
   ]
  },
  {
   "cell_type": "code",
   "execution_count": 8,
   "id": "cb6773ee",
   "metadata": {},
   "outputs": [
    {
     "data": {
      "image/png": "[encoded data removed]",
      "text/plain": [
       "<Figure size 432x288 with 1 Axes>"
      ]
     },
     "metadata": {
      "needs_background": "light"
     },
     "output_type": "display_data"
    }
   ],
   "source": [
    "# Queue.push\n",
    "\n",
    "stack_times = []\n",
    "number_lists = []\n",
    "function_times = []\n",
    "for size in sample_sizes:\n",
    "    number_lists.append(Queue(list=list(np.random.randint(low=0,high=100,size=size))))\n",
    "# end for\n",
    "for number_list in number_lists:\n",
    "    start_time = time.time()\n",
    "    number_list.push(1)\n",
    "    time_taken = time.time() - start_time\n",
    "    function_times.append(time_taken)\n",
    "# end for\n",
    "plt.scatter(sample_sizes, function_times)\n",
    "plt.show()"
   ]
  },
  {
   "cell_type": "code",
   "execution_count": 9,
   "id": "6438275b",
   "metadata": {},
   "outputs": [
    {
     "data": {
      "image/png": "[encoded data removed]",
      "text/plain": [
       "<Figure size 432x288 with 1 Axes>"
      ]
     },
     "metadata": {
      "needs_background": "light"
     },
     "output_type": "display_data"
    }
   ],
   "source": [
    "# Queue.pop\n",
    "\n",
    "stack_times = []\n",
    "number_lists = []\n",
    "function_times = []\n",
    "for size in sample_sizes:\n",
    "    number_lists.append(Queue(list=list(np.random.randint(low=0,high=100,size=size))))\n",
    "# end for\n",
    "for number_list in number_lists:\n",
    "    start_time = time.time()\n",
    "    number_list.pop()\n",
    "    time_taken = time.time() - start_time\n",
    "    function_times.append(time_taken)\n",
    "# end for\n",
    "plt.scatter(sample_sizes, function_times)\n",
    "plt.show()"
   ]
  },
  {
   "cell_type": "code",
   "execution_count": 10,
   "id": "a5b59646",
   "metadata": {},
   "outputs": [
    {
     "data": {
      "image/png": "[encoded data removed]",
      "text/plain": [
       "<Figure size 432x288 with 1 Axes>"
      ]
     },
     "metadata": {
      "needs_background": "light"
     },
     "output_type": "display_data"
    }
   ],
   "source": [
    "# Queue.max\n",
    "\n",
    "stack_times = []\n",
    "number_lists = []\n",
    "function_times = []\n",
    "for size in sample_sizes:\n",
    "    number_lists.append(Queue(list=list(np.random.randint(low=0,high=100,size=size))))\n",
    "# end for\n",
    "for number_list in number_lists:\n",
    "    start_time = time.time()\n",
    "    number_list.max()\n",
    "    time_taken = time.time() - start_time\n",
    "    function_times.append(time_taken)\n",
    "# end for\n",
    "plt.scatter(sample_sizes, function_times)\n",
    "plt.show()"
   ]
  },
  {
   "cell_type": "code",
   "execution_count": 11,
   "id": "2ed159a7",
   "metadata": {},
   "outputs": [
    {
     "name": "stdout",
     "output_type": "stream",
     "text": [
      "([mIhcZO8i1wB5EqB8KktDL1gkxrsCIArKYsVLZMyaDENT1FzGSe\n",
      "[{48XwqbU2fEJi69YIMXX568a8Q02cPVyyhgnYK1nGEnyxC4VTxMq5KYTkDDzb4hDaHI0zYev6xdf)\n",
      "[[dEAGt359naWZbD2PlL8pTyRlEfdcMQ7InEbXWUChGigaRyfqPljR78OUNxVyBiwvQBE4gcpautRUpB7zNwN7Dxbc8I0fAlfd8pO9})}]}\n",
      "[{([[LfMj1PwS6PFR7zskLV6g3Pq0DgpWyhE98i2h2NvLOnJHtuW9hErdmVelCRcsA1NSnWAn43ICFCtKZvbDW7cAgR6vEuJQNhunbn6kqr8HtkiB09FcdqDnRKqiSBP2S}})))\n",
      "{{OumGcGps8NoWGDnEtHigAoQIZ87ET7T4UZisSWEOU4ys7H87Eiu39Y25zSftLErTdqJFw4xxCHswJaKi2TgknGB5MtEgTiPrnC9kbbIXn1uRDwWOefBoEuAw3SUG1SsPgdOVVEXIARvem9fGPU91ix]]]]\n",
      "{(wEG9TXsU6grxgr8z8XLhODO80NdbnvvGeQkRsTAc29bpXsS5qJHRTHCAKNe83dJvv2Shmg5nodhahKgdoiHbTeKjnzil6a8nIRXIX5Y63fA9us0jpU6JQJCgONRxTit0dtjdsOzqiYdqRpN9mENr1H26TCS3VQ0dgsvAnqK5LBNnw1p]])}}\n",
      "[{(ZgzqZoEkzBXn92JZU9Id0pRk4CogGUrb7TyKOYtNRvOuJFgvtFWpRqGqwUyGBE6qq6Ug2hjwkZwHyMgI5S6hE96cAWHZiEDTSYjfhbcqTJzcgltBWBFwCtJehllNUU2GkPY2RQQsvAeZXytXTjsHaANzHUXn3WYiQhoxxP43sjKnZ7xDDcZ8jYIWu8LszzxL9OUsEWHm))]\n",
      "{{[(RSiIqcSJ8YBajHkScWZYknkFUfW9jHalqlFTUxsNCWUXyYLRPrUjZmicxZRanGoyEc5d9ECdHPg1giosH8d3lK4vjmp7ATIG0DJhircogu4UBKRIsx611m4aTvftsojTQPyacDeJcTmQKUeCPPmKLUB8CKwg82gtjSzroTYDGZAIqdKce2yP88csZ6soagqy7DEefUW0lVde8ma8xaHd76qMB2trqoPwk}\n",
      "{[[gXIlZc3PH1Xqgo6eih46NfSAUJpN5qDHbQQmjXtUFVmjTTIXJS5GPdOzRnzPXikfv9sUPwtSswDhnFP9sVkqizBrcV4FYGyV00wVXO3x8qDngjacKS3TFMMY5KlhHsIkVViuA89K3Ld1HALQUmbQ8wDwJLnee09YgzrPUX43w2QNlE9GWvWp9nfPYk1r9sSUE5N407DlgFQ3vSzdY3P1qXcJgKWFkxRI2rnCOjBrNtIdYxODfWD8nD2Tlf)\n",
      "8PzFaCpHi6Z02o3kUbPy9EypCsb3SkPMgxMq5xVboHA3Qc39fWtLlzeHfqMhO1TKrCmU3oE5taBG56xEz9UgIS3nfBXGklJvIZ9thHgghjjoMVJXwQuFl2as3jb5pod4ZbcRYW8JfD8je4lJFTIVIc1GM5N5XldAU8kq5ChFfYOmP82tcJFpHYxugSm8BDatwDoznwvId5DJxF5VP9wHzml5mNv5yN1nFHVDyKmKDJfFrXsoQKpBZzZXdkEKPXaVTuRJGlP0cf1dxAQtCBY)))\n",
      "[{{(YrcAh7c5N8chqj15VbZlUCW1rCYO0Xuk5UUSKWpPPm7oShiiwdHERBDAsqWST5EbCyv7Jb4aGqSN2zwcOB3uSgeZyjsBMgOf8oSt5jcQ6fAM2qjTVvHOpKtN9OT3XRMtrj3oUjgEwotU3A0eHyFhKnQFHyLaAxO2o2jDQsjDKnHqD7MoS54EnQx8s6ICZhpQAYM5YroooWc0djzgN21b9slTOWLWbT1UG9W8lFulRbGjk6YkWi4QeIEGzoRzjag5O3l5nrDVGdg0BKP3RCEvLhkSHYOWhGonSVCWP0k42qtS]\n",
      "([([[5bi7RTMdp5s5TFCYX6Q0wubx0MAqCAUyUIkqVLIBgqASjDypF5eeGt6SyXv4hcFG2lyzGyrVF08Y9nXpUbS3l3emUpVEcefL8WCnpNgR416GlEFXQBdGSSNFJe8aYjTbSJEydWhRUbc6kEbX3olxLeYMJNoMW2V9La2eRB1l8HoFZiqtxJYPP23KJIxOGwlasxUm9HJZLredzq3UOHH8oZbmaZipSzBya5kUIugP6xB1Ba0d8stkrENnRiDMPBaepEmeprOexJIQcnISvwV3zaaN9TDj8xp5E3p7qx62yjZLE0g9bgDPKgLuPwoCStkDtehmc)\n",
      "{[(dr8o8bVWUveUaOs4MXIZFRcq8y4oZ7YglaOpfwkjv1pOnDoru2jMZKHN9l89wGmO50r9UbMXHgp2aHwhoeqnksjDlqfetZha0pNeyyeTviT013dAcVShQof1FWGX3FaHE7nq4WW7klM0jkN1v5s3cBZN03EkAiaOVYehMwAtZYfRVIrOxv9DDC2qz73C8sCi9sV7ruGMAx0O6D42SDpCgjXGGipv8nWxOE6OZfKHwug7i1tGMOkebHItfSq9vAPUzZG0aibqY8T7KkZp58tIEHwOjVBFLAc0Kd02GukKWh5LB7aSUzaid8xj00qEl06lBfHkgVMBAvJ7kFHdinkKAP7heISdD6\n",
      "[vkJBkkoH3kaACb8uryhR8EvfPQumDYsTIqJ1GMZNHjLGSJeGrta0DbuLZqGUoNjcqyrMOvBo4n1fPnotdOycGtk0JDUdUR9fz6ExTm4seXOcWpUzI0aSO1tiiMN1bxWeMJIFqmF329xm3vgLn3ttL9qwBi02nQIE6xSU2c0NtoVcQxfVT0BN7ylFneZjbvr0EYghU8b8NKoGUfvQbnWeWQXWCqyWgUbvl1cl96TkepAkXclCqc9sdc4QUrSWYOOV4I1jHrT4p5pV9bvoxfXQS5dWokOpYhWqhxlc8LoYJO7snicJvlocotVg57ucHWqKNHrxpKsxjT8LVTMggIHk4kOwmYCkJ8r4aWWnKT01ctIy0IcZUMhcxFo])}}}\n",
      "[({[2LNjmzhzhXAhjgLrzxbqYVeHXM09WNKY0vJaDtltUsK6Fzm8VSVbaSeMCbe1Rb4ec2GhEAvyd1stSAlv8aACJUjy1wthGZ2t19dEnzDejzQcvLrtaG63CAbqwd09xcd8VZHOzOEZMQUuK4HTHVba5DwoFxW4Wp1QCezVCN6ySMnNQIRexCCKntYumA9oTLVHiljIgpIV7zCgM0gdb0UFzY1xp1KDAPSnFwvq6F10YzcTuL8jFnrkIe2J6piLOGrIaXSTSTD1GgWU9vdobBhzBQgxzh2D7OZkU6haPoKQ9e7MUbdl8TPFOGlO37PekxH6WKJHIjl19qYcmaWgqKWLZZb74C9MBXMEOtclf09ffxSocqcB5IrCLcshlfDLsWoX7dvFjaRmXvuyQije})})}\n",
      "{[({UbN7MTI5TARHQKZbHholeluvsrCX5guqaamTyoNmLVppaUp2VWmGca1Oz6smfXr8834diPKGEvMVkkATXaXOtAJZQREtLhKv4anlsH0BvtQI4AaNSFa6uf8l3IW1tuXPKsMTJLnMR0Jd1qPqOfk581Nj0BqOjgHUmIlEXJLm1efYldCO0TZUYVNMMmkwk6Vy0wPUno42LR9BErfeHgjty1pq5MCIm1EC1G536DxiBcUILpvl8JM7O19FBex4rXGEGidxkliitxuFAR01Inbi5SjhhXwgBvPmaDloIU1g1p2ZZduPuwoUiDAgFMD2nJeCeaQFiF7kOr3yfH2nmHLRh7OQerfiHp7kYUGvMqqJ2fnpQPIzs9itRrRWSgw9JqPKMB5vryAiPClLAKfaRmoyjM2wk28x50GRxPfxdj0zy)\n",
      "(FuQiCcJxyLjAR7c29ZKalZcMghh7aHmovyyftLdKIVTWmKjrXVstqjRb4HXmHWgHeZ4d76hGqUcFV0qg01DuGk2xVbJ5gAwHK9lUl6JUGN5PE7Jcvq7EdFw42GsLEw0zawxQWxBKEbibUtkEUbTqOD47jZpv7OlDFPwB6o8GpOtUa95mj33WvJZJYfBaYbKWFh26vKfHVOeWQtxPaLce7uoFx4i3AWRNdhGhLJgAlj9avarx7W7TNskuCKYZ57vmyWBPAmk7qRXFio26uHLBP1tjxvtNQOmtH1wU3hNMfuGtc9Yog0sOBv8I8L1y3OkbUFqXq3SuUNBawJmbJiKyMjbhAXJ65oWLYLIjMi1PXq8z98YuXf00RnktdkjZILq8jLKdSu76XuqZbg0H8u40KGqawNdkitP16feIFfuIBaO1rFfg06SX7OfBKmbc3yPzhs))))\n",
      "N984QL8aSXXh0zLm2JQXym3iIFnGkeihaIf5ylB1umwE95U62LODXtGHc7mCbjSpPD9hZ9z4OTWy2qKHgVUg2PdivfMLfLPT6o0x41ylNU3nu5eGCm0T4QefO8i8fM1eJOSzE1Ts6uIK40zDowV9TCNwl0ZUnfR738RnbSobUbjqkz5vjlhNpK4or6eIU76lEjFLMNI1ko5GdjIst5dTwR552oQbd0zogohhS3q12ahM0dwP6oX8b3l0arSUt9eEeLhV2Je07fPBJl7keKVSH4BE9JtKTmfoux3L0KjH6wmuW8XRBG3HesI0zGG8HSpkQhV4sRoz34Pwjvzm2ds3HlCkFirgpsJnUBapJyoKZF9gVwVyU9tjrxp2urEacKRqzB7gZyHBTJ5jMRvMFWeW1TD7HOy0KUZ4jyOLeUdJADHETVYme0AfbbwlDwciODrpBtTlvMCxzymdeJ9ADwHVapLxEfU}\n",
      "{([[{tKIG0MT5JebBvcANg46wXULnKtI87bB2rVudKolXf3ruuI2lZQZebC59kBNpNz3AEOfwkXPHqmV2Q8eSOq6R6uiwv78xEGGF9sXA05uR9rY64ZfiiJFRlEl9q25vxzJLK8IUbMV2AMT8dZyxEabuYFaf3GWJvHDEv76U9s7howV5u541I1IoHObZikijmxUwBosWuIXhXsyDVm9bbLSuQJ7waoNnhrqZmzk845kQOrzaOOYsuy08V8rKg6YqZWQUZ6kcLjsL7d6TCkOnjxlQwseHr6nhPhH6fSOxUG4CgJmDDEmRZkd1wMeUolFYt2NPm6elD9IjwNDsm4zPhFbUyWi9Sq26uhjLGYc5VNRupJxsO5NDeg46QdjPWWgc9lw0hHQR3WfpMwncY1MbCZpTzm61MSQI44OtmdkZ19cji95fkzfay80OCK6zioq3K9BFUPbI4aAHBwpbRV06NU20JeL9o1DAaDtEJvRbd3F0JBohbLOizw34)]]}\n",
      "[(([XE8cpFGdSVddYTjVJX5RBMWVRjh2mILZRRkO6QRHLmWhKiKNC0Fnq5HUtVlY6DcF76i1QzZxSEI2dsqqHAzvOjosPVPSRFhk9arl0fwfSHUzwpsErNpDQiX8NTFlbtlOREuLmTbA0mf1SoBTGSTScUcWWHySHERRPLRJtCKRpK3ZyYsIthFAdTg08H0p2JvBP8Rw5UfdVtvjBjusTOh8ZVE0psoab4VGBcMkpXrP3U0kcbRz7tHHg3v0cNPHURnpdLJ7fyRKssdLevGxfqF0uQvGUvZPLlHDw8AOmM0m77ENkx6rf0L8VYgYqUILqu4SgHNsqzZ526MKoMl6YB8o4NjONiAB25HqigCuF8biiwobzIM135eyUkSUEdd5kdKxFvJlET1fnne1jIkR1zVmfQy6xXUpUozyg0rRf6WE0AGfo9fGZF9jiNm1WX0jMWO7JT3TlerBxo4YlGcZyQesx5kPh7mMBkeM0yKjWOYbiJGYva1o0iwHS6c66Y24VRNNCQsVcstRKtSHQ}]\n",
      "{{({{b4typSYusxxKDlD5jaU9dWrsYK6IqPmG2fMAHZopVb6V7fGrVRwirMAMPZaM1l4ytPsoNUbL5rEuz80Zw2jhosGBJkw4g9KRkmPCVkcLjzyKLvPL2VyB0FGCDocRwQn3ghoEjhSD3UfN4rt9f6uqo65u83WfftrKAmeCACwYMoBadoWSByfSswLzKaLS9wccxhz59LomRbIbrJx0FUSydCJujUdLeARdvFYH7f6S9Pm2q11tRryuuAQ9NEPiwst8TRM2cEJketTBJnxToS1R6O2LeJjxuV8Ddyawax8HGgFjkpRsiwozyA46gbou6X9ST3moSPNSYNLuWJfg3MivPIftgvMujKLzwiU4BKgNGSSJFXvKRpIyYbKXWel8KrXR2nDtw68tYXGskTFJUFRqUkPAUGlmxcjPIBb6pDYEHp2ANEwjZpzkv43Bq2j9FJpeW9AcpHJZ4tuCjo6xTcg8ecn3Ee7hhOMgDJpe14z6uTWoWc6TaXuHOjAMNxZ9LhWTLKCgtxJGpcENqyT2AcksCszV1eAwr3Etrw6NVH}]})}\n",
      "{[({[YSsoolNAoH0oJTB0t2DI9mToMwaWEQJy2WyknM0nVZQlpaNF4rI0LblDtvUlXNFgbOhksfb9MA8n5wK4CM3fWz29nImTd8B2gJKXjhcALt3R4Nblz7aihcPSPpH1pPaiXCdQHu4xoDCdi81k22AXvw5jfiS06BzmPTfnAAf5q5NvXeQwdkJkprGcNtTCQGj0ZrbozPiGl0Lz3upo7y6o6YSvnjUgikWbjfEwhUqTxoxVOCiMck3KBjEC6IkW2BRZms3rX97BJpjtnDD9MNktP3lLY1kuZ1V0ckAddokkV1M8VAOaKJ3Tr9wNgwbUWXQ1SqPIEudhZcYAZOnzyGrzwIDiLKjbXuPLQvgmdHuBFdj5fHNottXD4P0UvYN0iZbF6eG6ODiIplk3RyzhmXWC1IVt0HZKkxFrGqTq329F9u42Fm4ySkISF20lBe5WKs83I9lOo5Mcf4w1h7aAoXS5UYeIoBoxQZvvoflRxKGWTlAuULXI0iCyKbIJU9IaYnWe8hZKINGBvAFIK9ZxFLWEMni2hrzGQOhI0XMY8dVE6xrTkV8WbGK6EXuEcZ2GqlA\n",
      "rPJ5iKMZ87SYjHLJm3NDiwhVblSee1JkC186YbOqXqmYM8RR4nC8afdbqD6W1tmFA9JZgMdxtAchraUKPImLZTNk4e4xMh8pHPsnMrjCvWWpSXXvZ1KU7LObC6XsmsMtA16LBK5pK5nOocEXJ81uyjfOqvKcBXf5fdDvxJd5HQDlNFsSV6QHf2HS0iel7vhFZWTbEBvPxXpK40xrYlfccF62D3ETUGCQHC8gfLuYNz1brocIS1aX8DhDOQvwAAFEdjbGufvPGPGEoxaccOxtS9lEFMq4NrgPSDD9ZsUagF8PYYShzqnErQvcNum6Ic49TItOwMpfjZKMAlnlI1RFUDFFWAInhgfYwk6ZR4LO8jRe2Y5cjwWIj7Z1GcYu2nF0DURVe92QnCGcx4AO2L5Mono8YICgm5a50IzM1RUFrT6PtcgtMichY2wepyn6j4Wwl7pUTMDrdaD9N55IIf0l2704ncSjljWBUXkhriYD1tIdRvoz2cVnuFhCSls37EbLLJ2IOaSCiOYP7XZNvbBVHtRn6U2tnPgTCJ4pT13H6tMjANEewscZDiMDkKlzOuEuIU8evLphuveTIVemKEZL2xqc})}]}\n",
      "{[{[gYMpGe6vgYIMFuv9OGedXdly1YyQj3mrvC4qyRbQI9dVnZZFhYpeLuWm3pHLFmhdMShuIdfNDn7ofsvdy2w4oYkpdtGBuE0ig6YNX4zEM55mf6IguaEsb0kn1LcyzGcqRfcaN6GFNUVsB9OCjHII1ku5gCA35T9xZ5Gr91rMHHduelJrXxmjrOGjn4xvoLTHODOGOWpNftQc840A8P6rkuA1hnZwAo6lwVvyuX4dhJdZIPbge21PZ80d58s4v43RvNyh5OBMXyaSVxn0QXBR9LaujxJ9wpQP1o6Qk4u22HhFVpl6pnGCemF5lplqQupgsoxioZR2KHDYTeJkBKji5XNLn84FL5uysHoDLEFI9bnfu2Tv7PhxE97deV9MVjyoF9LYLpDfcOcesYimsBAey2niv0r2UjvNDJfG5UtgT6nSkX54pZO88zdeJPllVh29bUXgPKocaHRrjRBkcXMSdTGoWIzl5yhfJxZdSVdPoUufixnPj3dfy1oXfj98K8PtVP3A4ydyLMLxSVqJNr61o8mPrcsjvwJLAyzMqz6W6mTrRAO4zoCX2zomRCJy41ETxnzUzM8FX1mtAg4zu3XYD1heutHCUxcglCGlupasaro6AmrKL]}}\n",
      "[iSNNO6hTtfGW47VgJvIcFGhzGysYzHM4sC8oqI1otVUh3l75zHnSCSouj9PHTyEFeYJEmruzvTfTuFsAP9y0IMWRyP9xgPnLitx09pmfQTNwyxC93r48QWJkZNmzYvPSd9fUEPJ6cf26HDtXSx8vdaXGFKbYtJFB13IAniexuk3C5zmujYkGVJNiv2IkXvhXPvAJeh6ZiEaUmA1koi0A6pFsq652lv9D1updbpZ2B64nI3mKZSmdfWVqmGnqONfRjItyZ5VhGu80Q6oWQLA70gDjUh1Enb9b7Z50rzsUFYgJgu3Wcjxe3EM0gWMXIx57cNSu57vffuSo7CSsYY26cFOg4GugD4zSg3tbxoIT7EYJ7iLMc6u4ExVeEUeTkweU9zA5PALDj6WjcUgfUeJu8WsWHwgZL9pRtaL8LkYygMFkV27dTzg5zHCtV3mpazJsFbCnw6hKRVY0oCYXEuxScqx53K5J6UnOLm6wa7oB78EO28euXJLWS8UZOy2HwejpJrOmnES5PrEkeoiBXCtNz5bsf3VeegXG2YAqz54IZl11oNBEgxDnD56ZFG7o9qIJFfAnxqpaWLvM5nNFqPEz9PZpSuAd1I3ErXJmVqvvbJn60gV8dwR8WgfwvyBtEs685UFLZHlc3A)\n",
      "[{[[J5NcBEIbEBNiPVHG53gpN5mi8vcbwD1fYi4jI4JI1FNhZGL0Q5u0s8YPEjsFnWdpY1pYnTrLQNew2Uu4ggXJzyn02YaReCj0jqnrXyQpdBaPreomlwuJyTg3rBZ0wel4Gq4IpSdCF8pETzUOedlYSDxEYqvP0JlG28WHf0V6KQ8g3NegEj2EAMtDZtoLn2quiud5ZKiNkgAHK2Ze7moGb4l52OyWL5BEaQhFYndVbsATfj0FKFH8imu54Pm3f2xH1QbLzVMdfVtdIWhNQV2xJAjSYSGyThfSLMNvvAa97C2IjWKnqX7MgsN3fOW6yM6saa4a48ij826qfkIqFLRQJwMH6i1sAFwjixuBhTFrapmpO6xTgiikzblNM5J7ttBWwgUUq9yDITb75x3C7iHNTdvIkm0AAveplW5WEh4m8rOd2Tt4wuAWhufrChcwd1EoTypyyUQLvAgMAoEScgMKwyI3rP1CuwL3SdSLNfMPRUK9yuJ3Y1Aq8V7XkPnGQj9wIqbEMkElDcKC5v7dDhNoZFrG8T6jR3xM845jCyl3mjxWLqwaB50rU0L6yqO6ojDfsU6EwVTvydGOK1wZaPGuQN06ZyOl8mhqwabw0TLyMt1rp88W96cECHe4fuz0q1ThTaQ0GUTuEBdF6RKGPm8iNW2K11mDF8PRjf8))}})\n",
      "(([[5b2ZTScI8xXFGM24K1gblhhJgtL3Tj3aWiVn9bEQTJ9mRGCDst6fUCDAJ4fg5tGvnp2LJSoaK0hb4ahc0hTsczn3ERgM4lfVShstuTZifcNrmacYkvJjt1duk8vJ4mO441H8wvFpdvAEsechKhdG6xviWESHjFwLbRI4adC0HprTjBBMaNjiWGsTw6CJWLzOjjKuxr8VcSzGgytmnJlxMdSK8Hd1f6j3zrtXAJ75eOSNQs4vXmprszyCI9biWAq4r9941C8xYPxPDdCtFiUEhVj9CGQ7tq2hcTO9YfF9CKDeBodtQgBnVhGCr3eDMPtM1gbdX62aFK78jBUZ6n3ualqS4TbtRo7LZqjFjYDCOl8Of7j3hmGfPYlsSCH78pgYYMXT1IzaWRBicZWHQasfGuHrZBUwNesNveMa2yEwWUrfrpLWJKCdroCzCSjwaetaKV5d1OdWwGioJ4IvhVMbIWyIrqyun9xwaGOEnwFeTCnwRXRv3REvqsauaIDZ7Q7K1UI2ctfgXTb8Ie707slxqzmT4q68fsUoVB3cYSI2WSqGv0mFX0K5TRKSszwTooZ8nSjrAL1kD0s5civtNkYZpE3oRzLpn1wvrXOlS2C0FqVyKybyZATcHZGjI9k85DNVYb39IuJsWXM6QdOF6ZXaDFK0K3VtHg5xi2WP6LO9WFtK55wOIsfGwz1RLiLu)\n",
      "[udSuQrmCPLAgQCsZ61hp4MLhveQzkPiz4gzbvLdZWswgCR5mKqzgMzfbfzUT15gyR6wQRQUdgRvU37bvVsTrj1xXI5NtqY9J5PO4Nxx9Dpr8HUytxBIhHChZRcezEbc8zW2ESWkswGgq5ZZowV5oBHPoEiBsUw5hHE3R399DKEirwBccTmPFEZZl8hAhGxD5OViR3mC3iAw7cLsOTpBtIGsC07Ye0nswiG3yNFQBt94XAjJrCvZkfHO0lPQvCwL7eObei7WPuffE5iSWPeBQ3HVzKXKwXmYziDXSInmdSpDcN3XmnoKes7JM9dy2TUbMdzFpAdFVNKSWy1XaeRJrLxo8djoD4IzXIIZUkbuHsRBA4QeIFdqkkMl2thDxPyJclbGvikW3bpIzMFRr8HixBhzsdc6yOdFgllg2FYY2XandjbLLpQappsw3ZvZcde8HXxRC0DMGWHO35rJEHNw0jkQMCflGVqk9tCXvzPBfvRUqXUHWSdMRfgbwtYbjWXdimKJ2aKLHD94nR3B9tfmGAzNn92rdwdYUPzaHd6il1SIChKKs2cAzRbwvKJboa3uHMIq7BWsgdDIq5NDf8rdpDXZ8mxqlTNkvv75qj9QH2b6JuAFI9tPeUIeoSsaED4pelI1mxhRMHzfGZVxd8MWH23R7zq8e5sVPoGqxLoDthHxZHv3hdqEDXtMu0EXOg0nEaXRRMAW7BtloFGZAiIIPo)])]}\n",
      "[{([[UdVCz492hd42129LlkrZdXL0q93cEfOOEt1HrNr3dalCP0WpVTvCAVCGi4Ge3G9xx0J6HsLdn1jt0TpgNcFRt1kEtYyTTXuknEJaU8XNKnD2FGlgce97SudJzy6SieMEkjZAIGoaYefCAGBQi8QRCLJExETwHkEtTv232fix2gO00GRQqSXzaGoiLYLnAQ97W3fy2mDhwGyt6ZEXEmmR6u8qDLDCrICmF3xPvJQ8YrQ8Rcv5c7FG7Ps4RNhvBbHxXeh7FMcgfE3zndo8NBAXYjSI269d9bYZ7DxEb37SuNjg25nGWIifo6Xt9gx7aPVBm0VYZDlBOndlmUtA3MAuLPF4j0znFiQTMMPa8PjZxlpuff1ug4eOT7JBTnMom8aLoDgRothoKrr6g2sCukMulDjTDHav8z0UccgEqsCB0B05L6uimOQwjhp94Uzi3i6YqyAgGNzw6lO0nlSZwRbKyOdl4Lf3hLzm69IR7Qx3QeRgGpwSUpAm3rBOhKjs1rIJ7uGVAd1dYLRgc4BoyVBJ6Z8EYSsWrPqpLVBSkCneqI3YxkKN1SbrRsCMmbrQRbXlxqmwBOXd1OBXMAV8c5qbiQnKOM506vD0SDsRl6nHbIwFyssCI4b0004U9GAMPHBVkO9Edpxf78cZ2nD2YEzyZXmaIm1OT4dUE2ctbAXEzzgqUwhkNj46ZF4zHGmExYb1EW8Gg47t3X4hnfzmGjSHOjsofkIE2kG6yWedB1oEC9Kgte]}\n",
      "[ax4hJL6MLh2MEYiznKrYS6eh3utRbZU1rA1krzLYGkbxlqN2RLChQlB5g1QcSHZohsZtmXMFr6Sih1SvqzVyueZmsIFFPw9nqGdVH7HNGX8UubtjlyRIANn4lpgdnBMJFLl1Ky6UEyLevlZKzCbs7AEsg6U2I0ARbUquknqSmII8yyFiI31K0W7pBTDEj3zn83cMepZnQAmUOPBTp4CsNmAoNG9c51DeDSNe0xdAmbsTmrdLCoFsbRVtvMrR9i5OQFMbzvfVREf9fHFYRz5dhpcPdwujfGBGux6aYBKP2utrsqgH1iKQyDBON4R1iHuFJOknULfZ6q5n1G3s0hDLdN3P3h9WsSjEfRpTaf3qY5Mxkjb0SsvWZRJOCFgAnNfaj4iZpmrU5RTLoqRFJI11QHZvIfUc5yLLUQ9IqaDGui1gQwSsfTKi4lm5XfEZ7GDPLjny2EKv0pVV0AznkuvVdOZTUuay8qKsCxals1h3JafLMOG52Ve9OIWGdCTqjaBqF5csC2JSqFCYfZww5q1fqf3vZnivIrXY0OjLsR7C8upeHJFO6crsobzFrmGJOzwojWMvMXuWfkudhcsL9xwNUOJiqP7mYcv2CmYfTq09ooIQTdBvBo66Ex7GrjasYaSOhgTF2SnBfHiCPvcc8yKOswtJH5rn73U6E2bVoMu89vWDGFy7zCmGCPkBgCaw0LA3UH8RKfA9H8CXqejgl934M4tz0PjYlI7aKEENRkwFI8huQ9vZVJMKGkNm7StgHCcCGUhM2Np\n",
      "[L5WDgZJGTc9G2FVegonzcDNfRHxV2iQ8cuO6cVjhV4dBvmHBeeLcJ8cQDSNJ0qlqZHFIOs1E8FjD6EKVxoiAJRGnpwHYQrXlqrJCbgNIV3Ue5vGeGTdJyPfsH24qStz3xrnTOm7td2Q6yrZ0r1EzX9CxqUwjAZ7jRYRxJoRpvMYXLJBnaF9VOnpArjYMqGgkvIB2Txlrd2PvM6XoBf2fdnC4raGzWe0I9vtrSQr6HZSrwzxi4P1SJ8jNEfRcmplRSOx9csOqkJSHBawbC6r5mJv1Q7OAcDlCu3MXpuRZ9pJxfX95wzhqJa3CiJxcF3F3Us0Tn9zRs6RrtmH1oFSP2VWF5zmJkJI49BntlwolpbV0eIxMM4yvcwIWcY9rcus0gQKOMYYI5e0ZD4BYW11eW6xTNh8h7DIp58PJA08N4Ey5PyV07kEOXAoj1F5Npj20bD87My19y3OgknTUCxTqFLV18VGRVS3nl4lPsAFIH8o9n2esUA6w3s2aTY390wEMSCL14fyGLTN5sWhDYKxluYCKayTIEeD6lNeVBTMQ9qdChW9qjtTClnKvlDwyOPYk9TqbUWrq80cBWGT9lj5X1E7w5MuE7nEIIIv3zs4lRPLDHXkRalfJbcunWUYJvg0ORD8FEIIUvrdIMtwKd7ZGAIV7mhmANGU5U0uyoTIT9FEgOwtE97uPyMDffgca1yNqviYT8Ch11aZ4gsT7IhlZVJZsKJdViSjjbEvQ3C5x5DQxFjy6EgB6STU2pcd66QH3LieW5VD1Wo1ByMAgrXvSgU2Yp9HDXYHj)]])]\n",
      "({{{{a06UitPRSRkMAeUa0i1njVgAQv6OsltxN7uMJr1PMqivsAqXT1nlOx2fMr6WQsxnrqee9sHlvIaYZI2Af3Ha9zUnvi0V0acIgmh1a2ttRMpcQ0ChbFShPLynWhsL6lSWwIUEtfWC74vI64ntt8uEoVTv1KgW8GXEaC2HfCLuA4aH3GfxXCnVPs4qRqtuEqZoZF7tB9ARINhMfBh0g1wUrWuTxt7Hd2wMoLAXsfnBB4uPQQXIo6DMViUS0MNiqfdbx42rCOxoigu33eOZb89TAF3pYblnobHokNcXmi3zyGroYvvKRKeA6wccmJGLXC6TK6tz7PiQGHPUuZYI0yxOQlgtBFFuXoobXhgarhrSW1nqUOu3vr0OPCT49X6Xd9VrFAi4kghmbRnFQoQh803GO4PeKo0QHX403vS4fQmGdEdYzm9MHPGDts3NGwY2F8HazNAJAOJxKQpAHmW7m7uBHETThc3vqGjI4KKeKTL0THPf3mH061VQr42J1FZBZlgrVNwQRtheSLkx0n824lSu6h2wmIjSwg94n1QyY3xSrBwzyaxzFbZXAfjwZLLK17iMPu0OM1NtPzx0kT5gkS8VxQP0BUQQ2T3aOVq28T5YttLsFXvr0DNjG73AZAi6UC5vPWrwvi60WpD6ef4L9kxF8y9fTcto8CR478UxdqcQVmqyseKrBNthFv0EIBXQ2zS94RMqCXB1B7XmUgX256yeLizxv7q22LkhiwriA6WZmq7CBgg4yezWYgFsfzIq9UFezoORoiiyMWqn0TRp20zHxSMdmNYJDbZInTn0JkRMLSfaT2wfRtAJomhV3)}}\n",
      "{{({(AuKAU7H18gljQCF2LTA0t3xSf5SfwC2d9LaViDp4Q0OkOFvYDRtlFf251ZgUzhI8Cw9KGDhq4munlIiho8sFGExziSIjBc2REr9M6FxcJA4pyQn96696aisyErEhXwQB1JcA7YOBQV7ckRz2QlfJa5Zp9c03pJA3xz6MJxMM0D7MlKka48luE7H1oVScahLlGHsvnJG1rgtKNjQWaYksvdGJHurwkSKlSwJfjoq8vOQ72ahlAuNujhsBC7keOfakyPrC3BunBNdhk6vEFMDpfZybSbhZHS8vd1hts0V53Y2Cl8tXC7gTCBrrv5VsUpce7ZuMZgwj2yecTO0Ii6EjBtrw7Em6aniijUSJevyb1cVMospJNkkqRvkZaswYuTg5JbCUzer92jnMkBuKg9m09SFiKzyDqAPMTctZgQFndPdGzQi87Tiro973q9guiUJkpabu8eY4xUl2viGGfYwFbn4MxpiAe5nC28ixAMenTOI4gPx7TjplWpKp1hDQvOrsHfXmRQPotwB2uN74ko6fHAfvsDNYo5vyEqgEZhldaf2LAiD4QWRk8dDFEHjjbY56SWFb226nbroZo3ng6FLL7wWrx7xeeCQA4p57Bndv3t2zY3WhVUomVfTeCiAe3j0PKljFqGkuG3cP1wDytOhPVb3oePZUAEWAwhcc2XdujanJMZ7QQlnD3Oh36mWowdbh5uvQx0SVhMlSPjcTm7DLdlhmob8sBziBLFNYAC5GvPJK93kD0ashBrByaa0p7YaFKA6imrfxxcSTuN4bQSvxlbGJPpDqVIDTLL190YFt8dF8OdXv2AMEskFexly4wdVexSTGiTglk3K83nJ69P\n",
      "{rUdLjpQhY4SBoAZc0WfFarbqPFC0DbZDIpmErVONSQTBQMGkHNMtxA6LMoknvzy2R6NSQpnNGg8ObwPxxSyNk4OvvbFNCIBv2Prl7ma136e5Qx7MvI4mnKolj00Nj9AJhs5pbVD2olxZW0MQUpOxfRoDLDLzotYBhoCqLahFLDyyCibzitPVM0uMXmarD6W76qVN0cNYUtOB8zit0XslEbx9wVo4SnW3nfyNh2frqAUJtL1uu92LfzfUXmUt9hVoVezouXxaKshs6HJRcglUn5lqPL0G68uFCJeLromMi00uugVAgQj5OGCJHEKCIQsd3uC9LvWwfJ8TrC9dFlhwK1CCBMoK11H7g0stoojozCxTbKrr6rQZboRdkpxdOacvDhlMmd0m2IwwApUcSxlRmeJUckPYjIvaB28RzPfgQqpxYZfWCdclRNMQjB3Pq5vCjjB9pIDFqVomH2LkQ7qt70eas0Eg1P300mxmLASUE0tH3Ch0fZyu0dortoMfaIvuZYRlrpBuAxSVB0Phu2aHEiXXLxq0AvxLdLfEo5eNDSa3KXDkbISrwb7uKLpXCpUV17p4spNWET0A5TMtGwGML57MzSEOjFA3GhCR79SkocVETTp9XhsugHCTqhJim5eR5gs30OLcbwWOfXeMV8ZS1V5XhUa84r9svJvjU3cKeuOeZvTu6bBcpUHsTUi1uEJM03zRnAgPRhdioaz4tsIAHQiKw7S0YEVAkNroXwppE1J4K6wAqK1gIQLfDrAWBxtrUY03Lrq6Td5jUwcxMIYicXbYQ403r0L54PJHv9MUJpow2gdnB5bwy8Lsg9zpQlaw1DZmTyRSczLQffnoqeO1s0gckileGdvpfvT6QvU30SH)})\n",
      "([[[hQILyTL4QFBXHXjmBqzy8qmUePXav8mazHPKqMMmQ75EegfmRX1lLMVOomXK054f5iuP3J92WnyqIAX9ptkk3qYIBQMGdM7inqU1VPjlgFdIl5v4MW0nBhjwjx5SMDBaCGfL9ixRYYbVYUplE0GWw8t7vsUiM452MXpifGSPdPFQGmXULAmOhwD9meJdVxFX0D8mMHNZczA1fOP3mOLJj1V0D46XipftcOtFNnSUVYllOVI7W67aser6p4YIVmiTEXCkFoHdUMXe2SCK9rBsDwgmBP0bhhGj7JgtW5YrnKKQ2b6shUMPWsDaE1dltcJnps06Q1yzrdttxcHO9BYNrEk6UWHZ1dxedFTOjl3DwitmCmSW2jdFryUWB0qKaOjNWrvSdp6dUdz6lBnJIsVsgHqIHxZ2xGeK8kOsrewXqioNFhKeLOwoXi9YeNc3L4SiYcOwC7O1qWPJBgk52mTNMpm4hYMiHwVPLbuQsxirlWI2xYYVHuwFBcqCgGzlBGASErWrbmZ0Qypef3IoRBzXf4gpnpyeH3zvIWQtjKNavGt4nLpbfljDwOPaAiOk9w0R3rTecHUPKyJ6s6qWWiHWnDqdy0aMCE3hnbsjOepKrJ0snH0umg8INnrh0q3psyrJ2EoBlMHDq1gA9Y6uBA7RFwwdSfyfHusousr3QFki4It56L3vsNDrdH2qhjxTP54cWHt2SOF0lE1vSG0PHXZoOeYJEMUhoP9jRaN1hTCvc9hXwC9iFM2blZqN7jluPmxYRsXrc15MwOjgZTnPuuuKI24NUMVZaF7osWyi4A6YEYTp2JAa5V24zYrKJwd1tLGPipqIJq5c4YhN2k5VlhhzZmwK9MR914uB0nSYOx6d2RAwgIFqijOyeXGejCU15Wg0G2xi}\n",
      "([{BzNLaabmGy0UH3fncFit7F5mqV2nEQvUIWrKdAgbqDTYUBPNOtF4bN2OBCXB2e1bcYmQadBylM4jrXkSdtEcHrFtDa1bx44ZrvYDmT9OnRG1IurswsLt1MiUrjfwHSrnLTcWZWIUKna2z66Hcp7NPIeExgDKxj3L0CtD5D9XENEDmm8SChemd4qdMAaweTDft5JTdUN7f60wISed1ifJ4zmb5UvBdjsBLP6QfoXikZXBnxpAuzvhTzQnhO8UIW0bA0Gegto8gINO5WTJOvapOax5nOfkBqmaxaCvgWI7uKWNuuKDCi8Rv4LiI4448FnUHKnmZMLhdcuMKH880jFaetRULZbKKj9ULNMojBhXKotF9ILRoKTt4m7WMMgVqUnSFjAAtPegtBVS4LgWoGoo1R2oZ6rYKsKDpDupFfbBTchTPVx2AnZTrAquQeBWYLNKX08mj5V0J9GJYvzn4YREdU9SUdaSXPzekKerZlDj7boMa7ML7zBryU8U0zaLm6frn0xYoHqkf2XWaYWnRdAiBUqcHaHPyr5rl9ldhgVujCbi8jjonmauREcMJl6aUdiFSvlgt4SrMbgI0S7AC1rcnz9vOXkNpyZEHV4fO83RcvIEjMM3UpLZVQ7Z4FseumHZJ0SYgfUyYFnPRkdITVt2n9iLTxApsBdeBEO3yZhrd4yQs6kdjaihoUxupOkucN56Vm74odMVe0KbMBKJUK5uXQxNIZx3iFvB7CZoHNQa59IJ4J5KTScOXdZqb9w6DebcxosL4tuck2IiiBB4qtcMhpAR4lgV06GfL4ARQFgO0azq1E2gNqjFVlZgi4NyYAEBZO1YowSJ3iiXZUSynaJzaJLaU1iRyXIDDG3uJTJBAnbqW0ve4hTb5jxEba4mDLxuThq7esTExSTv3f3hMaXgBAb2dtFrH]))}\n",
      "us2uBPReOUQIIXBxet8B8wcWCxzIBs7YSBBgzUhOS9ak65IqRawjRbTuxZCqvb356SX0INYkbINEAAh0HudJiZLhubvzwnQ18lcFL4oveAjOsExvm1cFM2KwXNvdsI2vS9O9hUoB6a8NEmdQXQ23FiZwlVoTpfqtz9kkn5M7lvDeuhqxgKuVxImyQNCE73YYKbpcDnqsOidsewtP6MRKTmRfDvgggLThLEpEjkd4FiTrUmX896uPJtGxm9qnSVXDQmoDhZ875bCFxjRkkrtyEm272qPDAOWHrfwssgEWILo6JcSH1z0hA2EF5NEYEB5Of2W7YWFj6qwiYxmZeHtXzizbWxJtbmccVLjDI7KRjrhnGxll1YhSOViFHKe9RFOIPYYyZ3qLHvyH8RXB9bg1ClqFKuzz3v6J0AaF4B3wdNaUA7zW6XhzLCuOPzSM7RV1qierznrJHT2y7isQAwYkpuCkakwnXNHU7dWHTkNSQrPD0l08Coy6JclmOkgvsvqArYStaR4oSyr51LwJrS5MtnEJN4ahLoY0WGWmtCGbZhqZKkEOYHCp8ABqeG83uI5gtJv17RFj2neYhHdshIwbEi4FFtMOPgg2K6PAzsSXhLG5aXrnbXLcptqu1IWWFODlANluIs74As3oXxTgt4a8uUfqC3DqTd7T7YlS6kpljedJVS8wwoUY16uNGQ7pecuknKekqAj0Zv0vYHOwZYjnCEhDPnYYkm129fr1s9gZTJyE3O2HJTXQ8YLeKLIhqD6e1aCnw1BOZPzJg4fTLg04R5H02pE5Gl1T11EHJxqf14yHx0aBF9Qz3bUm84NUVH8NhvwFdVQcGRX7Wptrxn15afktTHXexwsxzB5nK7B72U3IILinpYJPdiki5uvceAGIlihdCEOjreMBdU3zQZowhRNRnEasiG8w9BGRndNTypOPfLeaPcoxSd)}}\n",
      "{(({{SXcNclmf43hmHQHV3kjmVH93ZrDF2rt2KBDy95nkt8rbTRQlEQdMvLJaqytuK0ysOl4NpJ4ntLYscjLydw144Xb4mu5KqFXXnsG4Euvo8OGAMDXs72Z15MXrw18vo43uoQd3LMAk70mf7CCdA3BA5NNP6w3WwupA57NhYSOX9t7vYIsI7WwSiEcdqyouXq84AsOEC3gxtcUTNxWCD6y0Cow0TPWNuQ7PZ2X7c37IawU5KJbeeZwCrYNYnY9eCrF37dX7h0JSvPUShMtK4YnmlFq3R3zWbK9lwgdyUQufM2usPFJvZg7ob9rZcyCNu1qQNMmh0WiKpGqZl6Mg4DvnbkD57fAzGTlxryv0bzBHIpmBhwO5Q6Pv0mh87MDw4Uqi3rEoYjGYAJr904VVSWenlXGJwr4EtvvrV6L8IgvuKpTNZZEigImWLvMjwuVHRt2Kj9csW8qMCPTaxhsj4wLJhkVmfHcR89mh7iAWei6DMrwxIPY3NmjT4gXqvifB7HyjRokYm3OWCpqAW68VyxDJPGsPPZ4xEAHeATXDP11Z1TkoZiIkJhrNW36IMAk2OflRJsiThSEbQ1IsKIezEuUQitzZWmBtXHRWKd562SKJQ5rjrnH32Ga3S7lxnXFbOQ317XVzpGr6sYGY70EykjxE2iKvJiFQE7tduDVg1GpqjepMttcbdjUhEuyistZP3eAmuzk4zaqts7WvtC4hhyOvJ7e9dGoTO6u2GbHcGwUN8HX4iQbdpuY2IhQWDSXelqG3OIaOcx8GkcB4jfprguXnnciJanRMUipSZQqvF9LcvcIoIXPLFxxAYqnVHeavBHShD0cBIKfck8sx3vWE4UYFfJQvJfeRDBSWW45qNSvHXE63C6GAjwIADXbbs4SFGMe4kipDOhxhtP77OwgXEDxd23REIajLyt3DtPpE1EoGRbBMBFvrT0a9fL9zVJVxCaitkW8KDQL5fcP8VOB}}\n",
      "{[[[(GQMTKPurEddihC0jKrcwBVaTtfaHjlyvMu1cyHI585INp4nu8RykdQk1DDc8JJ349hAjxJbzedBlmPgujRzRJVaMCkZRkV25IGqmWXKlFrMxMIdES5KvPUavqBL4MjyOJ6O6xRc5xE0Y9DXlt3YbFDFkks2hEfAsQniPwgWiXxWxBqUxGOi7PO2zRD3Nfzmb1QRyx9bJopJUW7maXgcNfgfVmwV9rHrlXEjFDvfhy9uiLZqqFjjWnFpCMQGsuB4w6VHKpC4KrsC1XhiO2zmnDhhU8t8suS5UNKaQUVamRAORb13ItUIDaB6o9jjIfQe4cCoV0R3t1wBoF3EeWzrnSeOUunvBIuJ3y5XPYdPuPSQ9CZ3k1gYKwK5unDISzBLRkQsfPBeQal2zHkgZxyptNlII03aMS0r5aVeAWLGYIWGoR9uWkXbbWIfrUu01lDm4C18Kq06yUvNWqr3IMajiPAOwSkkPgd3aDgTtvM9Nut7pw8etyPg4QyXG1whneHysTs4bt3NPh1LnADu7DtTXqtPyIvhPR6HuzVSCOHiDCD0ZdgBtOdUx1OnvYGsGr2bXK5F41kKBuIzV1WzpzVxkzei8tUU8JJfoenls1Y6oc3RsnPZX87i5wjzkzHSnaHocun6TuWXyjpqyupur0Arn2Viu6vZimnqHtXKRxy9YHe3y3YR6pVtis87hQOkWTzZEfaA9TCNG62uDo1hdEQFVTXtLXBBWVabiH9mKXEkl4VH4df831Q2TUGD9YTa4WSktmIGdE3i9DvuvLni4NDn79bS1zgmBAnVtWd0z1g0Pru69nF8Uz4Sgoi6CVmuhHfMrexTy0gmdgDEO2gcoRy2PxYZj6YkR844EMJCBrRwnyrwewqajb6SXa4qM186UXsAfAsHa6lTASrou4imw8LgPG2zwrq2Rrwcg2Nc8BIqSe9igkvHGkmFQffrBwArA3lZ0O8ERop6ahGJxl3z4dV0OXyirjbMyR8064SpP8qbr])}}\n"
     ]
    },
    {
     "data": {
      "image/png": "[encoded data removed]",
      "text/plain": [
       "<Figure size 432x288 with 1 Axes>"
      ]
     },
     "metadata": {
      "needs_background": "light"
     },
     "output_type": "display_data"
    }
   ],
   "source": [
    "open_brackets = \"{[(\"\n",
    "close_brackets = \"}])\"\n",
    "characters = \"abcdefghijklmnopqrstuvwxyzABCDEFGHIJKLMNOPQRSTUVWXYZ1234567890\"\n",
    "\n",
    "stack_times = []\n",
    "string_lists = []\n",
    "function_times = []\n",
    "\n",
    "for size in sample_sizes:\n",
    "    string = \"\"\n",
    "    for i in range(0,random.randint(0,5)):\n",
    "        string += random.choice(open_brackets)\n",
    "    for i in range(0,size):\n",
    "        string += random.choice(characters)\n",
    "    for i in range(0,random.randint(0,5)):\n",
    "        string += random.choice(close_brackets)\n",
    "    string_lists.append(String(string))\n",
    "# end for\n",
    "\n",
    "for string_list in string_lists:\n",
    "    print(string_list.string)\n",
    "    start_time = time.time()\n",
    "    string_list.is_correct()\n",
    "    time_taken = time.time() - start_time\n",
    "    function_times.append(time_taken)\n",
    "# end for\n",
    "plt.scatter(sample_sizes, function_times)\n",
    "plt.show()"
   ]
  },
  {
   "cell_type": "code",
   "execution_count": 12,
   "id": "920c86f4",
   "metadata": {},
   "outputs": [
    {
     "data": {
      "image/png": "[encoded data removed]",
      "text/plain": [
       "<Figure size 432x288 with 1 Axes>"
      ]
     },
     "metadata": {
      "needs_background": "light"
     },
     "output_type": "display_data"
    }
   ],
   "source": [
    "# Sums\n",
    "\n",
    "stack_times = []\n",
    "number_lists = [[],[]]\n",
    "function_times = []\n",
    "for size in sample_sizes:\n",
    "    n = []\n",
    "    for i in range(0,size):\n",
    "        n.append(random.randint(1, 100))\n",
    "    number_lists[0].append(n)\n",
    "    l = random.randint(0,size)\n",
    "    rsum = sum(n[l:l+4])\n",
    "    number_lists[1].append(rsum)\n",
    "# end for\n",
    "\n",
    "for idx,number_list in enumerate(number_lists[0]):\n",
    "    start_time = time.time()\n",
    "    range_in_sum(number_list, number_lists[1][idx])\n",
    "    time_taken = time.time() - start_time\n",
    "    function_times.append(time_taken)\n",
    "# end for\n",
    "plt.scatter(sample_sizes, function_times)\n",
    "plt.show()"
   ]
  },
  {
   "cell_type": "code",
   "execution_count": 13,
   "id": "c3476c77",
   "metadata": {},
   "outputs": [
    {
     "name": "stdout",
     "output_type": "stream",
     "text": [
      "[47, -60, 99, -7, -60, 86, -43, -60, -26, 38, -17, 76, -61, 10, 18, 72, -100, -97, -23, -88, -22, 79, -54, -14, 74, 34, -28, -91, -6, -24, 63, 97, -78, -19, 47, -10, -74, -22, -32, -68, -9, 67, -45, 14, -88, -57, 60, -50, -99, -98]\n"
     ]
    },
    {
     "data": {
      "image/png": "[encoded data removed]",
      "text/plain": [
       "<Figure size 432x288 with 1 Axes>"
      ]
     },
     "metadata": {
      "needs_background": "light"
     },
     "output_type": "display_data"
    }
   ],
   "source": [
    "# The old max sum function\n",
    "\n",
    "\n",
    "number_lists = []\n",
    "function_times = []\n",
    "for size in sample_sizes:\n",
    "    n = []\n",
    "    for i in range(0,size):\n",
    "        n.append(random.randint(-100, 100))\n",
    "    number_lists.append(n)\n",
    "    \n",
    "# end for\n",
    "sums_old = []\n",
    "\n",
    "print(number_lists[0])\n",
    "\n",
    "for number_list in number_lists.copy():\n",
    "    start_time = time.time()\n",
    "    sums_old.append(max_possible_sum_old(number_list))\n",
    "    time_taken = time.time() - start_time\n",
    "    function_times.append(time_taken)\n",
    "# end for\n",
    "plt.scatter(sample_sizes, function_times)\n",
    "plt.show()"
   ]
  },
  {
   "cell_type": "code",
   "execution_count": 14,
   "id": "9a66e0e1",
   "metadata": {},
   "outputs": [
    {
     "data": {
      "image/png": "[encoded data removed]",
      "text/plain": [
       "<Figure size 432x288 with 1 Axes>"
      ]
     },
     "metadata": {
      "needs_background": "light"
     },
     "output_type": "display_data"
    }
   ],
   "source": [
    "# The new max sum function\n",
    "function_times = []\n",
    "\n",
    "sums_new = []\n",
    "\n",
    "for number_list in number_lists.copy():\n",
    "    start_time = time.time()\n",
    "    sums_new.append(max_possible_sum_o_n(number_list))\n",
    "    time_taken = time.time() - start_time\n",
    "    function_times.append(time_taken)\n",
    "# end for\n",
    "plt.scatter(sample_sizes, function_times)\n",
    "plt.show()"
   ]
  },
  {
   "cell_type": "code",
   "execution_count": 15,
   "id": "8e784a60",
   "metadata": {},
   "outputs": [
    {
     "name": "stdout",
     "output_type": "stream",
     "text": [
      "True\n",
      "True\n",
      "True\n",
      "True\n",
      "True\n",
      "True\n",
      "True\n",
      "True\n",
      "True\n",
      "True\n",
      "True\n",
      "True\n",
      "True\n",
      "True\n",
      "True\n",
      "True\n",
      "True\n",
      "True\n",
      "True\n",
      "True\n",
      "True\n",
      "True\n",
      "True\n",
      "True\n",
      "True\n",
      "True\n",
      "True\n",
      "True\n",
      "True\n",
      "True\n",
      "True\n",
      "True\n",
      "True\n",
      "True\n",
      "True\n",
      "True\n",
      "True\n",
      "True\n",
      "True\n"
     ]
    }
   ],
   "source": [
    "for i,sump in enumerate(sums_old):\n",
    "    print(sump == sums_new[i])"
   ]
  }
 ],
 "metadata": {
  "kernelspec": {
   "display_name": "Python 3 (ipykernel)",
   "language": "python",
   "name": "python3"
  },
  "language_info": {
   "codemirror_mode": {
    "name": "ipython",
    "version": 3
   },
   "file_extension": ".py",
   "mimetype": "text/x-python",
   "name": "python",
   "nbconvert_exporter": "python",
   "pygments_lexer": "ipython3",
   "version": "3.8.11"
  }
 },
 "nbformat": 4,
 "nbformat_minor": 5
}
