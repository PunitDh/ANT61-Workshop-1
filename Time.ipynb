{
 "cells": [
  {
   "cell_type": "code",
   "execution_count": 43,
   "id": "58da1789",
   "metadata": {},
   "outputs": [],
   "source": [
    "import time\n",
    "import random\n",
    "from Stack import Stack\n",
    "from Queue import Queue\n",
    "from Bracket import *\n",
    "from Sum import *\n",
    "import numpy as np\n",
    "import matplotlib.pyplot as plt"
   ]
  },
  {
   "cell_type": "code",
   "execution_count": 57,
   "id": "4ff955f8",
   "metadata": {},
   "outputs": [],
   "source": [
    "def measure_time(callback, *arguments):\n",
    "    stack_times = []\n",
    "    sample_sizes = [1000,2000,3000,4000,5000,6000,7000,8000,9000,10000]\n",
    "    number_lists = []\n",
    "    function_times = []\n",
    "    for size in sample_sizes:\n",
    "        number_lists.append(Stack(list(np.random.randint(low=0,high=100,size=size))))\n",
    "    # end for\n",
    "    for number_list in number_lists:\n",
    "        start_time = time.time()\n",
    "        callback(*arguments)\n",
    "        time_taken = time.time() - start_time\n",
    "        function_times.append(time_taken)\n",
    "    # end for\n",
    "    plt.scatter(sample_sizes, function_times)\n",
    "    plt.show()\n",
    "# end measure_time"
   ]
  },
  {
   "cell_type": "code",
   "execution_count": 58,
   "id": "0122a45a",
   "metadata": {},
   "outputs": [
    {
     "name": "stdout",
     "output_type": "stream",
     "text": [
      "[50, 75, 100, 125, 150, 175, 200, 225, 250, 275, 300, 325, 350, 375, 400, 425, 450, 475, 500, 525, 550, 575, 600, 625, 650, 675, 700, 725, 750, 775, 800, 825, 850, 875, 900, 925, 950, 975, 1000]\n"
     ]
    }
   ],
   "source": [
    "def create_sample_sizes(min_value, max_value, step_size):\n",
    "    sample_sizes = []\n",
    "    for i in range(min_value, max_value+step_size, step_size):\n",
    "        sample_sizes.append(i)\n",
    "    return sample_sizes\n",
    "# end create_sample_sizes\n",
    "\n",
    "\n",
    "sample_sizes = create_sample_sizes(50,1000,25)\n",
    "print(sample_sizes)"
   ]
  },
  {
   "cell_type": "code",
   "execution_count": 59,
   "id": "2cd44027",
   "metadata": {},
   "outputs": [
    {
     "data": {
      "image/png": "[encoded data removed]",
      "text/plain": [
       "<Figure size 432x288 with 1 Axes>"
      ]
     },
     "metadata": {
      "needs_background": "light"
     },
     "output_type": "display_data"
    }
   ],
   "source": [
    "# Stack.push\n",
    "\n",
    "stack_times = []\n",
    "number_lists = []\n",
    "function_times = []\n",
    "for size in sample_sizes:\n",
    "    number_lists.append(Stack(list=list(np.random.randint(low=0,high=100,size=size))))\n",
    "# end for\n",
    "for number_list in number_lists:\n",
    "    start_time = time.time()\n",
    "    number_list.push(1)\n",
    "    time_taken = time.time() - start_time\n",
    "    function_times.append(time_taken)\n",
    "# end for\n",
    "plt.scatter(sample_sizes, function_times)\n",
    "plt.show()"
   ]
  },
  {
   "cell_type": "code",
   "execution_count": 60,
   "id": "103f8d43",
   "metadata": {},
   "outputs": [
    {
     "data": {
      "image/png": "[encoded data removed]",
      "text/plain": [
       "<Figure size 432x288 with 1 Axes>"
      ]
     },
     "metadata": {
      "needs_background": "light"
     },
     "output_type": "display_data"
    }
   ],
   "source": [
    "# Stack.pop\n",
    "\n",
    "stack_times = []\n",
    "number_lists = []\n",
    "function_times = []\n",
    "for size in sample_sizes:\n",
    "    number_lists.append(Stack(list=list(np.random.randint(low=0,high=100,size=size))))\n",
    "# end for\n",
    "for number_list in number_lists:\n",
    "    start_time = time.time()\n",
    "    number_list.pop()\n",
    "    time_taken = time.time() - start_time\n",
    "    function_times.append(time_taken)\n",
    "# end for\n",
    "plt.scatter(sample_sizes, function_times)\n",
    "plt.show()"
   ]
  },
  {
   "cell_type": "code",
   "execution_count": 61,
   "id": "866dd217",
   "metadata": {},
   "outputs": [
    {
     "data": {
      "image/png": "[encoded data removed]",
      "text/plain": [
       "<Figure size 432x288 with 1 Axes>"
      ]
     },
     "metadata": {
      "needs_background": "light"
     },
     "output_type": "display_data"
    }
   ],
   "source": [
    "# Stack.max\n",
    "\n",
    "stack_times = []\n",
    "number_lists = []\n",
    "function_times = []\n",
    "for size in sample_sizes:\n",
    "    number_lists.append(Stack(list(np.random.randint(low=0,high=100,size=size))))\n",
    "# end for\n",
    "for number_list in number_lists:\n",
    "    start_time = time.time()\n",
    "    number_list.max()\n",
    "    time_taken = time.time() - start_time\n",
    "    function_times.append(time_taken)\n",
    "# end for\n",
    "plt.scatter(sample_sizes, function_times)\n",
    "plt.show()"
   ]
  },
  {
   "cell_type": "code",
   "execution_count": 62,
   "id": "cb6773ee",
   "metadata": {},
   "outputs": [
    {
     "data": {
      "image/png": "[encoded data removed]",
      "text/plain": [
       "<Figure size 432x288 with 1 Axes>"
      ]
     },
     "metadata": {
      "needs_background": "light"
     },
     "output_type": "display_data"
    }
   ],
   "source": [
    "# Queue.push\n",
    "\n",
    "stack_times = []\n",
    "number_lists = []\n",
    "function_times = []\n",
    "for size in sample_sizes:\n",
    "    number_lists.append(Queue(list(np.random.randint(low=0,high=100,size=size))))\n",
    "# end for\n",
    "for number_list in number_lists:\n",
    "    start_time = time.time()\n",
    "    number_list.push(1)\n",
    "    time_taken = time.time() - start_time\n",
    "    function_times.append(time_taken)\n",
    "# end for\n",
    "plt.scatter(sample_sizes, function_times)\n",
    "plt.show()"
   ]
  },
  {
   "cell_type": "code",
   "execution_count": 63,
   "id": "6438275b",
   "metadata": {},
   "outputs": [
    {
     "data": {
      "image/png": "[encoded data removed]",
      "text/plain": [
       "<Figure size 432x288 with 1 Axes>"
      ]
     },
     "metadata": {
      "needs_background": "light"
     },
     "output_type": "display_data"
    }
   ],
   "source": [
    "# Queue.pop\n",
    "\n",
    "stack_times = []\n",
    "number_lists = []\n",
    "function_times = []\n",
    "for size in sample_sizes:\n",
    "    number_lists.append(Queue(list(np.random.randint(low=0,high=100,size=size))))\n",
    "# end for\n",
    "for number_list in number_lists:\n",
    "    start_time = time.time()\n",
    "    number_list.pop()\n",
    "    time_taken = time.time() - start_time\n",
    "    function_times.append(time_taken)\n",
    "# end for\n",
    "plt.scatter(sample_sizes, function_times)\n",
    "plt.show()"
   ]
  },
  {
   "cell_type": "code",
   "execution_count": 64,
   "id": "a5b59646",
   "metadata": {},
   "outputs": [
    {
     "data": {
      "image/png": "[encoded data removed]",
      "text/plain": [
       "<Figure size 432x288 with 1 Axes>"
      ]
     },
     "metadata": {
      "needs_background": "light"
     },
     "output_type": "display_data"
    }
   ],
   "source": [
    "# Queue.max\n",
    "\n",
    "stack_times = []\n",
    "number_lists = []\n",
    "function_times = []\n",
    "for size in sample_sizes:\n",
    "    number_lists.append(Queue(list(np.random.randint(low=0,high=100,size=size))))\n",
    "# end for\n",
    "for number_list in number_lists:\n",
    "    start_time = time.time()\n",
    "    number_list.max()\n",
    "    time_taken = time.time() - start_time\n",
    "    function_times.append(time_taken)\n",
    "# end for\n",
    "plt.scatter(sample_sizes, function_times)\n",
    "plt.show()"
   ]
  },
  {
   "cell_type": "code",
   "execution_count": 65,
   "id": "2ed159a7",
   "metadata": {},
   "outputs": [
    {
     "name": "stdout",
     "output_type": "stream",
     "text": [
      "[{[{{7wvziAnXdHVoa6K5fSZuQLPV14wwhIbpbAYIJsxxpUWX8QHWNF]}]\n",
      "lOCcnEEXBhrDFx54BXI4FAZdWlYxW6twf70hcnrmjyWwOatRfXxMAcqwDCFBIBg899sD09oaRta]]]}\n",
      "(ZqbVfaUKgFcakTKkc4CsuxG0S48f4THFZeqD0g0OtIKxluM8FCQeEF79P5NKtQC9zwTuhVdASjGBiskhXxrQgNMnhqKpGLN0lvYD)\n",
      "{(k11WE9cIVEGawe3dMekIMxwmGFXTP3w1ZRKaIIGq0PBS9Se6Cdk9Um4gldHXcDRjOwvzAFuUq6flSNRVsNEIz2SH86URxA9bzN4P4s3S9CVMUWrf9O1gzRdgTZQVz)\n",
      "(({YobsHUBqiYVi8OgOzLnVYrZDBa57wFClhXH0VVcu5WNfBafDw1LETZwlc7vVgRji5IEJ6EhWtG9RL1011rFgujoq7ID0fZuSTV1DE2T7PF7jMLaWhpV9PNfp9uBTqBHX8Emqn3xcf8tZRcRIqfWV0f\n",
      "((e6QtdK5oeRQUR7qTZtDHxgUubviPuIzOrAHzZsefkP4a7e6RQDJSSqHlOyxBQXL3OPLFSmTaKS9us1fobKZt7sYhejYhugeO6S6hTekIlBIQ6X7U4CpTg70XwxnzGkJkrSys1xqgce2c3q2fYmXU7z82BwZAnXeMHgn38v36ro33yyB)}})\n",
      "(([[[3TOkcdmNFw9ZvYwbPKAwkmOWe5ik1AXlWOdzLJIx0Bkoe9kdWxwQ0AC72Ok3GsXA24Gpw5LtsxS8fblQbweaRzWswZEBYeVxBY5EDk43i88I5NHfjqrgUaQeIZ7IxMshGNhwiRrTZMZboPLZGHHqbMrtyqNjQG3ZSvz6yZu4hU76mLmWIWXTy2EfzKQlDoEsoUPnSZNr}))\n",
      "{{({hCBVIO8bfpY4cz3WKvTDqFM0oEqFY1JnCqj0ROP8VdSKH4d8SOVxWINuOdHUkBi2DRaZHRLoeJmDntGfr3r89HOgIsDtvKOFM9mIyY4izk0k84VXBblg5KXdFrTepx0uAngUrWUwO4Ys1zk4hjXw1DQg4Qqhc8qXnY97UGLCqodEFIY6IqMEge6HHpnLiAhsomNdqX1ORc1d80Los9OkDccT3qZgLVdDM])]\n",
      "({{(oMypPkkH7NAvFZKypsLJ79QEeinZdnpPk1Fz9h3yWA0FiFHOTEqyE1xX3038oB1jGZVnu4zM243Er3qf6msVwG6ta0nUGe4NLDTRK7kYaBQ9ZZSiwmi0IGfr6FBBDOBkFVNKNqRM4zuJJ5NSpmQPGvjjZ1jCFj48ZndnaJhxdrgwz59S5Whc3ZUcmiaDjKfiP4oVFdRbTX6KMvc00RfIpkYU3TmtkxCAATK0WngBgmWm1N8rXBSIJDOVwG\n",
      "{UhhxfTZA5xkiUkqyqWYzsyKYDwzHEz3lXfV4OOPcZNF2FfR2nUmgz1m0DM5oqQFrvOykebOJ9e6hBT1Ei3llnTPApvEWYQAdzqclyQwjv5OpSJRhOllvgMg8UVBTAJAa2mcyfUk20vEtx5fM8GshAL68Z5csoNG1CzSL9esIVikL2IVvlD2SIhAIG9WtRZncqfLrDrxsNntU4mnLugFIExMW3YW7LL6qn0UlkXaMkQoOsNe6s5218Nro4lS6NgiWqp74zAdkJ5k9n72iWgq\n",
      "IZNanUPxDHUzPQowPiS7hyIFNkj10R6MSMfqXbAqlaPcRTdmIPqb4T3in0gsNOUyq82tKzETQwGkX4sGFHahlXUM0h77r1I1Jtp5vMuNTNyOOUG1R3sqz2pk9kOIQtwhVAmosZjks0jx81Z0r84nbcZWAitT58hQgoQ2yxNhrlyjRnWBGhaoxlqgXr8nqntnM97t7EHI4qoDjwATWzSMDgDh11H2FY9g9VfwVqkyFpBGVJ8ki33VBwn8gcWgjjWiL33sFyrW9COXqWgCdUDI6sG1WSdZm3rs99d7TdDFbG74\n",
      "([{40Ah1GQhRA4kdJlitDccjXwrwsoNq9DC7NzZCtMhhHZcHpE5Nx3sMu1iFHYzxfWf0K5pogO7NIH2Xhuj7oekIpkZqCeMbozZWTn3MylV1kvlX7YlgMvViS2bGdYXJIrQYMJeJfDOEV1tLnDIYKrA4eOgeg0uHmtHUKW0CPn0CGD67ezxneaQ5MpmnmQPUTvKGqshgnqhRFHcTUQ5KJB0aFGfkanLlRJlkprLLQCAvFijgxTvUg0NVrcCuRjS1glmE0bSqoXPW9sPFBkLKT6GsvAWiS0y2wWR9ebaPzSmJsoc6MQtHCXFl9WEC1GRVVScIjjgt}}\n",
      "nsryTol8hMeeFYj7ipyC7FNIoE4xSk6B65qZmdSXYgFihCqFPf3VyxVAqoT31vZTJUQLxi9fJucNqGJ4sTjacQp9cZOTLfvLTbAffgRdqGGoZCCWI0RsS4HeQgOsOiMfBSeDYUmwE7QIe15Pk5vcLBSt5MyuMmUOslQWGFuxwdBYaGbUtGnVxe5NyM2BXwFO5Mq4uySnjWvxetiZtsF3dhbQFmZSsoxtnvFdHSx9PrZwgy87tUozKNWOeFoH8qOZu4eNfzusM9mosq5je7BnHoPDHFglNJ4haUGGbrg9P76i61GVUKGtZXADfV3MqPyGN4gS7GtEcsFEp7Q8m2uxTCzWROsmYk}\n",
      "([(XhhZY2rlALQqszox8FQfzU5rXFjJlMYKoxHdqIX9hiSINa8qw35LraUNLhnZ8KLi6fNk4qky5omcgPJEoEYecvUN7b8no57UCt7EUGuf9kwFYZo0acHZ4uhhbHpjEAPEaIb78nbJ6tX3roWHB5o3eLWa5Fm99oPD97Er66E0B3iAtdVGMFn5q14nmy0ruJKeNpotLshhUZGbrpWFmc9m14NT4XlcJi0AKar0cP1MRbhmmqtNJKaPE4qsW3xZIFaGyAvaQWKbdp9z2NmHqeUuzA9gQwOkN9MEzQlUGrkNLsilx46VkwMY5UgqpMbPii2ohxtb8NTSQ5LXPTBUA2IRek8p7oS8DmisK8ReYweXbgOFCxmHmbCAolu)))}\n",
      "[{([KvAQ3QFxmaPVVtoYzxAghHiPCLgJEcwsmVI88F6Uvk83ti7mj0wvKdwdyjTnQPrRSRggCrhAMtp8dJxrx6rO5dNQp5qSobTxcAqzb8axlMAAKAer9TLlyGxjWvrFjwNZrz2ugWGTrHiWAumRqV6WAUwIvO5mYyI8TIi7dushmtcGVPRTEgErgZxiadeUukbpibncIyIQ28d5O0VHmPpX5GSCWf1Tvjd6FwPtBqJG0AHblpC54nOYlGXo9XHLf3M1q6dcpHi7pm3DoTTjgKrAXiMN2sK2t6kWgp56xb78NL2kvBjzwgln2CR9YOOi6iZs5e0WxLNDgSxMyTAxIbm9p3zvJUciLNN3gzdC8TnjQlUoHqHVYmbZ7elTODXWzLBLYD08Uzil75rzU8BF]}\n",
      "[{[{ZbkqzCJsZYxbQpymF8gsuSZUll7nlhS5eNODnbMIKa5aMOA8bOBbiBgfGKwqN8Ey8aLgCCkfHg212QSfuHwvKqpvshXit7odWCPWchBMrTPoavlsL7ysQomf1nFRIYm6xuNArX5al2veGqV5Cw1JYbGnzxFRG1wrjrm1xSpo51ipkaBR05GGrf8Nef4d1L8PubKNAcHfUihvYOqWhwvqrtQKuZaueExcviZWc07bnp82Uw7oiGO9nxqK9wFts0rspBIi4kalqfhcSesH7UsrbkxdM2mGAHf7Qt5prmcJqCYKKFrgHbLivB34rS5rq1M8NnQruur049JKto7DwFwLjsJxzESRDubx6Uvvx9CRChqVQm2JFIl5xESCd5ep123xLDvSgmzqeyqWdqrFsbBjF1aiL4AZkLlFNPJTfFH19))\n",
      "{(l1EWjdryftoaBT2lUN77hLWVKvhBQBxnycVmCp0EKLFpCpgHUchI35hdDxwbbfG1psQ4JNocj4EdjDqzw1Tuqnl0mD1vIuMbEtlgXJQjwXo2pSi8UqQnR0g1GDvOgSB1ysJVy1afEygnitkXnKy6K6hM2blXQ9MWDtcgcx2iEcI7MSPBySfz3AphoSxxl1m4L50zHf6NPRRuDSC25ycdcxyRBo6bOuQUtqbaySrbdXQOiK49xJtmuk7RrcPG5qb4rLeNgFa5SDmYO8GMPfkNNiMO94g0JU4VKBba50YpZ0ZqBMREic9Adj1WXI2DXhdyS6SvvnD94Cq9RBq19Wt1tvYj4oG30eQ6DTIQ9qBccQcY1kzDaPcfMSrW2Hvd18rRraNjWQUe3VNaqttgYxFYPNN9Pbv7ysQsyqoyL7i5vdQ9dlAPxtKUl2TeVLTErkYBD8}))]\n",
      "dm4xsGy78zbKCWBoJIssw9a9WTbXkpcyV7mpQoHL5JmKxAuPkt7S7Ebo2m3845OK22mLrOGEuhzfhX80mpLiAD1d98WPIcrVedbO0GGNSmIlmblxxjxRJLCmsu2ExZgfgPNASeHqChzxwuJwMF9fDPiRPxLujHWwp9E9dNZBlO4HkamYzOiyU2HZChxesSMYGpQdFOuOMEVuUuLTR6cdKydSuVXx4aQib8dfsjP9YuQC6bRVOKzZSbNHyUzWCvyg5QWGLuMQlyox4sHBV92ELhpcn616uYfBICk26pe037rxAaD5COChNRXu83kjueiTU0JfBPkNfPLplVqGlmcbwzFErYfReYg4uM3TCKTNuZiNGAlbvrIcbS1yzQBKMeDKKWZuRkmid0xlBFx5ZdzJ9W8a2Tjp0PqYBQfeOQzsNpmqyGDkE3Eh3szBVE5xGUL26GhFULzQ0Dx9dkqTq8di6hKB90z])\n",
      "(mpaQnGDFQEww6CyXHYEluGk34s9jeO3sciDTJWjkajs2w138IV5pwII1663fZdJavtpOvxrOHCaOmjDi77YhlF1z3hpXZcYb192mto6xF49dOHDD21IwHfYM94YtyRrcPoeXjEwATClmWvJngrgPc7NXM6rUCPtRLLe4j3BLFLwRoa353O7EJBHw6i8jYtQaxYXC5jUBATpt0jopSdXRORVmxn8DiVZbMkTXcJEiiKJTttEdqBkl7vfVBsNGCLZ2RM1lbnc1N0byMGPPR8dOUBOasY5YeZTmqg22RjyuiD17uYzBn41D0vM8kFN3xSgWcq4Q6if9hKieZ3LnKkEa5qKIZl4WXS1Ql7vtOo01GSL4x9EHbVxVXcrWS5CyUgdIJMOAZ6K0kyqjWDopPFZQZA4GV27jK0xmOdc87i2I1d7l2gi6lWEFtYONTKMlnqqdMsLfR2EFzMD8m3tdBl3OcDpKZW9BJu1aIClkXR4nBk1BblLnfB5E]]}}}\n",
      "{{[{rJQqs4EuQFY2bMbOfXXUklfEBaNFcrdUYbUT7TWBabWGb5qvKLsMgIkGBe1kqLgdlB9QQEnisMpiu30aviBoXLFWm8rUo0CHVEdHnvt2j130uDJDtEzisO64LT2erErsRt1N39jsUSrcrjed6r7ds2OQYvWLmKb8zNOYiZzYVR7Ze5h7s823OVA9gUBSMgXo4wBpsA1sXAxMd5ZrjyhAcRJehIX3WvTesPBVv8t2x2E4THqIs4e12tZaPKKtDEonVGC30LijeQQjMf9YAUA4DutUgji7SpB8NDhcISpIVO6he9M6gbBly3qd4xwDpQ8QODfbYu3526MELsYsqAjx3rNZ2kaY4hIJic6cuylQEBajO0FX2Rpwg3qwpcgh7WHhxFTDj84ylrdHwlBJ3btmGdACcmw54egHlK2vLMvEPBNhzO4uLKw9Uaf2pAUAAzcAlnC3oGDcm3Jey0zlzJ7jnbsHRqCIyjXAxAYIikwsFfHycutq30YKQHgHPl6O3XstGu6YKzgCLAjIB)})]\n",
      "((({(dbDRR2sXQOU4y2ACcxhccANHTU0a5VoL5lBGIt6YxkUvdGQhVP7RR37C9bxQcEhbcSiIHzfIspsrGyuZCP1KagqtxQBwOAWxdC42rYbWAfqf337XRQB8DswP7TzjSVT7qTpdlukTWFjPWs5rNbS3j7A8DCfLEpv0IIvW2SZtqUz7LfNqxNRX6EDSxGfb2pIwKhBhSIFoydLz4MbThPPzEm2SErmkaRuxLmAtnDHEGfFKFkRADljYo9y3sUyDMBbpeEnWp3CTRbhPmjN9DLUg06nq2ehj1tOvg2FSyocyZdptQOnKOrYh4LcrUMNNttHM5PBmunfl6PwJpxk4CQ47fuDcR7xvaMLULnvBrQ8eTERFa4x8KwRkNze8NGDV1hb484OqI70EBlu2bXu8QYwitFVTBuwvWU7kG61JTTAe8cgBwtSJXNwoZZqsZdITxiRXruAZgLt7tPCIke7NC3WfqB48nxbTYWeEb5Amgs9eC1SVSnrYSvbhVMQ0euT3EiU5fAoPsniVDUbJsGStfqNp9s048zUxMDhcjAziQs})\n",
      "[({{xwYtnZll150B4HbJcyZWlgF7jYCWPggsbcuwBLYwRvHzUk2LnXifNce67iGu6gEoxTyzKokrzfNLB1x8bxRG8VQhKbwadckyEFtwcSqMjwZ8iklo4AOYU2GmQytAYki1Wp0AytFSWLmx0pubfJFai0C6DSVGFqUeqKK9BBoCQPonSRFFjfTV6yRmpgMBiamXkETEKVyFVx0VEQPPKHxi85NOQsHTGS4ksbhto9re8edLhIQ2YKQam9mMwOyjpvGCx9E6tCvx0mAU23LMVKnlkFE5oDOomLvUTXC1lI0fju6L9HV51HEj0KYowMBKQ8C4aEjyNYD852JrbJuW080Y6kSH7bqxz3Rn4qnlImg4uCgaOmdyA4oDor1lZPeG6FHv00ylsM8a9WTqz6naOyb6Q1Q9ZmX7W2Jf3VxcyOfcd65Bcm5slqpne3chGNLglONLrSDsLZlO6qOcvLCxrNhdEcGP39PqHm8ZNZF1PhFpSIJU9ElGbUxT6MbtbgjWigc2sYM4yI7zuqkyMZRzw2Ybte8uK9U6fzFkBCpzzPYCgv1YO9LMRqzXpTsMtqf6Z4n)\n",
      "{sGzaV6afJrqqQl23RLUAP1MBnLz9RbPNNIrhowikzTBJUZkbkzp62e6H5UAaBj51RNZXdSW09tt7v75y091TIpKvgbBJqoUS9MXJWGRgQUl0oSNxEPv0gGOHThb6tevtmPED1lHwFNrvPbVB2GmUoRDi45U6qVlBAVojP2LGpSJHaUTZnsP00NMI6LlP7mKBp7WCUQhJQSHLEdCuSsbfYN2vLQkyidlJGrYCVplgNMXKlvJWPSXjuz7q46ajMjjfOlvNKJNYQons2qhHCSGG7i6tjC2IclXfNnyKaRXDrZKi45YAp4puNoikTMM9XwT2Jfm9iZMyEp2CEYHRnkinyidVF9za0jWvvaZ5XL15k6TpJVj0f9hZa9uEje7dKWds3uUWZpHWDjH5rsJQeq88l5WUF16gmtB3Qz3dxtokxIt6kI88aksZSjHHi6kSvcbEnaEpNfi1gEEgmGTAHE9A81mIjMmfgb9OS5h3bcikF579CMxHae30XSB9n2jTwfPxCCMGBsgd2fIEibjVRVDK0SpnX6miIkGmxz4q6wcByGAFKdQkW0HtiIvwpaAPEsLMSQ8MN33u3inm1MJYoiccUfkd\n",
      "00FajR8orufFGqtRVVqLs5xfWTix49sZG4l1F8VEJeaUA6SLFadmOboEx1PgQ0jvqfdwJB1chHxi003HiYxjknXLMGCZypsZ8wccciE9LhIlEgFvkLETECQv8SHBRzKVnTECg9AY4DcBblSCxpohBNogT9DnkqDTgJBUafMOYiARJVJmTC289NbXLSEH38cbOtvqfFFiwFGVlKTYz8C3UiBRpESaFEnEbQLpaEvxWd2HMJd4Pq3fgCUuDNfZnYs2OvYXKxC6tCnIe9rTXCoxlpk4wHSsK3ndDH2xSUK5F6mr1bEv29gOONRsf8Lv2jzvTPLqn8xuZ97xOosExvsSJNMk4y2dFhOTWuvj9Bgme8CD17EtcMF79ofpjAbor0Uuw3t9GYxXbYmxix6KefUNBzdyw1qzvxVgsNehGmKSxKMrv7PR3dZaVbNLEWCy1YZqK1R05IONizsDL51la4WNxfsOVCXWfR6GaoB7ks70D2BO1z88HIOIg01TkiJw28EravEgivqKexuqKpwzGIqEXsifamo6ncqLT4DF9JusRSU0Jhet2qv3JR3e0HViRTJestbOAy020ENCtk20hTYWGxGYxSK2nMX3ykXFxPaYKrJd4Sgqf})]]\n",
      "[cKHyHwHLksTxJRawFb76zXdOZx4XySRxkPHsKFQOcC3aevO4P5YkziGBPnhQ4GDllAoLrEKfaf9xQUiR7rEkPiDdfLcw3tMskrvXivjsEb1C3fKWJWh3jMSqPdZuGYg74wrJAyZYOyyPQGhc0fyPPVB2ixitbySPB1fg056p6kpLBvgNBF8zEqpuDntDlEc5jENeQmEJDlDfHA6pMqKodIa38rQoiZ1xtSTuog6l87MHajluZUkvQrsVvTrZ3Lv1g6yzaej5ujHkn64aaOQ0lrENwRYveKMZYvyZioSJthutLYYhZc6flr4zWuszJJoyCEC0GraS2geEesLAZTuB8PU7UEvWiTfZarxzGys1up9DkzveBaAV1U8t4KdEImUOExfrabSxk47ngsaKB9FuP0vs2vGcpODimr2tWKq6xWN45TRM38dx741xGAKR0m8YHcAkdcs9Zzd8tD2dk9aoLZkiLGJs8nQ9GyUImH1yvYACasUaTXrDv8STC3RVbQtof7Ps4b2q0OmTQ77WrWT5Zgb8K31x6OIhee2JoGprhAwbI3J2tSTWFrVhHOwxGWdSvnmjvwEBzRCLxGPIkdX4ROUIJLRzX8cWTwBcm8dQrtAAEXoCIwGp3YVNW6kAtGOQmOFTFOjWa4\n",
      "[I26Y339KDbfUWsPzAD3RjmykmfG3Xr2zRorphY9TfUFNE61Jm0DorpqFLwfZQKYgjG0PlTdecOfgiFBFuuLniLTgwz56xnn3KQ1SW5iHEH0tIMJI4yLt2xeBVWFQ2IoJXbmPrcZ50GkUDV4j50EBjV8dbIevshQAY8aZ9RbYfBhRd0zAAxudHBQB6iIAusVVZlquBMYJmcqJQh0JyIAi0Moh3yc1BLu2boNAFRxwRGNgDbEgWjzzwx8vNDtilEbSsdF6jfCrAJOZBnSBOrK7CzvK4H7bB5yMLQHmgOD6O35Wl6QMXkarj2FEnVDRz12nJaerrgtiWY9DOQ6CpfLmMfcsY8cMFo9B35f1TaXUupP3JBc2qLMIC4lqnU1OQ54r7ImJOuWQyagfY4BJNZGNB0E7245FuP1ARel82EJpI8CWlhJOyr5fKo4o8tXsZAY5tk6f2VbqhvxJnrK0YkSi8sJvL9U5MSIlm22ioLLVJiiQCN4sGOGpLdsFdqf2wsPRqndWs0kAaqPoanCORoVmmIPbE6iwaG4pX6jBbgHkS4LLZgI9Gdg0bSUF4IIP1CegS4FGwsw3aTku1MnAexHvenHhcFRClhljdegNM31mopzWjoWO6BXUaYJpxLO9J53Jn9qcJFA1Lm2kUFE9U3bE7xodP2G7WFLhEt3]}}\n",
      "[(([(8jMEKgxK6FXxTLWfpw2MWwO0ehUgldGCRSj4oIdy2zfBzul5jZWTqU6NQwxQxi2jRme63oa9WCBXjwud584pgWJaEXcX4YEw1cArv8rhtAsIWxao3EXe2zIlCnUAzejxC1xVaQ6AhNDLZWkJ7WbLTMrQwvDbdkLRdWknv5JyLwpbc9wIOTo83NkMuigisy6hTCZA9GamdqABUkRzmmh61E5Z7lVQxALrFcEukvT3fxEba3MB65WTrqL2pOK2eLTtFXZc9hJWu8YOSTzXqasHqzbBK2J4TcyVae1UjH75ZKmRVCnsDdLvrYHANdXGZHAygmvQo6tIAVZi3caHaw16Qm7nlj0fJgl66a4avOu2oc7IMF6okkZxKFz2rWEsTN1oU8A1DfqnKC17db11I5cMzZ9u9Q4UOuGMFbc2PBJVUMaaaWXvX7JWWQ1KpCT8Apg00zqc6aBNrd8fIbLWlVlgYVkaN52W2cYz3BH60TAquDxuB2oaIa1Slko2KeuASCAPen694GRdtCkQ9yUib5b7O898g3kN5Q2xx9BsG8OBIfhWgvwtFMulnFzDe3ppJiMeHoJxEPFGWyPtSVvhJA8snDle1EFk1jyoopgV7YEGRsdT2ulkZDeBvfh6dofBTT4aj3ZpV2n9KWvlTXGG5tmCWmA0n3pDLXZaT8nM8wzsgF7YH8XqHm98qwYCR6NL\n",
      "[{([TDK8uo1yW3AcZ2gTq5TObrqESEoYQgwk42rdBDmyFYAfrGqWn7ha12C800K7MGuRKhf1tCqENx68EzRai7nLHd53FMRAROfofYlbmTKIPYTiNjSOW6DLX8CjEZjB95Lsi0TMit4mydM8rZTdy0ljNGQeZQbaKXV7r8DKfLtDDbaIXDjojj3FNItDQzr2tkTj7WXwkQlNivtwOVtdKfO3cq9IpQXgyP60Ug5rprlZjCmNrmrCnRGAkG1abuXDPY9WmkRUGABNoWFkjM3js9EvaGLZVtZTucBaaiAbqQiLhLANzSCThRX5GfsRgorGMVv004A7VLFBkE90RJGMsnaDZQVGjYfbSNzCl7ARlvH3PlWpPkMaksNEAvgaPuPhjdX23kTh8RgJSJoU5FYsajM26axQ7hKhgY72M4KzrvdMSv2iDWUmYaqWfrG5JruwmxF3Bb3P6VvuWBVFXxMbZ4rwV5VM0AtYpCET0pAOhPLLQib0rc7ADmdrwv4oKhInYnvpRL8cDsN0pXhGxy3ZrJw4JMKB3xP7YkODSxeOof3RyfCpm7ov9OHzCc2XqKkBsLvjtIR5DZq8TIPxIjmTTdJNAAAwOgassGWSjVb6TOhDRbvqhcteel29YtficsU1AhlC9OV9y8AjFBy1biuxxY4V14nRTVjnAVWSTo2GwnzCWQdqDDo9AcIl2OV4KnsNKuIvXzH4ojY0AeWzJ9mn22uBn}])]\n",
      "(0Sf20uHyeOnWdpC6RfY5bycnf7VU3jvNhdAwkQDGnADHX4xeIFfmwxuWYZ7qgIwJ0fQh04BGmdlXfiaNYOi8ObkwIUBUGPyGb5T1RuXXxeYKqQyecxYIdOLYJ7cLqdW4ll77jWUWlYC6yJPtskYrzJIbEfSXEjbzKMj7fX4CyTH8rzff4K233nHwkaa731xuXpjoATGiAn8sQ1UyNbUy4TSrnvVNUvFmOvV62Nwl5Xu61i0GTEQfai8FA9Hx5cqQ1ns7B5v64F7bYLiBnPMxR0HyJlhbZFH672ZguD82Dzr8cDRCzWJghH5wW3FF3wORPIfzzUOnQpGU9sj4KIhirbxtSizbfesc3fANymq3xVSYH8oKIIrxlwuZajcz6vi0uizpNhTAOKMqtI1u2oNkMkjqQY0FwZWRMjCQuath05jJm8u4AoxL8aSUwICnUaSgz5LptWkqUuKYFxz3ecQsGPH81xKb3EkrvCvwpO4XnpY7pvVAwN2S63LTar7ROT4PxptyGHKg4J1oEY4W1PVWcTgxpNkNuV6AUA0qtHuazLFqYHDl9uiY31Ey7JoSNYdS3HbdW6ngQXW1UEQdpDerIGCLGsYYmRSdxmmjN8h764vZB8qpjK7YGCGL1TfCJBBwl3BjYKRaeS0Kxf0nq2RBqP6w7GY4citIf2moWbBinji8RD43ctqJ7hauYQWJHQmYKiAkF7XFoWvtcIoN9kTnnQBT7FNLUa2JsDkyU9rXiQgNLb]}]\n",
      "{((({xBcxuGfLSXNdfBbw2IQwBOvQ7in8a7KjBDNDdW6WHilvBFJ9mhoMQCatit2FntjnmldYpzaZ4pcS5jPDNb7D1rpU8XbQ2ak0ONsvoQt7adOu1ysPdN27kD0APLIhwnJvyW1PEm500wrmb9bYkFqHnTjMF12wBhdccdL66330NQgj0knzdYwhD09yCFmMF90YaKs24IWFbrtr7qHFTpneuybsQ43ZAtF3Ou7EM3XSPjzSUO409zFod0xX1tZlKR9k5jG4tAeYWiJZBRgXDcb7s7QKnUw0fEWjgVLvy7hBNKn6kcobDrLAEesdrajqvMpjExTVABmrEDZaJpxlAV3NEe35p8BePZNOjobb3Yz3g28mIm2lpfYSQDD3tDY9RYeog80LJgd3HM3Wo1S8OPvD4PBpgnKlHtmdeIpGTxzyxt8cvRE38p1cQ9BOq0qfBQl2KXUjb0zTdmhlEqGbXKvIgEk8xTe2TsxgtQTRo7SrZM77okfKn0D0h6dURIL4xCVi9K7CqEVStsHopIm4iFrWCZyuD1oAuc8rqUdquzelpyWvUXFoDoIzX6n3NoDInWSYxsAVQc3i7GZIwErhEJkTAQyQ3LoJA2MXTqUIp8XtenQEbKlmSsFseuNjz9JChQxmSnMp2lpfe6lc6Nyi5sZyMaSWApK8MEtrrjrIzZZkl9G01wrBNtxKeVYaunaiuqpngSJdSEvhNZb8HS5EIzcwCa83Rg7ueRvsC4b9HBKHidmpk7uiNJLQYBVx5mJiVzFuM6pttRz))]]\n",
      "[[JUrnVZgfftSvm8Xy4TlLngEJdRmP8eck4SR6CtPItTnW5zXxITrB2ntLPcXZJ6Au2N6TYJ1L2wsk3ElNNfSCRusRJgSR6DFTKaHcPPT77gmedTV2DK58y4UgpT4Da5LKRZRYqFeOgk09xAW8NYLYsPrd57ejNiJc3MKj3rsYVQqfVQgqt5CAJz7hx141CpaCxJ8hwAt6gOtzouUssKA1crsbXYz6w3bdD5A11eLVi0N6ITkmObbLrWsQhDbelROTh9Dvz8cAP9iIrBAWNUDnsEKuZnqYxK3kjpJuVHfiGcRosTOsjMMkfY9b4wxIuSr8RYKruQjOAaAUGu6hIOiEsYR36pDwP2o37MEwARu5LjBSKvR0GNcs1U9lEGuuSC8Z4ISVayBIuyNmaNAVYzEgzWk8zfluPNqQPUJIvd1FcTZa3R2DjxGwfjiReQu97tn9TGFc1DBwD4dt8oQ9wHTakW8rsJOIUvB7E3Vmrr1RbpFIkczAFtfJ9bgyhK6oLEY6LXiAXO6vLbVdRfQKhTKcd1QjQ5OuDhuNiEH3dhKNOZQjakZulNoxzppxVFpMqktglKdyWSVuRg5qHmbvlAI99zbZsYbRzCEbdzzTLtKCoOjtf0rGGnPHYsem7PJ86OkiMkxnFWiPy7hdeBFBLLHdqnk0MSEj7giWKx47WTFDmmivKo6cOVagPzp9MeKWbCE2UUa6UDsHyQ2ujeomvhUFGjYjigX4Tfi7PYQabWYYRHyCAlVKssVRzj2UitmKz8MDwFzHMG5qc3LFkJDkbXsZexL1cjmgTanA})]})\n",
      "{[DOBksDPwL9dkMh5iB7AWkKNROKYGBdAPgq2QiATr2K9xiOkXLpV9pofGgiCbXEuGT0VsgnxOdgS8t8g2Rk7FZHWmMXDFjpxXusuHuD2BYKgo7wIurADlDVZgjSIqJOM4M0itCQ3bKvGqAECz69MStYMFa2RmQaj3UcxvJAP9dbytUKfmWC6v2FShXHobyCx7tyADhmnbufOQkLHOmjMRG06tV4VadfqrZGMpyOD4WM0BauPbePsocCEJaJlDeBH1sdpcK5qgSGxZzwFiAb7yOO2PLviThlV5JYENLYx4F2PJhF6m2nFra3rrwODxxM1KqS0kzQT3exzBnMXCZtu32zGMhlNFv80vyhvhSoX01CnYIVnc2qCg4trHiI3UT6Acv3RhbmQUSyIDYxawHQ6Pwt8CKbiT6B8ccYAhYBIAIAJpT2DSyRlTuNF7qxL4TYoJT0lIsLqKSe7TbiYGcTS1zlk4I3Bi7V1zsnUzySmQHrtymYimMGADA8ePHpwWgOLSFOZ3ovJRa4fFEYteh0w1X6goYAmywQ4AyyuglFAXXSJgMJt8UfgmXTOcYlpOIzDabkHseR2WEzItbnXPDxj21hBS3PlhNzUnPuGLxODYCZkFrkOXk1ILOEM0FynCssTxzFreI4TOnBOhtEdtLZOonoOVQ6VCjnFxFrNQTZEBx9RJQsq0ItpszFvthcmJKppLsOSVDC0EC3REugr1YCPUxVwy1oenPkKfHNdygAe9vNSBuhCx9mPkrUWp8SYPgiB21L2NPbw5a3d8z1gUmZg2WIfzTN2fDR1eOtJvnlYY0L4ePFnlN1QaO311E)}}]]\n",
      "{{[{DSJOUMyXUkDhNL54lABQzRpipCkOW1k8RaFSePZoUU53XIw5ljyAHu1zcic8UNaL2PvAkx25OrrhadyZOrWdrtQrTgfNnAA62onweVZhjReoQAcB5kB8iTuuTOEobB3cAX4DYSJ3STFGJbgrDPBS8ZYI4DzhpxqLpC4lul0UP2KnhXlZgMwptetpSUypAvbiQrjNTgTCPSuILjScH2J6O41uypDsRpexmV5kJWWF1Cvkjrw6zEVct6FRvzIkzIaV8FmUqL3kRDk9rZhMjT3y51ZGTzidDtabTtXcKg4DskYLhE4jupgFUNBg29DyQdoEhE6ZbQvuwepD4JljmhEN3X5EBjN1NAUEg2DgVrkWqpcy44ozDN7G55bQoDpqvUL6fMeSl2OrDsBUHUOFTIj7Lje9HPGpqhFRI6O70MCu6i9b7ZthiG0IHQQhqWD9BNtOft4Vm043FdQSIVd7qg79gV6tkqlX8EqfAUOTjHrGL9JLTPenaNvt7JGyZm1FXadUhvqwm5CbBZS5kpIZcLPbEuU8xKMQeDXvaOju7Y6KHI2wD5IEUdEZ9Pcyt5hFCXvP9HERinPg6y0cUmSGOMBhIV7ptoL0VBOgbCwpgnhBdf4QO8zLqnsKcUUfR5ZtlcpKgxxo4LFX7159ro7QOJHcOHs0Xl8BVX2FXGQEMFsiiSh4NGMTk2GQMX28PVsCU5Cb21c065Q7nyyNAAvGR12PYV7TWQKKEzXsxahlv4LKJjSdI5PIdtxuMhlOoVNRalReoas53X79jUHgPBWUS4S202ApEcXgg2SqVcQegvDM8IVT0I3NrKabHyI7Q1jt6Jm0Mo68lacqgJzvlbo8h2)}))\n",
      "{([faClZDMt9QF6RRSmD6roHsvHdub7iv9WKqrhvsR4d4flNARkBxdlSIbyWsN8o5QfH9sqLRk9TQylqxMr2IspMI7WT3VrKFRgVJTPHf26SmLJXoVDKWiyCIKFGvDj9ld8JNQEkdDeVX05uYiE5hkEUrEFiaVuZlT1qEMQ35SUy7qGTGUbczKnl0OrefR9YnTGcJYBC8Fmnrd4bZT4h3Uh5iQeUWPXxy69yrl5tnVJMgTI9GrNuiuwaNpynWkmgubwpsD8LT4y21Zmval8m5wrjvb44EiwEk0BTGA6sx7gZLmTqbDj0skf00dU3JOAWCcwrpXHzcGH6HB2naNYo42FN0zqtSCJOKsv0rUD2vAAZaDOgcHs6lgvGTKbaB01jrjDhSawYpsN5Fn1hyAzXFu6R2CefjanOu96tm65Tc0Gv4c5tDulGTPYuySQx0brP3Y6XPRoGPjFRHXW7VSvwG3R37MVmEDkdeY0ZVkuqJPZvX1JXKyUh7bBR8mpN1ws2dkUIiHPGPPU4iBNQD14dyBqnDBduwqNyMAS2yoytSWyMQkyn4tqDAgqq8iqipV5fTovtrOpLaKwPUx8fTWr9vGaZkEFvAEcj49sIKQdoyzI2DK5jqPGVWEOnv0kBUWgGTx4Ev6Dfo9KgYSDDEkkbq0EsFb39X5UAtjKC0JNlfawu3Vbh34W14YL9riu5TPPJqNxIHu8MEHfIHMvclc0ewuJDfx83N7yb3tnCZQgRsPlYNzsdTn70Bu6SiJKEjJ78rowlfr0CITZKDi51qpAqoevZOcGD7qtyAP0vCJcP11IasOxvRouwYDMdLqGaC5dAtzi844OM4ALnUHmOq2ZpkOc0QBqgBa9EJ9FB3VUSYIgEyI))]]]\n",
      "[{{[rDvMtTabfaLgeiJhlea0o2wmauiFoGN2cG4iN5kprwurCVUhX3OPePb6wxKUl16XgClIcq4H8yFjY2gyYuaqV9Tt1MJ5y7r59J3xrVfJUclhgBuxlgHyNciMGWIRfVkoVLvfnmYjkPkgPKdtYXokgNE5Y1TK3ZRJV1xDE1b5fwodUcl6nYua9AMawoY7WWEbTpvMZHBb9ENVHITofQuOCkjS70vdvQHR7sF0gZu9jvS9EuHnyMVF2Mw6L767ckaVtSZpSEvuxjjs0rGSpJU1NZWAxBqNUyTKYCCKezeAf20OurrHfLntNxnNGBazv6nYWxlrP8Rc4plSzO4EXIKrbQhFqy9f4s4SsI0rUei4u0qwwQfHUWldkNeaFRC3iS4jaYneFRD5boDlJeEVL1xfQUcTzPISWsMa8Ia2PJF9I2hR3lbLQA9jGxnWS5TPzGoRvTtrHusQ7FBwGglLjhnbhSVV9PnlqPFkqNYl8PQQGpSx8kiQLG4lkCQBKS17kzlXH4sLEzklyv7eObp6p2eDToTdisaVryCCmqWx5LIn0OFWACe4FC4qzVBAKyCzfKIeTgUrcE3f9EB2esshTpj94qVz29sB4yimbqUDKompmQHIYyF19kDb8ye3mkffTeQFnkrDt2AkYE25EDRZXOQC7QTrKWtMCgivlZRwfoYBSRSpP7A9SMCSFbR7EajoLWjJEbYmDSzSR3N5qMu8bwZaDOqArwVVHZ4wHUE3LPwzYKvdpfY8jDtJATGoMnN6xk8pzlmLScmEeRSsRtrHfPpXETXCtV5qrwhZhGiesqRHJEB79nHZcDcXTivnNU4STInR021kekyoinyXLjBZBcX8S6uQ5DpjRbBK6HiKgJAhXS4HQO9bRtxMk2cGeSWxEuzejyFO]]\n",
      "[{mrytTMqeiFvozr9a5EdAKiDgdkDBaXe2kJWvuSZXTZRcAtrFnTysWLOjGWWqSwGxiTf8jxjEra0bt2yODIIg4Qqg2QIhnzaaeXh4UeyIYoWWtOKwL9kVHbzExd4uoECJowSoOv7xTBz1s2ebCrl2hsGulwVzNvDHVuX4OKyMsna62g3cb4ZYTp299TV1q4UHCtTUAEaJMHWb6cxR7nmZKBduWDFsb7b1TM20lwufl1VYTUdAS7Qbc5U4Uh3bqXFi0jjR6OZnXkKeZXpZRaiPiaydwDzHemEQf5w9BdM7Ki7k0ISNq9xCxglj1EGWUc73xnpOUPxOH1ZDbnMc2qJ93n2Rx8m8jknTBcIkmmgeyPFaTVTpECd22amN8YarBOWTW6EEmZa6aQk0u5ljv8SHcjiL8hGrKmw8YdlxRrsz5n2aGvTwZ52v5R2Wb8gZGCBYtBAamAt8riCBbZ6lxNcWH8aVE9sqnCoZrGXx4cbVWrprDb6O7iro8SyOWKlRTnlJOdzgozUZGao8cmpNvPa8vhMfaQsvo3kO2CMkEh9LJGMoFzNy3qyoahNyPnsx1nQXbOhssRPXubYAZuAPeoeetiuS27P73VeB1a7cUicPJsJQx0Q6DRjPvQfkWTJnu3H2zmyXRtghcfl0twg3kevG7EewR4Yj1NvvdZWik01yEAWuYlZ76ZW2zowiJNU4bUbMRtIIhB3L0z8gkabGKiRPo4odfyoqlaWngiTet4QmIeQ33gXKZWvK2daj2Dn04EJW31SBwsiBfKQsHfXYgTjJAAIefJRipX8TLnYPqhjIBw7yJpZrCkXxG4GPD52Y7wAsp7vRKdgV0chvTX9MWwUo4uG0c5srB8rS5a71FpR91MujkGDFA829mlxVhZnMPCUf0R3cilcm2QdWYpjWqnm88Bggpv2zL)})]]\n",
      "W0C68TaJFsOsmrXJkw513XkdY8pn0gVIhAP98LaSQMWSg3wd0W4XIDV6pLWivUc9b1cHyBQ9ukq7VFQ60zeG9kTGx0BR6fUXmNlNQXxsXaTRRBUU4njjSEYF5FzkRNHO4v6dbuj8qu68XL7zqcqnMMYknQ1d4FFXTzBTRq0BlwrrEVsPezNb6KY96dNKu2XuvGRbEYgMqajz4Lff1yNJTqu0qLtuenKxdHAzb8ahNUyAysWeGiL4GOjywusrxPqZQWVbnfEvVRqBFIkDMEI4NiDj5XPCYns82dobU8G3JwxrDpI5BfrdQs1JLRIsumaWzouJRaGFJLkXhNkpl5gdq0Zo8c4AU5ECMXBTxBuIsbugtCVaROIShqrZUjg0sRT9WxBaG4eIYkXgrBA2Zf905kh7Ag3SJUmEhNVHCiiUOcSrWlUchQGuGWoQ5wICvPXE7lXLIM9zlaQuFU9irJw4MitSvCVUhKTecDyq0pNgNCqtSMoZxyxi0ZrLTnPCH8cSLrdwdkVe2M8e9Gnxi7560BTIiTiERnvyFdTCAlMGkXPck4TaxrdQBhTyhQ0niSOUafw6mo6cQ9MNVZY9U6RmP4yRKJ5GVdOptYaOnF9yyfyk1ieSoP2X3F4HgkWYmA78Hwf05LaGC06HZXG8V8kAl4h8EnTuY4nS5WtqVFrNZXcZgtc8RufzxSjCS0ppPsda4Mk9NrSF53lXojidyNAuP8KoRHKd0gSMlJ2U1LJoEnmRfGTJbDDGnazAQAVD0GaVhude24RdyPyGOtnShVXt1Qnq6NVoxovP8oUUF7iKLtziI5tk007V6bfXXxCt4utIEgTn0LraUzaB1uUTCxZa8HGaMWoySG5kpumP6onoN8WquWEzZu6CKjrYX2BQf3GZpy8wy5dy9L3ok7vw9MwN6Fo286fILWppAnMUJ4zkJdpx88cLA1CI1l)))\n",
      "[[lWHkoMRTjLpO8jdVgD12RBeHETYd9aBMLW39xDtLKTOZpsCGzj7tXbbZOpVgM5SSf6C0NchHjfF8u6nLB65e0lfQozSbRrqCq1IKshI6689UrYKtwo37Q34LFcgtwUGRtcoHqHCvGGIFQP231wFCM3CCfHVZpiAmoaaifMsX5uzU1V5EHrrtYhtlUeP75MACWjyJmdwbunDVtVUC6gBNqi8acwgDjL5hf04jX1PejwDhoYKZrdEl6adEhRVpO0LlpkTiEzSZOHpn5H6XKB1vCc0RHY1FHltpPAB1qiBLnZ0nITFZiEM1FpoTM2QkTOYjMPzCtKmlmetyXK3ZyMaWKaBa34xHJYj2rYc63IOt51WBIsftCIfOonM02iYF928aU5jX97136b8hbBnsW930MuPKkS31SxvxPMPAd19ryI1BPbldVWEQKD4iJmaKD93XMBfZMcQKfbIuFsnahDDj8QxLPSnHgmTDRmNzq3rqJ2SkIANUpsNgUUigwM87LNmqx4JH8NO5g7ynRcBLTME0QwV0SNjLUItr6sWZeNJ4fZjURgE4Djss2xSaawtkjzmaHGhJeqxwysiS2hOmthMD5ZQfLBLM5curECx6X5AcepRWSRAGVuc4SUfqHhJcShrehjQc2yYzan9mt3sRitg9BWlIBgUL4uSoS0eEXL5YSBebDYPhPqyULORQKHgqDtw7F7exQCnremQFSVx8AmCBQmhz81zDGt0PkN4aSe5OA40UPKLMn1u63OdPC31xkFnCbuF2diw1UIXKpDG1d6PzrHlDxJaQA33AEUHuLKNepl8HbJG3GDxCsgE5gNb26G4jYIkxAHQPmkdApJ1J9JN8NemQlPFLV0WvkoOrsN0oScRAxrjuSgpbPPHa94b7QDSPgvbluBHniXg7toqjS3CCKXW3nQgYYoxcWYIaNcrZkfmnLzHZWNyVZd90L3IZiXOg6LiMFkk3UltuA8Y))\n",
      "[(({[I7hoByNpSoM2N40lODJQ98A5bvgmB9CtdOKB1VtSVXgUo4qqpTBbaLJcVZVSsB6H30kLslh5STDbrpKhjo3rvP5TvjCOLQyYgB901Pv5pwZJPloIGwbBj1udzDnzNLTBEsdeJb69bAJOnLSUgOof4I2nV9qD0Ah2kBZAbSDDDsZtL7vUfk0LU8F2oPJsoWQ1DHJvh340l1ppvd8siBTdv1w6WYmOBqFOlaqXzRgv4kSLnCtTiLACO7G0W9hzzg6upeh3tLQ8X2wFl6ydWNkp8lwJ535IXvOj8mJDFrcRBWMPpBVjX5DbpojLG8Pyrn3sfAWapYMwMRetRy3E2XpnLvOTcM1c8pRWdnoaBxMYQ74hQjTAp9Rp6g2IUfh4Ru42Ie87VpgqjNAz8M2l4nfZx3IUOpcnlzsqJBgjxGShVyyKVQ9RkCx6vduUHpik2ggrex8dkKZ3a8f7Ov4M8KPofSBxjJPKE6fHMObF3IqA8s0A8xA6bPYJs8Bnd9n5Nf7jkXEA4h812WLygopb669CXOp8hL3mQHVQUFPXjCePJoTILDaO1MINdlp3xRm4GNhXzXKzRqpv2AfAHnuWEc3yqsLhvKWDg9rt5GY8h1libd6E9XLMIlsW5q4EAdLsyGQp4oK3BDahtWF25qpUv1DxhC9HrEnSVsrRxgR6GcO3wnVeIvijFg15WbCHNC8N81Ilb4XpddfonuiXaABYXgJKNG5JB3sCzEJg0b0OV3MBKwBaFGpevgxxxWa3ZcDB0McBIlhsT9JSHXX2nLfogilOPQVETCFXMH7zmEZYtpIKFPPqqMXGQZLUk4cWUT8iPYdWhG8cj1ey9qJhSPRnrnjIBiMOwSuuitvGUy9Gbe11FnXuRGIDP32dHU7lYlEuTIAep5hdizEgRZEXThccQTi7aN7tbFlujubwMY7z8Ue6GzcTIZEm0DX091rT7YwOVXr6ymxROKAW4WE0GI4wibNAxcIL42pqmwgNVZDHTXRw\n"
     ]
    },
    {
     "data": {
      "image/png": "[encoded data removed]",
      "text/plain": [
       "<Figure size 432x288 with 1 Axes>"
      ]
     },
     "metadata": {
      "needs_background": "light"
     },
     "output_type": "display_data"
    }
   ],
   "source": [
    "open_brackets = \"{[(\"\n",
    "close_brackets = \"}])\"\n",
    "characters = \"abcdefghijklmnopqrstuvwxyzABCDEFGHIJKLMNOPQRSTUVWXYZ1234567890\"\n",
    "\n",
    "stack_times = []\n",
    "string_lists = []\n",
    "function_times = []\n",
    "\n",
    "for size in sample_sizes:\n",
    "    string = \"\"\n",
    "    for i in range(0,random.randint(0,5)):\n",
    "        string += random.choice(open_brackets)\n",
    "    for i in range(0,size):\n",
    "        string += random.choice(characters)\n",
    "    for i in range(0,random.randint(0,5)):\n",
    "        string += random.choice(close_brackets)\n",
    "    string_lists.append(String(string))\n",
    "# end for\n",
    "\n",
    "for string_list in string_lists:\n",
    "    print(string_list.string)\n",
    "    start_time = time.time()\n",
    "    string_list.is_correct()\n",
    "    time_taken = time.time() - start_time\n",
    "    function_times.append(time_taken)\n",
    "# end for\n",
    "plt.scatter(sample_sizes, function_times)\n",
    "plt.show()"
   ]
  },
  {
   "cell_type": "code",
   "execution_count": 68,
   "id": "920c86f4",
   "metadata": {},
   "outputs": [
    {
     "data": {
      "image/png": "[encoded data removed]",
      "text/plain": [
       "<Figure size 432x288 with 1 Axes>"
      ]
     },
     "metadata": {
      "needs_background": "light"
     },
     "output_type": "display_data"
    }
   ],
   "source": [
    "# Sums\n",
    "\n",
    "stack_times = []\n",
    "number_lists = [[],[]]\n",
    "function_times = []\n",
    "for size in sample_sizes:\n",
    "    n = []\n",
    "    for i in range(0,size):\n",
    "        n.append(random.randint(1, 100))\n",
    "    number_lists[0].append(n)\n",
    "    l = random.randint(0,size)\n",
    "    rsum = sum(n[l:l+random.randint(1,10)])\n",
    "    number_lists[1].append(rsum)\n",
    "# end for\n",
    "\n",
    "for idx,number_list in enumerate(number_lists[0]):\n",
    "    start_time = time.time()\n",
    "    range_in_sum(number_list, number_lists[1][idx])\n",
    "    time_taken = time.time() - start_time\n",
    "    function_times.append(time_taken)\n",
    "# end for\n",
    "plt.scatter(sample_sizes, function_times)\n",
    "plt.show()"
   ]
  },
  {
   "cell_type": "code",
   "execution_count": 69,
   "id": "c3476c77",
   "metadata": {},
   "outputs": [
    {
     "name": "stdout",
     "output_type": "stream",
     "text": [
      "[11, -35, -76, 57, 46, 29, -12, -92, 60, 22, 49, -6, 72, 10, -69, 63, 64, -27, 68, -100, -36, -38, -95, -76, -85, 53, 5, -11, -55, 89, 61, 33, -36, 74, 41, -85, -88, 38, -84, 85, -66, 89, 87, -45, -82, 11, -17, -12, -72, 92]\n"
     ]
    },
    {
     "data": {
      "image/png": "[encoded data removed]",
      "text/plain": [
       "<Figure size 432x288 with 1 Axes>"
      ]
     },
     "metadata": {
      "needs_background": "light"
     },
     "output_type": "display_data"
    }
   ],
   "source": [
    "# The old max sum function\n",
    "\n",
    "\n",
    "number_lists = []\n",
    "function_times = []\n",
    "for size in sample_sizes:\n",
    "    n = []\n",
    "    for i in range(0,size):\n",
    "        n.append(random.randint(-100, 100))\n",
    "    number_lists.append(n)\n",
    "    \n",
    "# end for\n",
    "sums_old = []\n",
    "\n",
    "print(number_lists[0])\n",
    "\n",
    "for number_list in number_lists.copy():\n",
    "    start_time = time.time()\n",
    "    sums_old.append(max_possible_sum_old(number_list))\n",
    "    time_taken = time.time() - start_time\n",
    "    function_times.append(time_taken)\n",
    "# end for\n",
    "plt.scatter(sample_sizes, function_times)\n",
    "plt.show()"
   ]
  },
  {
   "cell_type": "code",
   "execution_count": 70,
   "id": "9a66e0e1",
   "metadata": {
    "scrolled": true
   },
   "outputs": [
    {
     "data": {
      "image/png": "[encoded data removed]",
      "text/plain": [
       "<Figure size 432x288 with 1 Axes>"
      ]
     },
     "metadata": {
      "needs_background": "light"
     },
     "output_type": "display_data"
    }
   ],
   "source": [
    "# The new max sum function\n",
    "function_times = []\n",
    "\n",
    "sums_new = []\n",
    "\n",
    "for number_list in number_lists.copy():\n",
    "    start_time = time.time()\n",
    "    sums_new.append(max_possible_sum_o_n(number_list))\n",
    "    time_taken = time.time() - start_time\n",
    "    function_times.append(time_taken)\n",
    "# end for\n",
    "plt.scatter(sample_sizes, function_times)\n",
    "plt.show()"
   ]
  }
 ],
 "metadata": {
  "kernelspec": {
   "display_name": "Python 3 (ipykernel)",
   "language": "python",
   "name": "python3"
  },
  "language_info": {
   "codemirror_mode": {
    "name": "ipython",
    "version": 3
   },
   "file_extension": ".py",
   "mimetype": "text/x-python",
   "name": "python",
   "nbconvert_exporter": "python",
   "pygments_lexer": "ipython3",
   "version": "3.8.11"
  }
 },
 "nbformat": 4,
 "nbformat_minor": 5
}
