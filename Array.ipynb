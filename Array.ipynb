{
 "cells": [
  {
   "cell_type": "code",
   "execution_count": 9,
   "id": "f5100dbf",
   "metadata": {},
   "outputs": [],
   "source": [
    "class Array:\n",
    "    def __init__(self,array):\n",
    "        self.array = array\n",
    "        self.length = lambda: len(self.array)\n",
    "    # end __inif__\n",
    "    \n",
    "    def is_in(self,array):\n",
    "        start_index = None\n",
    "        if self.length == 0:\n",
    "            return None\n",
    "        else:\n",
    "            if self.array[0] in array:\n",
    "                start_index = array.index(self.array[0])\n",
    "                \n",
    "    \n",
    "                \n",
    "    # end is_in\n",
    "# end Array"
   ]
  },
  {
   "cell_type": "code",
   "execution_count": 11,
   "id": "9b1b35df",
   "metadata": {},
   "outputs": [
    {
     "name": "stdout",
     "output_type": "stream",
     "text": [
      "5\n"
     ]
    }
   ],
   "source": [
    "array = Array([1,2,3,4,5])\n",
    "print(array.length())"
   ]
  },
  {
   "cell_type": "code",
   "execution_count": null,
   "id": "11613a99",
   "metadata": {},
   "outputs": [],
   "source": []
  }
 ],
 "metadata": {
  "kernelspec": {
   "display_name": "Python 3 (ipykernel)",
   "language": "python",
   "name": "python3"
  },
  "language_info": {
   "codemirror_mode": {
    "name": "ipython",
    "version": 3
   },
   "file_extension": ".py",
   "mimetype": "text/x-python",
   "name": "python",
   "nbconvert_exporter": "python",
   "pygments_lexer": "ipython3",
   "version": "3.8.11"
  }
 },
 "nbformat": 4,
 "nbformat_minor": 5
}
