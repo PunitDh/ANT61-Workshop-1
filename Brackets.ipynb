{
 "cells": [
  {
   "cell_type": "code",
   "execution_count": 12,
   "id": "35b5e6f9",
   "metadata": {},
   "outputs": [],
   "source": [
    "from Stack import Stack\n",
    "\n",
    "class String:\n",
    "    def __init__(self, string):\n",
    "        self.string = string\n",
    "        self.brackets = { \"{\" : \"}\", \"[\": \"]\", \"(\": \")\" }\n",
    "    # end __init__\n",
    "    \n",
    "    def is_correct(self):\n",
    "        bracket_stack = Stack(list=[])\n",
    "        bracket_keys = self.brackets.keys()\n",
    "        bracket_values = self.brackets.values()\n",
    "\n",
    "        for letter in self.string:\n",
    "            # If it is an opening bracket, push it onto a stack\n",
    "            if letter in bracket_keys:\n",
    "                bracket_stack.push(letter)\n",
    "            # If it is a closing bracket, check whether the last bracket pushed onto the stack is the corresponding opening bracket\n",
    "            elif letter in bracket_values:\n",
    "                # Get the last bracket from the stack\n",
    "                last_bracket = bracket_stack.pop()\n",
    "\n",
    "                # Compare it to see if it contains the corresponding opening bracket\n",
    "                if last_bracket == None or not letter == self.brackets[last_bracket]:\n",
    "                    return False\n",
    "                # end if\n",
    "            # end if\n",
    "        # end for\n",
    "        return bracket_stack.isEmpty()\n",
    "    # end is_correct\n",
    "    \n",
    "# end String"
   ]
  },
  {
   "cell_type": "code",
   "execution_count": 13,
   "id": "52f009f8",
   "metadata": {},
   "outputs": [],
   "source": [
    "string1 = String(\"{Test String}\")\n",
    "string2 = String(\"{[Another]TestString}\")\n",
    "string3 = String(\"{}}Test_String[]\")"
   ]
  },
  {
   "cell_type": "code",
   "execution_count": 14,
   "id": "5bcd582f",
   "metadata": {},
   "outputs": [
    {
     "name": "stdout",
     "output_type": "stream",
     "text": [
      "True\n"
     ]
    }
   ],
   "source": [
    "print(string1.is_correct())"
   ]
  },
  {
   "cell_type": "code",
   "execution_count": 15,
   "id": "133631bc",
   "metadata": {},
   "outputs": [
    {
     "name": "stdout",
     "output_type": "stream",
     "text": [
      "True\n"
     ]
    }
   ],
   "source": [
    "print(string2.is_correct())"
   ]
  },
  {
   "cell_type": "code",
   "execution_count": 16,
   "id": "13df044f",
   "metadata": {},
   "outputs": [
    {
     "name": "stdout",
     "output_type": "stream",
     "text": [
      "False\n"
     ]
    }
   ],
   "source": [
    "print(string3.is_correct())"
   ]
  },
  {
   "cell_type": "code",
   "execution_count": 17,
   "id": "658b7a32",
   "metadata": {},
   "outputs": [
    {
     "name": "stdout",
     "output_type": "stream",
     "text": [
      "False\n"
     ]
    }
   ],
   "source": [
    "print(String(\"}}}}}}}\").is_correct())"
   ]
  },
  {
   "cell_type": "code",
   "execution_count": 18,
   "id": "14ca6408",
   "metadata": {},
   "outputs": [
    {
     "name": "stdout",
     "output_type": "stream",
     "text": [
      "True\n"
     ]
    }
   ],
   "source": [
    "print(String(\"{{{{{{{}}}}}}}\").is_correct())"
   ]
  },
  {
   "cell_type": "code",
   "execution_count": 19,
   "id": "014d04fb",
   "metadata": {
    "scrolled": true
   },
   "outputs": [
    {
     "name": "stdout",
     "output_type": "stream",
     "text": [
      "False\n"
     ]
    }
   ],
   "source": [
    "print(String(\"}[[[][]]]}}}}}}\").is_correct())"
   ]
  },
  {
   "cell_type": "code",
   "execution_count": 20,
   "id": "bc49ec3b",
   "metadata": {},
   "outputs": [
    {
     "name": "stdout",
     "output_type": "stream",
     "text": [
      "True\n"
     ]
    }
   ],
   "source": [
    "print(String(\"{[()]}\").is_correct())"
   ]
  },
  {
   "cell_type": "code",
   "execution_count": 21,
   "id": "c02ffbfd",
   "metadata": {},
   "outputs": [
    {
     "name": "stdout",
     "output_type": "stream",
     "text": [
      "False\n"
     ]
    }
   ],
   "source": [
    "print(String(\"]][[\").is_correct())"
   ]
  },
  {
   "cell_type": "code",
   "execution_count": 22,
   "id": "ac61fd24",
   "metadata": {},
   "outputs": [
    {
     "name": "stdout",
     "output_type": "stream",
     "text": [
      "True\n"
     ]
    }
   ],
   "source": [
    "print(String(\"{Te[s](t)}\").is_correct())"
   ]
  }
 ],
 "metadata": {
  "interpreter": {
   "hash": "24e23733849d75d10a972f75329203b06b1df2bea262b6790375b836aacedb16"
  },
  "kernelspec": {
   "display_name": "Python 3 (ipykernel)",
   "language": "python",
   "name": "python3"
  },
  "language_info": {
   "codemirror_mode": {
    "name": "ipython",
    "version": 3
   },
   "file_extension": ".py",
   "mimetype": "text/x-python",
   "name": "python",
   "nbconvert_exporter": "python",
   "pygments_lexer": "ipython3",
   "version": "3.8.11"
  }
 },
 "nbformat": 4,
 "nbformat_minor": 5
}
