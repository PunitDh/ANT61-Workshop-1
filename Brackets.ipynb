{
 "cells": [
  {
   "cell_type": "code",
   "execution_count": 58,
   "source": [
    "from Stack import Stack\n",
    "\n",
    "class String:\n",
    "    def __init__(self, string):\n",
    "        self.string = string\n",
    "        self.brackets = { \"{\" : \"}\", \"[\": \"]\", \"(\": \")\" }\n",
    "    # end __init__\n",
    "    \n",
    "    def is_correct(self):\n",
    "        bracket_stack = Stack(list=[])\n",
    "        bracket_keys = self.brackets.keys()\n",
    "        bracket_values = self.brackets.values()\n",
    "\n",
    "        for letter in self.string:\n",
    "            # If it is an opening bracket, push it onto a stack\n",
    "            if letter in bracket_keys:\n",
    "                bracket_stack.push(letter)\n",
    "            # If it is a closing bracket, check whether the last bracket pushed onto the stack is the corresponding opening bracket\n",
    "            elif letter in bracket_values:\n",
    "                # Get the last bracket from the stack\n",
    "                last_bracket = bracket_stack.pop()\n",
    "\n",
    "                # Compare it to see if it contains the corresponding opening bracket\n",
    "                if last_bracket == False or not letter == self.brackets[last_bracket]:\n",
    "                    return False\n",
    "                # end if\n",
    "            # end if\n",
    "        # end for\n",
    "        return (bracket_stack.length() == 0)\n",
    "    # end is_correct\n",
    "    \n",
    "# end String"
   ],
   "outputs": [],
   "metadata": {}
  },
  {
   "cell_type": "code",
   "execution_count": 59,
   "source": [
    "string1 = String(\"{Test String}\")\n",
    "string2 = String(\"{[Another]TestString}\")\n",
    "string3 = String(\"{}}TESTString3[]\")"
   ],
   "outputs": [],
   "metadata": {}
  },
  {
   "cell_type": "code",
   "execution_count": 60,
   "source": [
    "print(string1.is_correct())"
   ],
   "outputs": [
    {
     "output_type": "stream",
     "name": "stdout",
     "text": [
      "True\n"
     ]
    }
   ],
   "metadata": {}
  },
  {
   "cell_type": "code",
   "execution_count": 61,
   "source": [
    "print(string2.is_correct())"
   ],
   "outputs": [
    {
     "output_type": "stream",
     "name": "stdout",
     "text": [
      "True\n"
     ]
    }
   ],
   "metadata": {}
  },
  {
   "cell_type": "code",
   "execution_count": 62,
   "source": [
    "print(string3.is_correct())"
   ],
   "outputs": [
    {
     "output_type": "stream",
     "name": "stdout",
     "text": [
      "False\n"
     ]
    }
   ],
   "metadata": {}
  },
  {
   "cell_type": "code",
   "execution_count": 63,
   "source": [
    "print(String(\"}}}}}}}\").is_correct())"
   ],
   "outputs": [
    {
     "output_type": "stream",
     "name": "stdout",
     "text": [
      "False\n"
     ]
    }
   ],
   "metadata": {}
  },
  {
   "cell_type": "code",
   "execution_count": 64,
   "source": [
    "print(String(\"{{{{{{{}}}}}}}\").is_correct())"
   ],
   "outputs": [
    {
     "output_type": "stream",
     "name": "stdout",
     "text": [
      "True\n"
     ]
    }
   ],
   "metadata": {}
  },
  {
   "cell_type": "code",
   "execution_count": 65,
   "source": [
    "print(String(\"}[[[][]]]}}}}}}\").is_correct())"
   ],
   "outputs": [
    {
     "output_type": "stream",
     "name": "stdout",
     "text": [
      "False\n"
     ]
    }
   ],
   "metadata": {}
  },
  {
   "cell_type": "code",
   "execution_count": 66,
   "source": [
    "print(String(\"{[()]}\").is_correct())"
   ],
   "outputs": [
    {
     "output_type": "stream",
     "name": "stdout",
     "text": [
      "True\n"
     ]
    }
   ],
   "metadata": {}
  },
  {
   "cell_type": "code",
   "execution_count": 67,
   "source": [
    "print(String(\"]][[\").is_correct())"
   ],
   "outputs": [
    {
     "output_type": "stream",
     "name": "stdout",
     "text": [
      "False\n"
     ]
    }
   ],
   "metadata": {}
  },
  {
   "cell_type": "code",
   "execution_count": 68,
   "source": [
    "print(String(\"{Te[s](t)}\").is_correct())"
   ],
   "outputs": [
    {
     "output_type": "stream",
     "name": "stdout",
     "text": [
      "True\n"
     ]
    }
   ],
   "metadata": {}
  }
 ],
 "metadata": {
  "kernelspec": {
   "name": "python3",
   "display_name": "Python 3.8.11 64-bit ('base': conda)"
  },
  "language_info": {
   "codemirror_mode": {
    "name": "ipython",
    "version": 3
   },
   "file_extension": ".py",
   "mimetype": "text/x-python",
   "name": "python",
   "nbconvert_exporter": "python",
   "pygments_lexer": "ipython3",
   "version": "3.8.11"
  },
  "interpreter": {
   "hash": "24e23733849d75d10a972f75329203b06b1df2bea262b6790375b836aacedb16"
  }
 },
 "nbformat": 4,
 "nbformat_minor": 5
}