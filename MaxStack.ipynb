{
 "cells": [
  {
   "cell_type": "code",
   "execution_count": 20,
   "id": "c3906ade",
   "metadata": {},
   "outputs": [],
   "source": [
    "class MaxStack:\n",
    "    def __init__(self, ls):\n",
    "        self.list = ls\n",
    "        self.list.sort(reverse = True)\n",
    "        self.max = self.list[0]\n",
    "    # end __init__\n",
    "# end MaxStack"
   ]
  },
  {
   "cell_type": "code",
   "execution_count": 21,
   "id": "90bfafa4",
   "metadata": {},
   "outputs": [
    {
     "name": "stdout",
     "output_type": "stream",
     "text": [
      "<__main__.MaxStack object at 0x7f798ddb5a60>\n",
      "66\n"
     ]
    }
   ],
   "source": [
    "maxstack = MaxStack([11,3,44,55,66,8])"
   ]
  },
  {
   "cell_type": "code",
   "execution_count": null,
   "id": "82a23966",
   "metadata": {},
   "outputs": [],
   "source": []
  }
 ],
 "metadata": {
  "kernelspec": {
   "display_name": "Python 3 (ipykernel)",
   "language": "python",
   "name": "python3"
  },
  "language_info": {
   "codemirror_mode": {
    "name": "ipython",
    "version": 3
   },
   "file_extension": ".py",
   "mimetype": "text/x-python",
   "name": "python",
   "nbconvert_exporter": "python",
   "pygments_lexer": "ipython3",
   "version": "3.8.11"
  }
 },
 "nbformat": 4,
 "nbformat_minor": 5
}
