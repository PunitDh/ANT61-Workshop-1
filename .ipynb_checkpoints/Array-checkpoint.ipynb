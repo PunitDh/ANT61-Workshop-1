{
 "cells": [
  {
   "cell_type": "code",
   "execution_count": null,
   "id": "553814f6",
   "metadata": {},
   "outputs": [],
   "source": [
    "class Array:\n",
    "    def __init__(self,array):\n",
    "        self.array = array\n",
    "        self.length = len(array)\n",
    "        self.first = array[0] if self.length > 0 else None\n",
    "        self.last = array[-1] if self.length > 0 else None\n",
    "    # end __inif__\n",
    "    \n",
    "    def is_in(self,array):\n",
    "        start_index = None\n",
    "        if self.length == 0:\n",
    "            return None\n",
    "        else:\n",
    "            \n",
    "        for i,item in enumerate(self.array):\n",
    "            if item in self.array:\n",
    "                start_index = i\n",
    "                \n",
    "    # end is_in\n",
    "# end Array"
   ]
  }
 ],
 "metadata": {
  "kernelspec": {
   "display_name": "Python 3 (ipykernel)",
   "language": "python",
   "name": "python3"
  },
  "language_info": {
   "codemirror_mode": {
    "name": "ipython",
    "version": 3
   },
   "file_extension": ".py",
   "mimetype": "text/x-python",
   "name": "python",
   "nbconvert_exporter": "python",
   "pygments_lexer": "ipython3",
   "version": "3.8.11"
  }
 },
 "nbformat": 4,
 "nbformat_minor": 5
}
