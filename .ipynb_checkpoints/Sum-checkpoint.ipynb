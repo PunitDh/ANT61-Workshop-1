{
 "cells": [
  {
   "cell_type": "code",
   "execution_count": 1,
   "id": "ac3a2a5a",
   "metadata": {},
   "outputs": [],
   "source": [
    "# Implement a program such that:\n",
    "# a1,a2,..., an are part of N (natural numbers)\n",
    "# S is the sum\n",
    "# Implement a program that would find l and r\n",
    "# Such that:\n",
    "# l >= 1\n",
    "# r is greater than l but less than the number of elements\n",
    "# Sum of all 'a' elements between l-th element all the way up to the r-th elements are equal to S\n"
   ]
  },
  {
   "cell_type": "code",
   "execution_count": 2,
   "id": "4f2fc920",
   "metadata": {},
   "outputs": [],
   "source": [
    "n_list = [34,56,23,57,18,93,12,62]\n",
    "\n",
    "sum = 112"
   ]
  },
  {
   "cell_type": "code",
   "execution_count": 3,
   "id": "caa56745",
   "metadata": {},
   "outputs": [
    {
     "name": "stdout",
     "output_type": "stream",
     "text": [
      "[34, 56, 23, 57, 18, 93, 12, 62]\n"
     ]
    }
   ],
   "source": [
    "\n",
    "print(n_list)"
   ]
  },
  {
   "cell_type": "code",
   "execution_count": 4,
   "id": "930e435a",
   "metadata": {},
   "outputs": [
    {
     "name": "stdout",
     "output_type": "stream",
     "text": [
      "113\n",
      "2\n"
     ]
    }
   ],
   "source": [
    "current_sum = 0\n",
    "current_index = 0\n",
    "length = len(n_list)\n",
    "current_index = None\n",
    "for index, item in enumerate(n_list):\n",
    "    if current_sum >= sum:\n",
    "        break\n",
    "    else:\n",
    "        current_sum += item\n",
    "        current_index = index\n",
    "    # end if\n",
    "# end for\n",
    "\n",
    "print(current_sum)\n",
    "print(current_index)"
   ]
  },
  {
   "cell_type": "code",
   "execution_count": 5,
   "id": "f100bf4d",
   "metadata": {},
   "outputs": [
    {
     "name": "stdout",
     "output_type": "stream",
     "text": [
      "[-64, -63, -46, -34, -23, -13, 14, 28, 34, 53, 64, 83, 86]\n"
     ]
    }
   ],
   "source": [
    "z_list = [-13,-46,-63,28,83,14,86,34,64,-64,-23,53,-34]\n",
    "z_list.sort()\n",
    "print(z_list)\n",
    "# for index, item in enumerate(z_list):\n",
    "    "
   ]
  },
  {
   "cell_type": "code",
   "execution_count": null,
   "id": "9b999983",
   "metadata": {},
   "outputs": [],
   "source": []
  }
 ],
 "metadata": {
  "kernelspec": {
   "display_name": "Python 3",
   "language": "python",
   "name": "python3"
  },
  "language_info": {
   "codemirror_mode": {
    "name": "ipython",
    "version": 3
   },
   "file_extension": ".py",
   "mimetype": "text/x-python",
   "name": "python",
   "nbconvert_exporter": "python",
   "pygments_lexer": "ipython3",
   "version": "3.8.11"
  }
 },
 "nbformat": 4,
 "nbformat_minor": 5
}
