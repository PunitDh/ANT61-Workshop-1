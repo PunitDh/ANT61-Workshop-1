{
 "cells": [
  {
   "cell_type": "code",
   "execution_count": 21,
   "id": "24e617bb",
   "metadata": {},
   "outputs": [],
   "source": [
    "class TwoSidedStack:\n",
    "    def __init__(self, list):\n",
    "        self.list = list\n",
    "        self.max = lambda: max(self.list)\n",
    "        self.sum = lambda: sum(self.list)\n",
    "        self.length = lambda: len(self.list)\n",
    "    # end __init__\n",
    "    \n",
    "    def pop_bottom(self):\n",
    "        item = self.list[0]\n",
    "        del(self.list[0])\n",
    "        return item\n",
    "    # end pop_bottom()\n",
    "    \n",
    "    def pop_top(self):\n",
    "        item = self.list[-1]\n",
    "        del(self.list[-1])\n",
    "        return item\n",
    "    \n",
    "    def get(self,ind):\n",
    "        return self.list[ind]\n",
    "    # end pop_top()"
   ]
  },
  {
   "cell_type": "code",
   "execution_count": 17,
   "id": "e2367ca2",
   "metadata": {},
   "outputs": [
    {
     "name": "stdout",
     "output_type": "stream",
     "text": [
      "-30\n",
      "37\n",
      "-3\n",
      "40\n"
     ]
    }
   ],
   "source": [
    "two_sided_stack = TwoSidedStack([-3,-4,19,-6,2,8,4,6,-3,6,8,-30])\n",
    "\n",
    "print(two_sided_stack.pop_top())\n",
    "print(two_sided_stack.sum())\n",
    "print(two_sided_stack.pop_bottom())\n",
    "print(two_sided_stack.sum())"
   ]
  },
  {
   "cell_type": "code",
   "execution_count": 18,
   "id": "6e53408d",
   "metadata": {},
   "outputs": [
    {
     "name": "stdout",
     "output_type": "stream",
     "text": [
      "[-4, 19, -6, 2, 8, 4, 6, -3, 6, 8]\n"
     ]
    }
   ],
   "source": [
    "print(two_sided_stack.list)"
   ]
  },
  {
   "cell_type": "code",
   "execution_count": 19,
   "id": "8eb4a51c",
   "metadata": {},
   "outputs": [
    {
     "name": "stdout",
     "output_type": "stream",
     "text": [
      "40\n"
     ]
    }
   ],
   "source": [
    "print(two_sided_stack.sum())"
   ]
  },
  {
   "cell_type": "code",
   "execution_count": 20,
   "id": "060fd720",
   "metadata": {},
   "outputs": [
    {
     "name": "stdout",
     "output_type": "stream",
     "text": [
      "2\n"
     ]
    }
   ],
   "source": [
    "print(two_sided_stack.get(3))"
   ]
  },
  {
   "cell_type": "code",
   "execution_count": null,
   "id": "d3aa590f",
   "metadata": {},
   "outputs": [],
   "source": []
  }
 ],
 "metadata": {
  "kernelspec": {
   "display_name": "Python 3 (ipykernel)",
   "language": "python",
   "name": "python3"
  },
  "language_info": {
   "codemirror_mode": {
    "name": "ipython",
    "version": 3
   },
   "file_extension": ".py",
   "mimetype": "text/x-python",
   "name": "python",
   "nbconvert_exporter": "python",
   "pygments_lexer": "ipython3",
   "version": "3.8.11"
  }
 },
 "nbformat": 4,
 "nbformat_minor": 5
}
